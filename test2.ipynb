{
 "cells": [
  {
   "cell_type": "code",
   "execution_count": 1,
   "metadata": {},
   "outputs": [],
   "source": [
    "%load_ext autoreload\n",
    "%autoreload 2"
   ]
  },
  {
   "cell_type": "code",
   "execution_count": 49,
   "metadata": {},
   "outputs": [
    {
     "name": "stdout",
     "output_type": "stream",
     "text": [
      "I am a classifier that classifies the sentiment of a given text as positive or negative.\n",
      "\n",
      "=====\n",
      "\n",
      "Classify the sentiment of the following text as positive or negative. Provide your reasoning for the answer. Repeat the question before you answer.\n",
      "\n",
      "=====\n",
      "\n",
      "Format:\n",
      "\n",
      "Context: Context\n",
      "\n",
      "Reasoning: Reasoning for the answer\n",
      "\n",
      "Answer: Answer as positive or negative only\n",
      "\n",
      "=====\n",
      "\n",
      "Context: I am satisfied with the product\n",
      "\n",
      "Reasoning: \n"
     ]
    }
   ],
   "source": [
    "from AutoLLM.prompt_generators.classifier_prompt_generator import ClassifierPromptGenerator\n",
    "\n",
    "config = {\n",
    "    \"sample_subprompt\": [\n",
    "        {\n",
    "            \"name\": \"Context\",\n",
    "            \"description\": \"Context\",\n",
    "        },\n",
    "        {\n",
    "            \"name\": \"Reasoning\",\n",
    "            \"description\": \"Reasoning for the answer\",\n",
    "        },\n",
    "        {\n",
    "            \"name\": \"Answer\",\n",
    "            \"description\": \"Answer as positive or negative only\",\n",
    "        }\n",
    "    ],\n",
    "    \"chat\": False,\n",
    "    \"separator\": \"\\n\\n=====\\n\\n\",\n",
    "}\n",
    "few_shot_examples = [\n",
    "    {\n",
    "        \"Context\": \"I am happy\",\n",
    "        \"Reasoning\": \"The label is positive because of the word happy.\",\n",
    "        \"Answer\": \"positive\"\n",
    "    },\n",
    "    {\n",
    "        \"Context\": \"I am angry\",\n",
    "        \"Reasoning\": \"The label is negative because of the word angry.\",\n",
    "        \"Answer\": \"negative\"\n",
    "    },\n",
    "    {\n",
    "        \"Context\": \"I am sad\",\n",
    "        \"Reasoning\": \"The label is negative because of the word sad.\",\n",
    "        \"Answer\": \"negative\"\n",
    "    },\n",
    "]\n",
    "\n",
    "input = {\n",
    "    \"Context\": \"I am satisfied with the product\",\n",
    "}\n",
    "\n",
    "cpg = ClassifierPromptGenerator()\n",
    "cpg.load_config(config)\n",
    "cpg.load_library()\n",
    "\n",
    "cpg.build_component_system_message('I am a classifier that classifies the sentiment of a given text as positive or negative.')\n",
    "cpg.build_component_instruction(\n",
    "    instruction='Classify the sentiment of the following text as positive or negative.',\n",
    "    chain_of_thought='Provide your reasoning for the answer.',\n",
    "    echo='Repeat the question before you answer.',\n",
    ")\n",
    "cpg.build_component_format()\n",
    "# cpg.build_component_few_shot_examples(few_shot_examples)\n",
    "cpg.build_component_input_text(input)\n",
    "cpg.build_component_guide()\n",
    "print(cpg.build_prompt())\n",
    "\n",
    "# cpg.sample_subprompt.build_multiple_examples(few_shot_examples)"
   ]
  },
  {
   "cell_type": "code",
   "execution_count": null,
   "metadata": {},
   "outputs": [],
   "source": [
    "# config = {\n",
    "    \"instruction\": \"\"\n",
    "}"
   ]
  }
 ],
 "metadata": {
  "kernelspec": {
   "display_name": "Python 3",
   "language": "python",
   "name": "python3"
  },
  "language_info": {
   "codemirror_mode": {
    "name": "ipython",
    "version": 3
   },
   "file_extension": ".py",
   "mimetype": "text/x-python",
   "name": "python",
   "nbconvert_exporter": "python",
   "pygments_lexer": "ipython3",
   "version": "3.8.6"
  }
 },
 "nbformat": 4,
 "nbformat_minor": 2
}
