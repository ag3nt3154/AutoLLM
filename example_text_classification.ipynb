{
 "cells": [
  {
   "cell_type": "code",
   "execution_count": 2,
   "metadata": {},
   "outputs": [],
   "source": [
    "%load_ext autoreload\n",
    "%autoreload 2"
   ]
  },
  {
   "cell_type": "markdown",
   "metadata": {},
   "source": [
    "# Text Classification Task\n",
    "\n",
    "E-commerce text classification using data from kaggle"
   ]
  },
  {
   "cell_type": "markdown",
   "metadata": {},
   "source": [
    "# Dataset"
   ]
  },
  {
   "cell_type": "code",
   "execution_count": 8,
   "metadata": {},
   "outputs": [
    {
     "data": {
      "text/html": [
       "<div>\n",
       "<style scoped>\n",
       "    .dataframe tbody tr th:only-of-type {\n",
       "        vertical-align: middle;\n",
       "    }\n",
       "\n",
       "    .dataframe tbody tr th {\n",
       "        vertical-align: top;\n",
       "    }\n",
       "\n",
       "    .dataframe thead th {\n",
       "        text-align: right;\n",
       "    }\n",
       "</style>\n",
       "<table border=\"1\" class=\"dataframe\">\n",
       "  <thead>\n",
       "    <tr style=\"text-align: right;\">\n",
       "      <th></th>\n",
       "      <th>label</th>\n",
       "      <th>text</th>\n",
       "    </tr>\n",
       "  </thead>\n",
       "  <tbody>\n",
       "    <tr>\n",
       "      <th>0</th>\n",
       "      <td>Household</td>\n",
       "      <td>Paper Plane Design Framed Wall Hanging Motivat...</td>\n",
       "    </tr>\n",
       "    <tr>\n",
       "      <th>1</th>\n",
       "      <td>Household</td>\n",
       "      <td>SAF 'Floral' Framed Painting (Wood, 30 inch x ...</td>\n",
       "    </tr>\n",
       "    <tr>\n",
       "      <th>2</th>\n",
       "      <td>Household</td>\n",
       "      <td>SAF 'UV Textured Modern Art Print Framed' Pain...</td>\n",
       "    </tr>\n",
       "    <tr>\n",
       "      <th>3</th>\n",
       "      <td>Household</td>\n",
       "      <td>SAF Flower Print Framed Painting (Synthetic, 1...</td>\n",
       "    </tr>\n",
       "    <tr>\n",
       "      <th>4</th>\n",
       "      <td>Household</td>\n",
       "      <td>Incredible Gifts India Wooden Happy Birthday U...</td>\n",
       "    </tr>\n",
       "    <tr>\n",
       "      <th>...</th>\n",
       "      <td>...</td>\n",
       "      <td>...</td>\n",
       "    </tr>\n",
       "    <tr>\n",
       "      <th>50420</th>\n",
       "      <td>Electronics</td>\n",
       "      <td>Strontium MicroSD Class 10 8GB Memory Card (Bl...</td>\n",
       "    </tr>\n",
       "    <tr>\n",
       "      <th>50421</th>\n",
       "      <td>Electronics</td>\n",
       "      <td>CrossBeats Wave Waterproof Bluetooth Wireless ...</td>\n",
       "    </tr>\n",
       "    <tr>\n",
       "      <th>50422</th>\n",
       "      <td>Electronics</td>\n",
       "      <td>Karbonn Titanium Wind W4 (White) Karbonn Titan...</td>\n",
       "    </tr>\n",
       "    <tr>\n",
       "      <th>50423</th>\n",
       "      <td>Electronics</td>\n",
       "      <td>Samsung Guru FM Plus (SM-B110E/D, Black) Colou...</td>\n",
       "    </tr>\n",
       "    <tr>\n",
       "      <th>50424</th>\n",
       "      <td>Electronics</td>\n",
       "      <td>Micromax Canvas Win W121 (White)</td>\n",
       "    </tr>\n",
       "  </tbody>\n",
       "</table>\n",
       "<p>50425 rows × 2 columns</p>\n",
       "</div>"
      ],
      "text/plain": [
       "             label                                               text\n",
       "0        Household  Paper Plane Design Framed Wall Hanging Motivat...\n",
       "1        Household  SAF 'Floral' Framed Painting (Wood, 30 inch x ...\n",
       "2        Household  SAF 'UV Textured Modern Art Print Framed' Pain...\n",
       "3        Household  SAF Flower Print Framed Painting (Synthetic, 1...\n",
       "4        Household  Incredible Gifts India Wooden Happy Birthday U...\n",
       "...            ...                                                ...\n",
       "50420  Electronics  Strontium MicroSD Class 10 8GB Memory Card (Bl...\n",
       "50421  Electronics  CrossBeats Wave Waterproof Bluetooth Wireless ...\n",
       "50422  Electronics  Karbonn Titanium Wind W4 (White) Karbonn Titan...\n",
       "50423  Electronics  Samsung Guru FM Plus (SM-B110E/D, Black) Colou...\n",
       "50424  Electronics                   Micromax Canvas Win W121 (White)\n",
       "\n",
       "[50425 rows x 2 columns]"
      ]
     },
     "execution_count": 8,
     "metadata": {},
     "output_type": "execute_result"
    }
   ],
   "source": [
    "import pandas as pd\n",
    "\n",
    "df_data = pd.read_pickle('./data/Ecommerce/ecommerce_classification_dataset.pkl')\n",
    "possible_labels = list(df_data['label'].unique())\n",
    "df_data"
   ]
  },
  {
   "cell_type": "markdown",
   "metadata": {},
   "source": [
    "## Train-test-split"
   ]
  },
  {
   "cell_type": "code",
   "execution_count": 7,
   "metadata": {},
   "outputs": [
    {
     "data": {
      "text/html": [
       "<div>\n",
       "<style scoped>\n",
       "    .dataframe tbody tr th:only-of-type {\n",
       "        vertical-align: middle;\n",
       "    }\n",
       "\n",
       "    .dataframe tbody tr th {\n",
       "        vertical-align: top;\n",
       "    }\n",
       "\n",
       "    .dataframe thead th {\n",
       "        text-align: right;\n",
       "    }\n",
       "</style>\n",
       "<table border=\"1\" class=\"dataframe\">\n",
       "  <thead>\n",
       "    <tr style=\"text-align: right;\">\n",
       "      <th></th>\n",
       "      <th>label</th>\n",
       "      <th>text</th>\n",
       "    </tr>\n",
       "  </thead>\n",
       "  <tbody>\n",
       "    <tr>\n",
       "      <th>13603</th>\n",
       "      <td>Household</td>\n",
       "      <td>Pigeon Popcorn Maker, 1200watts, Yellow No mov...</td>\n",
       "    </tr>\n",
       "    <tr>\n",
       "      <th>44708</th>\n",
       "      <td>Electronics</td>\n",
       "      <td>boAt BassHeads 225 in-Ear Super Extra Bass Hea...</td>\n",
       "    </tr>\n",
       "    <tr>\n",
       "      <th>13340</th>\n",
       "      <td>Household</td>\n",
       "      <td>Prestige PIC 3.1 V3 2000-Watt Induction Cookto...</td>\n",
       "    </tr>\n",
       "    <tr>\n",
       "      <th>26583</th>\n",
       "      <td>Books</td>\n",
       "      <td>Think &amp; Grow Rich - Lectures by Napoleon Hill ...</td>\n",
       "    </tr>\n",
       "    <tr>\n",
       "      <th>44130</th>\n",
       "      <td>Electronics</td>\n",
       "      <td>DeckUp Meritus-S Wall TV Unit (Dark Wenge, Mat...</td>\n",
       "    </tr>\n",
       "    <tr>\n",
       "      <th>18908</th>\n",
       "      <td>Household</td>\n",
       "      <td>Black+Decker Hand Tool Kit (108-Piece), Orange...</td>\n",
       "    </tr>\n",
       "    <tr>\n",
       "      <th>20173</th>\n",
       "      <td>Books</td>\n",
       "      <td>Alibaba: The House that Jack Ma Built Review “...</td>\n",
       "    </tr>\n",
       "    <tr>\n",
       "      <th>31485</th>\n",
       "      <td>Clothing &amp; Accessories</td>\n",
       "      <td>Baby Boy/Girl Romper Newborn Jumpsuit Blue Hoo...</td>\n",
       "    </tr>\n",
       "    <tr>\n",
       "      <th>34088</th>\n",
       "      <td>Clothing &amp; Accessories</td>\n",
       "      <td>S4S Men's 100% Cotton Premium Collection Handk...</td>\n",
       "    </tr>\n",
       "    <tr>\n",
       "      <th>11222</th>\n",
       "      <td>Household</td>\n",
       "      <td>Kraft Seeds Multipurpose Kitchen Household and...</td>\n",
       "    </tr>\n",
       "  </tbody>\n",
       "</table>\n",
       "</div>"
      ],
      "text/plain": [
       "                        label  \\\n",
       "13603               Household   \n",
       "44708             Electronics   \n",
       "13340               Household   \n",
       "26583                   Books   \n",
       "44130             Electronics   \n",
       "18908               Household   \n",
       "20173                   Books   \n",
       "31485  Clothing & Accessories   \n",
       "34088  Clothing & Accessories   \n",
       "11222               Household   \n",
       "\n",
       "                                                    text  \n",
       "13603  Pigeon Popcorn Maker, 1200watts, Yellow No mov...  \n",
       "44708  boAt BassHeads 225 in-Ear Super Extra Bass Hea...  \n",
       "13340  Prestige PIC 3.1 V3 2000-Watt Induction Cookto...  \n",
       "26583  Think & Grow Rich - Lectures by Napoleon Hill ...  \n",
       "44130  DeckUp Meritus-S Wall TV Unit (Dark Wenge, Mat...  \n",
       "18908  Black+Decker Hand Tool Kit (108-Piece), Orange...  \n",
       "20173  Alibaba: The House that Jack Ma Built Review “...  \n",
       "31485  Baby Boy/Girl Romper Newborn Jumpsuit Blue Hoo...  \n",
       "34088  S4S Men's 100% Cotton Premium Collection Handk...  \n",
       "11222  Kraft Seeds Multipurpose Kitchen Household and...  "
      ]
     },
     "metadata": {},
     "output_type": "display_data"
    },
    {
     "data": {
      "text/html": [
       "<div>\n",
       "<style scoped>\n",
       "    .dataframe tbody tr th:only-of-type {\n",
       "        vertical-align: middle;\n",
       "    }\n",
       "\n",
       "    .dataframe tbody tr th {\n",
       "        vertical-align: top;\n",
       "    }\n",
       "\n",
       "    .dataframe thead th {\n",
       "        text-align: right;\n",
       "    }\n",
       "</style>\n",
       "<table border=\"1\" class=\"dataframe\">\n",
       "  <thead>\n",
       "    <tr style=\"text-align: right;\">\n",
       "      <th></th>\n",
       "      <th>label</th>\n",
       "      <th>text</th>\n",
       "    </tr>\n",
       "  </thead>\n",
       "  <tbody>\n",
       "    <tr>\n",
       "      <th>24728</th>\n",
       "      <td>Books</td>\n",
       "      <td>UGC Net Education About the Author An editoria...</td>\n",
       "    </tr>\n",
       "    <tr>\n",
       "      <th>29641</th>\n",
       "      <td>Books</td>\n",
       "      <td>Oswaal Karnataka SSLC Question Bank Class 10 S...</td>\n",
       "    </tr>\n",
       "    <tr>\n",
       "      <th>9408</th>\n",
       "      <td>Household</td>\n",
       "      <td>Chef Direct Stainless Steel Dome Lid with Knob...</td>\n",
       "    </tr>\n",
       "    <tr>\n",
       "      <th>6530</th>\n",
       "      <td>Household</td>\n",
       "      <td>JDX Reliance Fiber Filler Cushion, 16X16 Inch,...</td>\n",
       "    </tr>\n",
       "    <tr>\n",
       "      <th>5667</th>\n",
       "      <td>Household</td>\n",
       "      <td>Magideal 2x Silky Soft Satin Standard Pillow C...</td>\n",
       "    </tr>\n",
       "    <tr>\n",
       "      <th>...</th>\n",
       "      <td>...</td>\n",
       "      <td>...</td>\n",
       "    </tr>\n",
       "    <tr>\n",
       "      <th>46826</th>\n",
       "      <td>Electronics</td>\n",
       "      <td>Canon EOS 1500D Digital SLR Camera (Black) wit...</td>\n",
       "    </tr>\n",
       "    <tr>\n",
       "      <th>15524</th>\n",
       "      <td>Household</td>\n",
       "      <td>Philips GC504/35 1600-Watt Garment Steamer (Pi...</td>\n",
       "    </tr>\n",
       "    <tr>\n",
       "      <th>48524</th>\n",
       "      <td>Electronics</td>\n",
       "      <td>LONPOO Compact HD DVD Player All Region Free (...</td>\n",
       "    </tr>\n",
       "    <tr>\n",
       "      <th>49605</th>\n",
       "      <td>Electronics</td>\n",
       "      <td>Intex IT-PB12.5K 12500 mAH Power Bank (Black-R...</td>\n",
       "    </tr>\n",
       "    <tr>\n",
       "      <th>25044</th>\n",
       "      <td>Books</td>\n",
       "      <td>The Everything Kids' Learning French Book: Fun...</td>\n",
       "    </tr>\n",
       "  </tbody>\n",
       "</table>\n",
       "<p>50415 rows × 2 columns</p>\n",
       "</div>"
      ],
      "text/plain": [
       "             label                                               text\n",
       "24728        Books  UGC Net Education About the Author An editoria...\n",
       "29641        Books  Oswaal Karnataka SSLC Question Bank Class 10 S...\n",
       "9408     Household  Chef Direct Stainless Steel Dome Lid with Knob...\n",
       "6530     Household  JDX Reliance Fiber Filler Cushion, 16X16 Inch,...\n",
       "5667     Household  Magideal 2x Silky Soft Satin Standard Pillow C...\n",
       "...            ...                                                ...\n",
       "46826  Electronics  Canon EOS 1500D Digital SLR Camera (Black) wit...\n",
       "15524    Household  Philips GC504/35 1600-Watt Garment Steamer (Pi...\n",
       "48524  Electronics  LONPOO Compact HD DVD Player All Region Free (...\n",
       "49605  Electronics  Intex IT-PB12.5K 12500 mAH Power Bank (Black-R...\n",
       "25044        Books  The Everything Kids' Learning French Book: Fun...\n",
       "\n",
       "[50415 rows x 2 columns]"
      ]
     },
     "metadata": {},
     "output_type": "display_data"
    }
   ],
   "source": [
    "from AutoLLM.utils.helpers import split_dataframe\n",
    "\n",
    "df_train, df_test = split_dataframe(df_data, 10 / df_data.shape[0], 42, 'label')\n",
    "display(df_test)\n",
    "display(df_train)"
   ]
  },
  {
   "cell_type": "markdown",
   "metadata": {},
   "source": [
    "# Simple classification"
   ]
  },
  {
   "cell_type": "markdown",
   "metadata": {},
   "source": [
    "## Classification agent"
   ]
  },
  {
   "cell_type": "code",
   "execution_count": 17,
   "metadata": {},
   "outputs": [
    {
     "data": {
      "application/vnd.jupyter.widget-view+json": {
       "model_id": "61ac0b74df3648a386e7f7ba9f542820",
       "version_major": 2,
       "version_minor": 0
      },
      "text/plain": [
       "  0%|          | 0/10 [00:00<?, ?it/s]"
      ]
     },
     "metadata": {},
     "output_type": "display_data"
    },
    {
     "name": "stdout",
     "output_type": "stream",
     "text": [
      "['Household', 'Electronics', 'Electronics', 'Books', 'Household', 'Household', 'Household', 'Household', 'Clothing & Accessories', 'Household']\n"
     ]
    },
    {
     "data": {
      "application/vnd.jupyter.widget-view+json": {
       "model_id": "130466c0a8eb4c38ba2a60d8a5054aad",
       "version_major": 2,
       "version_minor": 0
      },
      "text/plain": [
       "  0%|          | 0/10 [00:00<?, ?it/s]"
      ]
     },
     "metadata": {},
     "output_type": "display_data"
    },
    {
     "name": "stdout",
     "output_type": "stream",
     "text": [
      "0.6\n"
     ]
    }
   ],
   "source": [
    "from pydantic import BaseModel\n",
    "from typing import Literal\n",
    "from AutoLLM.interfaces.api_client import APIClient\n",
    "from config import API_KEY\n",
    "from AutoLLM.prompts.classifier import classifier_template\n",
    "import json\n",
    "from tqdm.notebook import tqdm\n",
    "from sklearn.metrics import accuracy_score\n",
    "\n",
    "url = \"https://api.studio.nebius.ai/v1/\"\n",
    "\n",
    "classifier_client = APIClient(url=url, api_key=API_KEY, model=\"meta-llama/Llama-3.2-3B-Instruct\")\n",
    "classifier_gen_config = {\n",
    "    \"temperature\": 1e-10,\n",
    "    \"top_p\": 1e-10,\n",
    "    # \"top_k\": 1,\n",
    "}\n",
    "classifier_client.load_generation_config(classifier_gen_config)\n",
    "\n",
    "class classifier_schema(BaseModel):\n",
    "    # label: Literal[possible_labels]\n",
    "    label: str\n",
    "\n",
    "class ClassifierAgent:\n",
    "\n",
    "    def __init__(self, client, json_schema):\n",
    "        self.client = client\n",
    "        self.json_schema = json_schema\n",
    "        self.client.load_json_schema(self.json_schema)\n",
    "        self.template = classifier_template\n",
    "        self.guide = '{\"label\": '\n",
    "        self.output_format = f\"\"\"label: (Literal) Return one of the choices from the following list: {possible_labels}.\"\"\"\n",
    "        self.instructions = \"\"\n",
    "        self.input=\"\"\n",
    "        self.system_message = \"You are a helpful AI assistant.\"\n",
    "\n",
    "    def _build_prompt(self):\n",
    "        if not self.instructions or not self.input:\n",
    "            raise ValueError(\"Instructions or input not found.\")\n",
    "        self.user_prompt = self.template.format(\n",
    "            instructions=self.instructions,\n",
    "            output_format=self.output_format,\n",
    "            input=self.input\n",
    "        )\n",
    "\n",
    "    def run_sample(self, input):\n",
    "        self.input = input\n",
    "        self._build_prompt()\n",
    "        messages = [\n",
    "            {\"role\": \"system\", \"content\": self.system_message},\n",
    "            {\"role\": \"user\", \"content\": self.user_prompt},\n",
    "            {\"role\": \"assistant\", \"content\": self.guide},\n",
    "        ]\n",
    "        resp = self.client.chat_completion(messages)\n",
    "        resp = json.loads(resp)\n",
    "        return resp['label']\n",
    "    \n",
    "    def run_samples(self, X):\n",
    "        y_pred = []\n",
    "        for input in tqdm(X):\n",
    "            label = self.run_sample(input)\n",
    "            y_pred.append(label)\n",
    "        return y_pred\n",
    "    \n",
    "    def evaluate_accuracy(self, X, y_true):\n",
    "        y_pred = self.run_samples(X)\n",
    "        return accuracy_score(y_true, y_pred)\n",
    "\n",
    "\n",
    "\n",
    "ca = ClassifierAgent(classifier_client, classifier_schema)\n",
    "ca.instructions = f\"Based on the given input item description, label the item as one of the following: {possible_labels}.\"\n",
    "print(ca.run_samples(df_test['text'].to_list()))\n",
    "print(ca.evaluate_accuracy(\n",
    "    X=df_test['text'],\n",
    "    y_true=df_test['label']\n",
    "))"
   ]
  },
  {
   "cell_type": "markdown",
   "metadata": {},
   "source": [
    "# Mutation"
   ]
  },
  {
   "cell_type": "code",
   "execution_count": 22,
   "metadata": {},
   "outputs": [
    {
     "data": {
      "application/vnd.jupyter.widget-view+json": {
       "model_id": "4f89c54d77a041e9a6ae68d292628ea5",
       "version_major": 2,
       "version_minor": 0
      },
      "text/plain": [
       "  0%|          | 0/10 [00:00<?, ?it/s]"
      ]
     },
     "metadata": {},
     "output_type": "display_data"
    },
    {
     "name": "stdout",
     "output_type": "stream",
     "text": [
      "[[0.6, \"Based on the given input item description, label the item as one of the following: ['Household', 'Books', 'Clothing & Accessories', 'Electronics'].\"]]\n"
     ]
    }
   ],
   "source": [
    "population = []\n",
    "\n",
    "initial_instruction = f\"Based on the given input item description, label the item as one of the following: {possible_labels}.\"\n",
    "ca.instructions = initial_instruction\n",
    "acc = ca.evaluate_accuracy(\n",
    "    X=df_test['text'],\n",
    "    y_true=df_test['label']\n",
    ")\n",
    "\n",
    "population.append([acc, initial_instruction])\n",
    "print(population)"
   ]
  },
  {
   "cell_type": "markdown",
   "metadata": {},
   "source": [
    "## Mutation agent"
   ]
  },
  {
   "cell_type": "code",
   "execution_count": 23,
   "metadata": {},
   "outputs": [
    {
     "name": "stdout",
     "output_type": "stream",
     "text": [
      "Instructions:\n",
      "Given a task description and a seed task instruction used for an agent to complete a task, you are to generate diverse variations of the seed task instruction by applying various thinking styles.\n",
      "\n",
      "[Task Description]: Label E-commerce products as their product types given their product description.\n",
      "[Seed Task Instruction]: Based on the given input item description, label the item as one of the following: ['Household', 'Books', 'Clothing & Accessories', 'Electronics'].\n",
      "\n",
      "Steps:\n",
      "- Analyze the task description and the seed task instruction. Think about how the seed task instruction accomplishes the task described.\n",
      "- Consider the following thinking styles and apply them to the seed task instruction. For each thinking style, thinking about how the seed task instruction may be improved by applying the thinking style.\n",
      "- Generate 5 mutated instructions from the seed task instruction by applying each thinking styles.\n",
      "- You may dynamically mix thinking styles to create more diverse variations.\n",
      "- You must generate mutated instructions that keep similar semantic meaning as the original seed task instruction.\n",
      "- You must generate mutated instructions that can be used to instruct an agent to accomplish the task described in the task description.\n",
      "\n",
      "[Thinking Styles]: \n",
      "- How can I break down this problem into smaller, more manageable parts?\n",
      "- What are the underlying causes or factors contributing to the problem?\n",
      "- Does the problem require addressing systemic or structural issues rather than just individual instances?\n",
      "- Is the problem a technical or practical one that requires a specific expertise or skill set? Or is it more of a conceptual or theoretical problem?\n",
      "- Use Reflective Thinking: Step back from the problem, take the time for introspection and self-reflection. Examine personal biases, assumptions, and mental models that may influence problem-solving, and being open to learning from past experiences to improve future approaches.\n",
      "\n",
      "-----------------------------------------\n",
      "Output Format:\n",
      "Return your output in a json format with the following fields. Do not return anything except the json object.\n",
      "- thinking: (str) Return logical reasoning for the mutation as well as the steps you took to arrive at the mutation.\n",
      "- mutated_instructions: (list) Return a list of the variations of the seed instruction that you generated.\n",
      "\n",
      "LLM thinking: To generate diverse variations of the seed task instruction, I will apply the given thinking styles to break down the task, consider underlying factors, address systemic issues, and reflect on expertise and conceptual understanding. For reflective thinking, I will examine the assumptions in the original task and consider broader categories that could be more inclusive or practical for the agent.\n"
     ]
    },
    {
     "data": {
      "application/vnd.jupyter.widget-view+json": {
       "model_id": "0dcdb6fdd6ec4ee9a0a07f419e743298",
       "version_major": 2,
       "version_minor": 0
      },
      "text/plain": [
       "  0%|          | 0/10 [00:00<?, ?it/s]"
      ]
     },
     "metadata": {},
     "output_type": "display_data"
    },
    {
     "data": {
      "application/vnd.jupyter.widget-view+json": {
       "model_id": "92f8c904846a4b228930860489d0af4a",
       "version_major": 2,
       "version_minor": 0
      },
      "text/plain": [
       "  0%|          | 0/10 [00:00<?, ?it/s]"
      ]
     },
     "metadata": {},
     "output_type": "display_data"
    },
    {
     "data": {
      "application/vnd.jupyter.widget-view+json": {
       "model_id": "a0f5d5d0767d4ee283540409e83ff599",
       "version_major": 2,
       "version_minor": 0
      },
      "text/plain": [
       "  0%|          | 0/10 [00:00<?, ?it/s]"
      ]
     },
     "metadata": {},
     "output_type": "display_data"
    },
    {
     "data": {
      "application/vnd.jupyter.widget-view+json": {
       "model_id": "b11b6167bcb040b2ad53cc6666087277",
       "version_major": 2,
       "version_minor": 0
      },
      "text/plain": [
       "  0%|          | 0/10 [00:00<?, ?it/s]"
      ]
     },
     "metadata": {},
     "output_type": "display_data"
    },
    {
     "data": {
      "application/vnd.jupyter.widget-view+json": {
       "model_id": "a2eb1df1dccd498a9448f7e0a7bb854b",
       "version_major": 2,
       "version_minor": 0
      },
      "text/plain": [
       "  0%|          | 0/10 [00:00<?, ?it/s]"
      ]
     },
     "metadata": {},
     "output_type": "display_data"
    },
    {
     "data": {
      "application/vnd.jupyter.widget-view+json": {
       "model_id": "eadd01ec5179439eb54d9633a45d2791",
       "version_major": 2,
       "version_minor": 0
      },
      "text/plain": [
       "  0%|          | 0/10 [00:00<?, ?it/s]"
      ]
     },
     "metadata": {},
     "output_type": "display_data"
    },
    {
     "data": {
      "application/vnd.jupyter.widget-view+json": {
       "model_id": "8645a8b04b614b3eadafed267fafdd8a",
       "version_major": 2,
       "version_minor": 0
      },
      "text/plain": [
       "  0%|          | 0/10 [00:00<?, ?it/s]"
      ]
     },
     "metadata": {},
     "output_type": "display_data"
    },
    {
     "data": {
      "application/vnd.jupyter.widget-view+json": {
       "model_id": "136896018df645b5bb7508276c7e3d68",
       "version_major": 2,
       "version_minor": 0
      },
      "text/plain": [
       "  0%|          | 0/10 [00:00<?, ?it/s]"
      ]
     },
     "metadata": {},
     "output_type": "display_data"
    },
    {
     "data": {
      "application/vnd.jupyter.widget-view+json": {
       "model_id": "592c44282c5443abb7ddc3cd27dd6182",
       "version_major": 2,
       "version_minor": 0
      },
      "text/plain": [
       "  0%|          | 0/10 [00:00<?, ?it/s]"
      ]
     },
     "metadata": {},
     "output_type": "display_data"
    },
    {
     "data": {
      "application/vnd.jupyter.widget-view+json": {
       "model_id": "287917331b674ebba122828db329bd3e",
       "version_major": 2,
       "version_minor": 0
      },
      "text/plain": [
       "  0%|          | 0/10 [00:00<?, ?it/s]"
      ]
     },
     "metadata": {},
     "output_type": "display_data"
    },
    {
     "data": {
      "application/vnd.jupyter.widget-view+json": {
       "model_id": "3c67fa221a5e4e21960724aea62a0ae6",
       "version_major": 2,
       "version_minor": 0
      },
      "text/plain": [
       "  0%|          | 0/10 [00:00<?, ?it/s]"
      ]
     },
     "metadata": {},
     "output_type": "display_data"
    },
    {
     "name": "stdout",
     "output_type": "stream",
     "text": [
      "[[0.6, \"Based on the given input item description, label the item as one of the following: ['Household', 'Books', 'Clothing & Accessories', 'Electronics'].\"], [0.6, \"First, identify key features in the item description, then categorize the item into one of these product types: ['Household', 'Books', 'Clothing & Accessories', 'Electronics'].\"], [0.8, \"Consider the purpose and usage context of the item described, then assign it to a category: ['Household', 'Books', 'Clothing & Accessories', 'Electronics'].\"], [0.7, \"Ensure that the classification system is robust and can handle a variety of inputs by labeling the item as one of the following: ['Household', 'Books', 'Clothing & Accessories', 'Electronics'], based on its description.\"], [0.8, \"Based on the product description, label the item using your understanding of product characteristics and the given categories: ['Household', 'Books', 'Clothing & Accessories', 'Electronics'].\"], [0.7, \"Reflect on the item's primary function and materials before labeling it as one of these types: ['Household', 'Books', 'Clothing & Accessories', 'Electronics'], using the provided description.\"], [0.9, \"Analyze the product description to determine if the item fits better into ['Household', 'Books', 'Clothing & Accessories', 'Electronics'], considering potential overlaps and broader implications.\"], [0.7, \"Given the product description, classify the item into a broader category that encompasses ['Household', 'Books', 'Clothing & Accessories', 'Electronics'], reflecting on any biases in these specific labels.\"], [0.7, \"Examine the detailed description of the item and, considering its main use and material composition, label it as one of the following: ['Household', 'Books', 'Clothing & Accessories', 'Electronics'].\"], [0.8, \"For each item described, assess its attributes and decide on a classification from the following categories: ['Household', 'Books', 'Clothing & Accessories', 'Electronics'], focusing on systemic consistency.\"], [0.8, \"After reading the item description, apply technical expertise to label the product appropriately under one of these categories: ['Household', 'Books', 'Clothing & Accessories', 'Electronics'], ensuring accuracy.\"]]\n"
     ]
    }
   ],
   "source": [
    "from AutoLLM.modules.prompt_mutator import PromptMutator, PromptMutatorSchema\n",
    "\n",
    "mutation_client = APIClient(url=url, api_key=API_KEY, model=\"Qwen/Qwen2.5-32B-Instruct\")\n",
    "mutation_gen_config = {\n",
    "    \"temperature\": 0.7,\n",
    "    \"top_p\": 0.9,\n",
    "    # \"top_k\": 1,\n",
    "}\n",
    "mutation_client.load_generation_config(mutation_gen_config)\n",
    "\n",
    "\n",
    "pm = PromptMutator(mutation_client)\n",
    "resp = pm.mutate_prompt(\n",
    "    seed_prompt=initial_instruction,\n",
    "    task_description=\"Label E-commerce products as their product types given their product description.\",\n",
    "    num_variations=5,\n",
    ")\n",
    "\n",
    "for instruction in tqdm(resp):\n",
    "    ca.instructions = instruction\n",
    "    acc = ca.evaluate_accuracy(X=df_test['text'], y_true=df_test['label'])\n",
    "    population.append([acc, instruction])\n",
    "\n",
    "print(population)"
   ]
  },
  {
   "cell_type": "code",
   "execution_count": 24,
   "metadata": {},
   "outputs": [
    {
     "name": "stdout",
     "output_type": "stream",
     "text": [
      "0.6 Based on the given input item description, label the item as one of the following: ['Household', 'Books', 'Clothing & Accessories', 'Electronics'].\n",
      "0.6 First, identify key features in the item description, then categorize the item into one of these product types: ['Household', 'Books', 'Clothing & Accessories', 'Electronics'].\n",
      "0.8 Consider the purpose and usage context of the item described, then assign it to a category: ['Household', 'Books', 'Clothing & Accessories', 'Electronics'].\n",
      "0.7 Ensure that the classification system is robust and can handle a variety of inputs by labeling the item as one of the following: ['Household', 'Books', 'Clothing & Accessories', 'Electronics'], based on its description.\n",
      "0.8 Based on the product description, label the item using your understanding of product characteristics and the given categories: ['Household', 'Books', 'Clothing & Accessories', 'Electronics'].\n",
      "0.7 Reflect on the item's primary function and materials before labeling it as one of these types: ['Household', 'Books', 'Clothing & Accessories', 'Electronics'], using the provided description.\n",
      "0.9 Analyze the product description to determine if the item fits better into ['Household', 'Books', 'Clothing & Accessories', 'Electronics'], considering potential overlaps and broader implications.\n",
      "0.7 Given the product description, classify the item into a broader category that encompasses ['Household', 'Books', 'Clothing & Accessories', 'Electronics'], reflecting on any biases in these specific labels.\n",
      "0.7 Examine the detailed description of the item and, considering its main use and material composition, label it as one of the following: ['Household', 'Books', 'Clothing & Accessories', 'Electronics'].\n",
      "0.8 For each item described, assess its attributes and decide on a classification from the following categories: ['Household', 'Books', 'Clothing & Accessories', 'Electronics'], focusing on systemic consistency.\n",
      "0.8 After reading the item description, apply technical expertise to label the product appropriately under one of these categories: ['Household', 'Books', 'Clothing & Accessories', 'Electronics'], ensuring accuracy.\n"
     ]
    }
   ],
   "source": [
    "for s, i in population:\n",
    "    print(s, i)"
   ]
  },
  {
   "cell_type": "markdown",
   "metadata": {},
   "source": [
    "# Critique and refine"
   ]
  },
  {
   "cell_type": "markdown",
   "metadata": {},
   "source": [
    "## Critique"
   ]
  },
  {
   "cell_type": "code",
   "execution_count": null,
   "metadata": {},
   "outputs": [],
   "source": [
    "critique_client = APIClient(url=url, api_key=API_KEY, model=\"Qwen/Qwen2.5-32B-Instruct\")\n",
    "critique_gen_config = {\n",
    "    \"temperature\": 0.7,\n",
    "    \"top_p\": 0.9,\n",
    "    # \"top_k\": 1,\n",
    "}\n",
    "critique_client.load_generation_config(critique_gen_config)\n",
    "\n",
    "critique_template = \"\"\"Instruction:\n",
    "\n",
    "\"\"\"\n",
    "\n",
    "\n",
    "pm = PromptMutator(mutation_client)\n",
    "resp = pm.mutate_prompt(\n",
    "    seed_prompt=initial_instruction,\n",
    "    task_description=\"Label E-commerce products as their product types given their product description.\",\n",
    "    num_variations=5,\n",
    ")\n",
    "\n",
    "for instruction in tqdm(resp):\n",
    "    ca.instructions = instruction\n",
    "    acc = ca.evaluate_accuracy(X=df_test['text'], y_true=df_test['label'])\n",
    "    population.append([acc, instruction])\n",
    "\n",
    "print(population)"
   ]
  }
 ],
 "metadata": {
  "kernelspec": {
   "display_name": "ai",
   "language": "python",
   "name": "python3"
  },
  "language_info": {
   "codemirror_mode": {
    "name": "ipython",
    "version": 3
   },
   "file_extension": ".py",
   "mimetype": "text/x-python",
   "name": "python",
   "nbconvert_exporter": "python",
   "pygments_lexer": "ipython3",
   "version": "3.12.7"
  }
 },
 "nbformat": 4,
 "nbformat_minor": 2
}
