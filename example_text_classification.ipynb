{
 "cells": [
  {
   "cell_type": "code",
   "execution_count": 1,
   "metadata": {},
   "outputs": [],
   "source": [
    "%load_ext autoreload\n",
    "%autoreload 2"
   ]
  },
  {
   "cell_type": "code",
   "execution_count": 1,
   "metadata": {},
   "outputs": [
    {
     "ename": "TypeError",
     "evalue": "PromptMutator.__init__() missing 1 required positional argument: 'api_client'",
     "output_type": "error",
     "traceback": [
      "\u001b[1;31m---------------------------------------------------------------------------\u001b[0m",
      "\u001b[1;31mTypeError\u001b[0m                                 Traceback (most recent call last)",
      "Cell \u001b[1;32mIn[1], line 5\u001b[0m\n\u001b[0;32m      2\u001b[0m \u001b[38;5;28;01mfrom\u001b[39;00m \u001b[38;5;21;01mAutoLLM\u001b[39;00m\u001b[38;5;21;01m.\u001b[39;00m\u001b[38;5;21;01minterfaces\u001b[39;00m\u001b[38;5;21;01m.\u001b[39;00m\u001b[38;5;21;01mapi_client\u001b[39;00m \u001b[38;5;28;01mimport\u001b[39;00m APIClient\n\u001b[0;32m      4\u001b[0m client \u001b[38;5;241m=\u001b[39m APIClient()\n\u001b[1;32m----> 5\u001b[0m pm \u001b[38;5;241m=\u001b[39m PromptMutator()\n",
      "\u001b[1;31mTypeError\u001b[0m: PromptMutator.__init__() missing 1 required positional argument: 'api_client'"
     ]
    }
   ],
   "source": [
    "from AutoLLM.modules.prompt_mutator import PromptMutator\n",
    "from AutoLLM.interfaces.api_client import APIClient\n",
    "from AutoLLM.utils.config import API_KEY\n",
    "\n",
    "url = \"https://api.studio.nebius.ai/v1/\"\n",
    "\n",
    "client = APIClient()\n",
    "pm = PromptMutator()"
   ]
  }
 ],
 "metadata": {
  "kernelspec": {
   "display_name": "ai",
   "language": "python",
   "name": "python3"
  },
  "language_info": {
   "codemirror_mode": {
    "name": "ipython",
    "version": 3
   },
   "file_extension": ".py",
   "mimetype": "text/x-python",
   "name": "python",
   "nbconvert_exporter": "python",
   "pygments_lexer": "ipython3",
   "version": "3.11.4"
  }
 },
 "nbformat": 4,
 "nbformat_minor": 2
}
