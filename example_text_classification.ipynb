{
 "cells": [
  {
   "cell_type": "code",
   "execution_count": 1,
   "metadata": {},
   "outputs": [],
   "source": [
    "%load_ext autoreload\n",
    "%autoreload 2"
   ]
  },
  {
   "cell_type": "markdown",
   "metadata": {},
   "source": [
    "# Text Classification Task\n",
    "\n",
    "E-commerce text classification using data from kaggle"
   ]
  },
  {
   "cell_type": "markdown",
   "metadata": {},
   "source": [
    "# Dataset"
   ]
  },
  {
   "cell_type": "code",
   "execution_count": 2,
   "metadata": {},
   "outputs": [
    {
     "data": {
      "text/html": [
       "<div>\n",
       "<style scoped>\n",
       "    .dataframe tbody tr th:only-of-type {\n",
       "        vertical-align: middle;\n",
       "    }\n",
       "\n",
       "    .dataframe tbody tr th {\n",
       "        vertical-align: top;\n",
       "    }\n",
       "\n",
       "    .dataframe thead th {\n",
       "        text-align: right;\n",
       "    }\n",
       "</style>\n",
       "<table border=\"1\" class=\"dataframe\">\n",
       "  <thead>\n",
       "    <tr style=\"text-align: right;\">\n",
       "      <th></th>\n",
       "      <th>label</th>\n",
       "      <th>text</th>\n",
       "    </tr>\n",
       "  </thead>\n",
       "  <tbody>\n",
       "    <tr>\n",
       "      <th>0</th>\n",
       "      <td>Household</td>\n",
       "      <td>Paper Plane Design Framed Wall Hanging Motivat...</td>\n",
       "    </tr>\n",
       "    <tr>\n",
       "      <th>1</th>\n",
       "      <td>Household</td>\n",
       "      <td>SAF 'Floral' Framed Painting (Wood, 30 inch x ...</td>\n",
       "    </tr>\n",
       "    <tr>\n",
       "      <th>2</th>\n",
       "      <td>Household</td>\n",
       "      <td>SAF 'UV Textured Modern Art Print Framed' Pain...</td>\n",
       "    </tr>\n",
       "    <tr>\n",
       "      <th>3</th>\n",
       "      <td>Household</td>\n",
       "      <td>SAF Flower Print Framed Painting (Synthetic, 1...</td>\n",
       "    </tr>\n",
       "    <tr>\n",
       "      <th>4</th>\n",
       "      <td>Household</td>\n",
       "      <td>Incredible Gifts India Wooden Happy Birthday U...</td>\n",
       "    </tr>\n",
       "    <tr>\n",
       "      <th>...</th>\n",
       "      <td>...</td>\n",
       "      <td>...</td>\n",
       "    </tr>\n",
       "    <tr>\n",
       "      <th>50420</th>\n",
       "      <td>Electronics</td>\n",
       "      <td>Strontium MicroSD Class 10 8GB Memory Card (Bl...</td>\n",
       "    </tr>\n",
       "    <tr>\n",
       "      <th>50421</th>\n",
       "      <td>Electronics</td>\n",
       "      <td>CrossBeats Wave Waterproof Bluetooth Wireless ...</td>\n",
       "    </tr>\n",
       "    <tr>\n",
       "      <th>50422</th>\n",
       "      <td>Electronics</td>\n",
       "      <td>Karbonn Titanium Wind W4 (White) Karbonn Titan...</td>\n",
       "    </tr>\n",
       "    <tr>\n",
       "      <th>50423</th>\n",
       "      <td>Electronics</td>\n",
       "      <td>Samsung Guru FM Plus (SM-B110E/D, Black) Colou...</td>\n",
       "    </tr>\n",
       "    <tr>\n",
       "      <th>50424</th>\n",
       "      <td>Electronics</td>\n",
       "      <td>Micromax Canvas Win W121 (White)</td>\n",
       "    </tr>\n",
       "  </tbody>\n",
       "</table>\n",
       "<p>50425 rows × 2 columns</p>\n",
       "</div>"
      ],
      "text/plain": [
       "             label                                               text\n",
       "0        Household  Paper Plane Design Framed Wall Hanging Motivat...\n",
       "1        Household  SAF 'Floral' Framed Painting (Wood, 30 inch x ...\n",
       "2        Household  SAF 'UV Textured Modern Art Print Framed' Pain...\n",
       "3        Household  SAF Flower Print Framed Painting (Synthetic, 1...\n",
       "4        Household  Incredible Gifts India Wooden Happy Birthday U...\n",
       "...            ...                                                ...\n",
       "50420  Electronics  Strontium MicroSD Class 10 8GB Memory Card (Bl...\n",
       "50421  Electronics  CrossBeats Wave Waterproof Bluetooth Wireless ...\n",
       "50422  Electronics  Karbonn Titanium Wind W4 (White) Karbonn Titan...\n",
       "50423  Electronics  Samsung Guru FM Plus (SM-B110E/D, Black) Colou...\n",
       "50424  Electronics                   Micromax Canvas Win W121 (White)\n",
       "\n",
       "[50425 rows x 2 columns]"
      ]
     },
     "execution_count": 2,
     "metadata": {},
     "output_type": "execute_result"
    }
   ],
   "source": [
    "import pandas as pd\n",
    "\n",
    "df_data = pd.read_pickle('./data/Ecommerce/ecommerce_classification_dataset.pkl')\n",
    "possible_labels = list(df_data['label'].unique())\n",
    "df_data"
   ]
  },
  {
   "cell_type": "markdown",
   "metadata": {},
   "source": [
    "## Train-test-split"
   ]
  },
  {
   "cell_type": "code",
   "execution_count": 3,
   "metadata": {},
   "outputs": [
    {
     "data": {
      "text/html": [
       "<div>\n",
       "<style scoped>\n",
       "    .dataframe tbody tr th:only-of-type {\n",
       "        vertical-align: middle;\n",
       "    }\n",
       "\n",
       "    .dataframe tbody tr th {\n",
       "        vertical-align: top;\n",
       "    }\n",
       "\n",
       "    .dataframe thead th {\n",
       "        text-align: right;\n",
       "    }\n",
       "</style>\n",
       "<table border=\"1\" class=\"dataframe\">\n",
       "  <thead>\n",
       "    <tr style=\"text-align: right;\">\n",
       "      <th></th>\n",
       "      <th>label</th>\n",
       "      <th>text</th>\n",
       "    </tr>\n",
       "  </thead>\n",
       "  <tbody>\n",
       "    <tr>\n",
       "      <th>13603</th>\n",
       "      <td>Household</td>\n",
       "      <td>Pigeon Popcorn Maker, 1200watts, Yellow No mov...</td>\n",
       "    </tr>\n",
       "    <tr>\n",
       "      <th>44708</th>\n",
       "      <td>Electronics</td>\n",
       "      <td>boAt BassHeads 225 in-Ear Super Extra Bass Hea...</td>\n",
       "    </tr>\n",
       "    <tr>\n",
       "      <th>13340</th>\n",
       "      <td>Household</td>\n",
       "      <td>Prestige PIC 3.1 V3 2000-Watt Induction Cookto...</td>\n",
       "    </tr>\n",
       "    <tr>\n",
       "      <th>26583</th>\n",
       "      <td>Books</td>\n",
       "      <td>Think &amp; Grow Rich - Lectures by Napoleon Hill ...</td>\n",
       "    </tr>\n",
       "    <tr>\n",
       "      <th>44130</th>\n",
       "      <td>Electronics</td>\n",
       "      <td>DeckUp Meritus-S Wall TV Unit (Dark Wenge, Mat...</td>\n",
       "    </tr>\n",
       "    <tr>\n",
       "      <th>18908</th>\n",
       "      <td>Household</td>\n",
       "      <td>Black+Decker Hand Tool Kit (108-Piece), Orange...</td>\n",
       "    </tr>\n",
       "    <tr>\n",
       "      <th>20173</th>\n",
       "      <td>Books</td>\n",
       "      <td>Alibaba: The House that Jack Ma Built Review “...</td>\n",
       "    </tr>\n",
       "    <tr>\n",
       "      <th>31485</th>\n",
       "      <td>Clothing &amp; Accessories</td>\n",
       "      <td>Baby Boy/Girl Romper Newborn Jumpsuit Blue Hoo...</td>\n",
       "    </tr>\n",
       "    <tr>\n",
       "      <th>34088</th>\n",
       "      <td>Clothing &amp; Accessories</td>\n",
       "      <td>S4S Men's 100% Cotton Premium Collection Handk...</td>\n",
       "    </tr>\n",
       "    <tr>\n",
       "      <th>11222</th>\n",
       "      <td>Household</td>\n",
       "      <td>Kraft Seeds Multipurpose Kitchen Household and...</td>\n",
       "    </tr>\n",
       "  </tbody>\n",
       "</table>\n",
       "</div>"
      ],
      "text/plain": [
       "                        label  \\\n",
       "13603               Household   \n",
       "44708             Electronics   \n",
       "13340               Household   \n",
       "26583                   Books   \n",
       "44130             Electronics   \n",
       "18908               Household   \n",
       "20173                   Books   \n",
       "31485  Clothing & Accessories   \n",
       "34088  Clothing & Accessories   \n",
       "11222               Household   \n",
       "\n",
       "                                                    text  \n",
       "13603  Pigeon Popcorn Maker, 1200watts, Yellow No mov...  \n",
       "44708  boAt BassHeads 225 in-Ear Super Extra Bass Hea...  \n",
       "13340  Prestige PIC 3.1 V3 2000-Watt Induction Cookto...  \n",
       "26583  Think & Grow Rich - Lectures by Napoleon Hill ...  \n",
       "44130  DeckUp Meritus-S Wall TV Unit (Dark Wenge, Mat...  \n",
       "18908  Black+Decker Hand Tool Kit (108-Piece), Orange...  \n",
       "20173  Alibaba: The House that Jack Ma Built Review “...  \n",
       "31485  Baby Boy/Girl Romper Newborn Jumpsuit Blue Hoo...  \n",
       "34088  S4S Men's 100% Cotton Premium Collection Handk...  \n",
       "11222  Kraft Seeds Multipurpose Kitchen Household and...  "
      ]
     },
     "metadata": {},
     "output_type": "display_data"
    },
    {
     "data": {
      "text/html": [
       "<div>\n",
       "<style scoped>\n",
       "    .dataframe tbody tr th:only-of-type {\n",
       "        vertical-align: middle;\n",
       "    }\n",
       "\n",
       "    .dataframe tbody tr th {\n",
       "        vertical-align: top;\n",
       "    }\n",
       "\n",
       "    .dataframe thead th {\n",
       "        text-align: right;\n",
       "    }\n",
       "</style>\n",
       "<table border=\"1\" class=\"dataframe\">\n",
       "  <thead>\n",
       "    <tr style=\"text-align: right;\">\n",
       "      <th></th>\n",
       "      <th>label</th>\n",
       "      <th>text</th>\n",
       "    </tr>\n",
       "  </thead>\n",
       "  <tbody>\n",
       "    <tr>\n",
       "      <th>24728</th>\n",
       "      <td>Books</td>\n",
       "      <td>UGC Net Education About the Author An editoria...</td>\n",
       "    </tr>\n",
       "    <tr>\n",
       "      <th>29641</th>\n",
       "      <td>Books</td>\n",
       "      <td>Oswaal Karnataka SSLC Question Bank Class 10 S...</td>\n",
       "    </tr>\n",
       "    <tr>\n",
       "      <th>9408</th>\n",
       "      <td>Household</td>\n",
       "      <td>Chef Direct Stainless Steel Dome Lid with Knob...</td>\n",
       "    </tr>\n",
       "    <tr>\n",
       "      <th>6530</th>\n",
       "      <td>Household</td>\n",
       "      <td>JDX Reliance Fiber Filler Cushion, 16X16 Inch,...</td>\n",
       "    </tr>\n",
       "    <tr>\n",
       "      <th>5667</th>\n",
       "      <td>Household</td>\n",
       "      <td>Magideal 2x Silky Soft Satin Standard Pillow C...</td>\n",
       "    </tr>\n",
       "    <tr>\n",
       "      <th>...</th>\n",
       "      <td>...</td>\n",
       "      <td>...</td>\n",
       "    </tr>\n",
       "    <tr>\n",
       "      <th>46826</th>\n",
       "      <td>Electronics</td>\n",
       "      <td>Canon EOS 1500D Digital SLR Camera (Black) wit...</td>\n",
       "    </tr>\n",
       "    <tr>\n",
       "      <th>15524</th>\n",
       "      <td>Household</td>\n",
       "      <td>Philips GC504/35 1600-Watt Garment Steamer (Pi...</td>\n",
       "    </tr>\n",
       "    <tr>\n",
       "      <th>48524</th>\n",
       "      <td>Electronics</td>\n",
       "      <td>LONPOO Compact HD DVD Player All Region Free (...</td>\n",
       "    </tr>\n",
       "    <tr>\n",
       "      <th>49605</th>\n",
       "      <td>Electronics</td>\n",
       "      <td>Intex IT-PB12.5K 12500 mAH Power Bank (Black-R...</td>\n",
       "    </tr>\n",
       "    <tr>\n",
       "      <th>25044</th>\n",
       "      <td>Books</td>\n",
       "      <td>The Everything Kids' Learning French Book: Fun...</td>\n",
       "    </tr>\n",
       "  </tbody>\n",
       "</table>\n",
       "<p>50415 rows × 2 columns</p>\n",
       "</div>"
      ],
      "text/plain": [
       "             label                                               text\n",
       "24728        Books  UGC Net Education About the Author An editoria...\n",
       "29641        Books  Oswaal Karnataka SSLC Question Bank Class 10 S...\n",
       "9408     Household  Chef Direct Stainless Steel Dome Lid with Knob...\n",
       "6530     Household  JDX Reliance Fiber Filler Cushion, 16X16 Inch,...\n",
       "5667     Household  Magideal 2x Silky Soft Satin Standard Pillow C...\n",
       "...            ...                                                ...\n",
       "46826  Electronics  Canon EOS 1500D Digital SLR Camera (Black) wit...\n",
       "15524    Household  Philips GC504/35 1600-Watt Garment Steamer (Pi...\n",
       "48524  Electronics  LONPOO Compact HD DVD Player All Region Free (...\n",
       "49605  Electronics  Intex IT-PB12.5K 12500 mAH Power Bank (Black-R...\n",
       "25044        Books  The Everything Kids' Learning French Book: Fun...\n",
       "\n",
       "[50415 rows x 2 columns]"
      ]
     },
     "metadata": {},
     "output_type": "display_data"
    }
   ],
   "source": [
    "from AutoLLM.utils.helpers import split_dataframe\n",
    "\n",
    "df_train, df_test = split_dataframe(df_data, 10 / df_data.shape[0], 42, 'label')\n",
    "display(df_test)\n",
    "display(df_train)"
   ]
  },
  {
   "cell_type": "markdown",
   "metadata": {},
   "source": [
    "# Simple classification"
   ]
  },
  {
   "cell_type": "markdown",
   "metadata": {},
   "source": [
    "## Classification agent"
   ]
  },
  {
   "cell_type": "code",
   "execution_count": 4,
   "metadata": {},
   "outputs": [
    {
     "data": {
      "application/vnd.jupyter.widget-view+json": {
       "model_id": "c7bade1ba8f642c69915b9174e15682a",
       "version_major": 2,
       "version_minor": 0
      },
      "text/plain": [
       "  0%|          | 0/10 [00:00<?, ?it/s]"
      ]
     },
     "metadata": {},
     "output_type": "display_data"
    },
    {
     "name": "stdout",
     "output_type": "stream",
     "text": [
      "['Household', 'Electronics', 'Electronics', 'Books', 'Household', 'Household', 'Household', 'Household', 'Clothing & Accessories', 'Household']\n"
     ]
    },
    {
     "data": {
      "application/vnd.jupyter.widget-view+json": {
       "model_id": "594764fab6b94e8eb7874a4914f1412b",
       "version_major": 2,
       "version_minor": 0
      },
      "text/plain": [
       "  0%|          | 0/10 [00:00<?, ?it/s]"
      ]
     },
     "metadata": {},
     "output_type": "display_data"
    },
    {
     "name": "stdout",
     "output_type": "stream",
     "text": [
      "0.6\n"
     ]
    }
   ],
   "source": [
    "from pydantic import BaseModel\n",
    "from typing import Literal\n",
    "from AutoLLM.interfaces.api_client import APIClient\n",
    "from config import API_KEY\n",
    "from AutoLLM.prompts.classifier import classifier_template\n",
    "import json\n",
    "from tqdm.notebook import tqdm\n",
    "from sklearn.metrics import accuracy_score\n",
    "\n",
    "url = \"https://api.studio.nebius.ai/v1/\"\n",
    "\n",
    "classifier_client = APIClient(url=url, api_key=API_KEY, model=\"meta-llama/Llama-3.2-3B-Instruct\")\n",
    "classifier_gen_config = {\n",
    "    \"temperature\": 1e-10,\n",
    "    \"top_p\": 1e-10,\n",
    "    # \"top_k\": 1,\n",
    "}\n",
    "classifier_client.load_generation_config(classifier_gen_config)\n",
    "\n",
    "class classifier_schema(BaseModel):\n",
    "    # label: Literal[possible_labels]\n",
    "    label: str\n",
    "\n",
    "class ClassifierAgent:\n",
    "\n",
    "    def __init__(self, client, json_schema):\n",
    "        self.client = client\n",
    "        self.json_schema = json_schema\n",
    "        self.client.load_json_schema(self.json_schema)\n",
    "        self.template = classifier_template\n",
    "        self.guide = '{\"label\": '\n",
    "        self.output_format = f\"\"\"label: (Literal) Return one of the choices from the following list: {possible_labels}.\"\"\"\n",
    "        self.instructions = \"\"\n",
    "        self.input=\"\"\n",
    "        self.system_message = \"You are a helpful AI assistant.\"\n",
    "\n",
    "    def _build_prompt(self):\n",
    "        if not self.instructions or not self.input:\n",
    "            raise ValueError(\"Instructions or input not found.\")\n",
    "        self.user_prompt = self.template.format(\n",
    "            instructions=self.instructions,\n",
    "            output_format=self.output_format,\n",
    "            input=self.input\n",
    "        )\n",
    "\n",
    "    def run_sample(self, input):\n",
    "        self.input = input\n",
    "        self._build_prompt()\n",
    "        messages = [\n",
    "            {\"role\": \"system\", \"content\": self.system_message},\n",
    "            {\"role\": \"user\", \"content\": self.user_prompt},\n",
    "            {\"role\": \"assistant\", \"content\": self.guide},\n",
    "        ]\n",
    "        resp = self.client.chat_completion(messages)\n",
    "        resp = json.loads(resp)\n",
    "        return resp['label']\n",
    "    \n",
    "    def run_samples(self, X):\n",
    "        y_pred = []\n",
    "        for input in tqdm(X):\n",
    "            label = self.run_sample(input)\n",
    "            y_pred.append(label)\n",
    "        return y_pred\n",
    "    \n",
    "    def evaluate_accuracy(self, X, y_true):\n",
    "        y_pred = self.run_samples(X)\n",
    "        return accuracy_score(y_true, y_pred)\n",
    "\n",
    "\n",
    "\n",
    "ca = ClassifierAgent(classifier_client, classifier_schema)\n",
    "ca.instructions = f\"Based on the given input item description, label the item as one of the following: {possible_labels}.\"\n",
    "print(ca.run_samples(df_test['text'].to_list()))\n",
    "print(ca.evaluate_accuracy(\n",
    "    X=df_test['text'],\n",
    "    y_true=df_test['label']\n",
    "))"
   ]
  },
  {
   "cell_type": "markdown",
   "metadata": {},
   "source": [
    "# Mutation"
   ]
  },
  {
   "cell_type": "code",
   "execution_count": 5,
   "metadata": {},
   "outputs": [
    {
     "data": {
      "application/vnd.jupyter.widget-view+json": {
       "model_id": "f73e09a666fd4c5e8c88085d745205f0",
       "version_major": 2,
       "version_minor": 0
      },
      "text/plain": [
       "  0%|          | 0/10 [00:00<?, ?it/s]"
      ]
     },
     "metadata": {},
     "output_type": "display_data"
    },
    {
     "name": "stdout",
     "output_type": "stream",
     "text": [
      "[[0.6, \"Based on the given input item description, label the item as one of the following: ['Household', 'Books', 'Clothing & Accessories', 'Electronics'].\"]]\n"
     ]
    }
   ],
   "source": [
    "population = []\n",
    "\n",
    "initial_instruction = f\"Based on the given input item description, label the item as one of the following: {possible_labels}.\"\n",
    "ca.instructions = initial_instruction\n",
    "acc = ca.evaluate_accuracy(\n",
    "    X=df_test['text'],\n",
    "    y_true=df_test['label']\n",
    ")\n",
    "\n",
    "population.append([acc, initial_instruction])\n",
    "print(population)"
   ]
  },
  {
   "cell_type": "markdown",
   "metadata": {},
   "source": [
    "## Mutation agent"
   ]
  },
  {
   "cell_type": "code",
   "execution_count": 6,
   "metadata": {},
   "outputs": [
    {
     "name": "stdout",
     "output_type": "stream",
     "text": [
      "Instructions:\n",
      "Given a task description and a seed task instruction used for an agent to complete a task, you are to generate diverse variations of the seed task instruction by applying various thinking styles.\n",
      "\n",
      "[Task Description]: Label E-commerce products as their product types given their product description.\n",
      "[Seed Task Instruction]: Based on the given input item description, label the item as one of the following: ['Household', 'Books', 'Clothing & Accessories', 'Electronics'].\n",
      "\n",
      "Steps:\n",
      "- Analyze the task description and the seed task instruction. Think about how the seed task instruction accomplishes the task described.\n",
      "- Consider the following thinking styles and apply them to the seed task instruction. For each thinking style, thinking about how the seed task instruction may be improved by applying the thinking style.\n",
      "- Generate 5 mutated instructions from the seed task instruction by applying each thinking styles.\n",
      "- You may dynamically mix thinking styles to create more diverse variations.\n",
      "- You must generate mutated instructions that keep similar semantic meaning as the original seed task instruction.\n",
      "- You must generate mutated instructions that can be used to instruct an agent to accomplish the task described in the task description.\n",
      "\n",
      "[Thinking Styles]: \n",
      "- How could I devise an experiment to help solve that problem?\n",
      "- Make a list of ideas for solving this problem, and apply them one by one to the problem to see if any progress can be made.\n",
      "- What are the underlying causes or factors contributing to the problem?\n",
      "- What are the key assumptions underlying this problem?\n",
      "- Let's make a step by step plan and implement it with good notion and explanation.\n",
      "\n",
      "-----------------------------------------\n",
      "Output Format:\n",
      "Return your output in a json format with the following fields. Do not return anything except the json object.\n",
      "- thinking: (str) Return logical reasoning for the mutation as well as the steps you took to arrive at the mutation.\n",
      "- mutated_instructions: (list) Return a list of the variations of the seed instruction that you generated.\n",
      "\n",
      "LLM thinking: To generate diverse variations of the seed task instruction, we will consider each thinking style and how it can be applied to improve or alter the instruction while maintaining the core task of labeling e-commerce products based on their descriptions. The seed task instruction is straightforward and concise, but we can enhance it by introducing more detail, experimentation, and questioning underlying assumptions and factors.\n"
     ]
    },
    {
     "data": {
      "application/vnd.jupyter.widget-view+json": {
       "model_id": "2e558662a74e4710bda5698d1b057359",
       "version_major": 2,
       "version_minor": 0
      },
      "text/plain": [
       "  0%|          | 0/5 [00:00<?, ?it/s]"
      ]
     },
     "metadata": {},
     "output_type": "display_data"
    },
    {
     "data": {
      "application/vnd.jupyter.widget-view+json": {
       "model_id": "9ce6987378dd4a39832fe24c0888c615",
       "version_major": 2,
       "version_minor": 0
      },
      "text/plain": [
       "  0%|          | 0/10 [00:00<?, ?it/s]"
      ]
     },
     "metadata": {},
     "output_type": "display_data"
    },
    {
     "data": {
      "application/vnd.jupyter.widget-view+json": {
       "model_id": "c770c5469d1945d0ae3ed6fc3ec3e97d",
       "version_major": 2,
       "version_minor": 0
      },
      "text/plain": [
       "  0%|          | 0/10 [00:00<?, ?it/s]"
      ]
     },
     "metadata": {},
     "output_type": "display_data"
    },
    {
     "data": {
      "application/vnd.jupyter.widget-view+json": {
       "model_id": "f7c01929fca245e4bf58f3d49b34e919",
       "version_major": 2,
       "version_minor": 0
      },
      "text/plain": [
       "  0%|          | 0/10 [00:00<?, ?it/s]"
      ]
     },
     "metadata": {},
     "output_type": "display_data"
    },
    {
     "data": {
      "application/vnd.jupyter.widget-view+json": {
       "model_id": "c572c7840db7402db9a9f7ea5b401978",
       "version_major": 2,
       "version_minor": 0
      },
      "text/plain": [
       "  0%|          | 0/10 [00:00<?, ?it/s]"
      ]
     },
     "metadata": {},
     "output_type": "display_data"
    },
    {
     "data": {
      "application/vnd.jupyter.widget-view+json": {
       "model_id": "2031a53d72204a99a8169d3c0b805c08",
       "version_major": 2,
       "version_minor": 0
      },
      "text/plain": [
       "  0%|          | 0/10 [00:00<?, ?it/s]"
      ]
     },
     "metadata": {},
     "output_type": "display_data"
    },
    {
     "name": "stdout",
     "output_type": "stream",
     "text": [
      "[[0.6, \"Based on the given input item description, label the item as one of the following: ['Household', 'Books', 'Clothing & Accessories', 'Electronics'].\"], [0.8, \"Design an experiment to categorize the input item descriptions into product types: 'Household', 'Books', 'Clothing & Accessories', 'Electronics'. Use a set of predefined criteria and test different approaches to see which yields the highest accuracy.\"], [0.9, \"List and implement various methods to classify the item descriptions into one of these categories: 'Household', 'Books', 'Clothing & Accessories', 'Electronics'. Evaluate each method's effectiveness and choose the most reliable one.\"], [0.7, \"Identify and analyze the key factors in the product descriptions that contribute to mislabeling items into categories such as 'Household', 'Books', 'Clothing & Accessories', and 'Electronics'. Adjust the instruction to account for these factors.\"], [0.5, \"Question the assumption that the provided categories ('Household', 'Books', 'Clothing & Accessories', 'Electronics') are exhaustive for all possible product descriptions. Adjust the instruction to include a step that considers whether the item fits into these categories or if it might belong to a different one.\"], [0.8, \"Create a step-by-step plan to label each input item description as either 'Household', 'Books', 'Clothing & Accessories', or 'Electronics'. Include detailed explanations for each step, such as identifying keywords in the description and comparing them against a list of category-specific terms.\"]]\n"
     ]
    }
   ],
   "source": [
    "from AutoLLM.modules.prompt_mutator import PromptMutator, PromptMutatorSchema\n",
    "\n",
    "mutation_client = APIClient(url=url, api_key=API_KEY, model=\"Qwen/Qwen2.5-32B-Instruct\")\n",
    "mutation_gen_config = {\n",
    "    \"temperature\": 0.7,\n",
    "    \"top_p\": 0.9,\n",
    "    # \"top_k\": 1,\n",
    "}\n",
    "mutation_client.load_generation_config(mutation_gen_config)\n",
    "\n",
    "\n",
    "pm = PromptMutator(mutation_client)\n",
    "resp = pm.mutate_prompt(\n",
    "    seed_prompt=initial_instruction,\n",
    "    task_description=\"Label E-commerce products as their product types given their product description.\",\n",
    "    num_variations=5,\n",
    ")\n",
    "\n",
    "for instruction in tqdm(resp):\n",
    "    ca.instructions = instruction\n",
    "    acc = ca.evaluate_accuracy(X=df_test['text'], y_true=df_test['label'])\n",
    "    population.append([acc, instruction])\n",
    "\n",
    "print(population)"
   ]
  },
  {
   "cell_type": "code",
   "execution_count": 7,
   "metadata": {},
   "outputs": [
    {
     "name": "stdout",
     "output_type": "stream",
     "text": [
      "0.6 Based on the given input item description, label the item as one of the following: ['Household', 'Books', 'Clothing & Accessories', 'Electronics'].\n",
      "0.8 Design an experiment to categorize the input item descriptions into product types: 'Household', 'Books', 'Clothing & Accessories', 'Electronics'. Use a set of predefined criteria and test different approaches to see which yields the highest accuracy.\n",
      "0.9 List and implement various methods to classify the item descriptions into one of these categories: 'Household', 'Books', 'Clothing & Accessories', 'Electronics'. Evaluate each method's effectiveness and choose the most reliable one.\n",
      "0.7 Identify and analyze the key factors in the product descriptions that contribute to mislabeling items into categories such as 'Household', 'Books', 'Clothing & Accessories', and 'Electronics'. Adjust the instruction to account for these factors.\n",
      "0.5 Question the assumption that the provided categories ('Household', 'Books', 'Clothing & Accessories', 'Electronics') are exhaustive for all possible product descriptions. Adjust the instruction to include a step that considers whether the item fits into these categories or if it might belong to a different one.\n",
      "0.8 Create a step-by-step plan to label each input item description as either 'Household', 'Books', 'Clothing & Accessories', or 'Electronics'. Include detailed explanations for each step, such as identifying keywords in the description and comparing them against a list of category-specific terms.\n"
     ]
    }
   ],
   "source": [
    "for s, i in population:\n",
    "    print(s, i)"
   ]
  },
  {
   "cell_type": "markdown",
   "metadata": {},
   "source": [
    "# Critique and refine"
   ]
  },
  {
   "cell_type": "markdown",
   "metadata": {},
   "source": [
    "## Critique"
   ]
  },
  {
   "cell_type": "code",
   "execution_count": 8,
   "metadata": {},
   "outputs": [],
   "source": [
    "critique_client = APIClient(url=url, api_key=API_KEY, model=\"Qwen/Qwen2.5-32B-Instruct\")\n",
    "critique_gen_config = {\n",
    "    \"temperature\": 0.7,\n",
    "    \"top_p\": 0.9,\n",
    "    # \"top_k\": 1,\n",
    "}\n",
    "critique_client.load_generation_config(critique_gen_config)\n",
    "\n",
    "\n",
    "\n"
   ]
  },
  {
   "cell_type": "markdown",
   "metadata": {},
   "source": [
    "### Evaluate initial prompt and save wrong examples"
   ]
  },
  {
   "cell_type": "code",
   "execution_count": 9,
   "metadata": {},
   "outputs": [
    {
     "data": {
      "application/vnd.jupyter.widget-view+json": {
       "model_id": "682c6f90c9b44d6b87cc83eef8dae98f",
       "version_major": 2,
       "version_minor": 0
      },
      "text/plain": [
       "  0%|          | 0/10 [00:00<?, ?it/s]"
      ]
     },
     "metadata": {},
     "output_type": "display_data"
    }
   ],
   "source": [
    "ca.instructions = initial_instruction\n",
    "X = df_test['text'].to_list()\n",
    "y_true = df_test['label'].to_list()\n",
    "y_pred = ca.run_samples(X)\n",
    "\n",
    "wrong_examples = []\n",
    "for i in range(len(y_pred)):\n",
    "    if y_pred[i] != y_true[i]:\n",
    "        wrong_examples.append((y_pred[i], y_true[i], X[i]))"
   ]
  },
  {
   "cell_type": "code",
   "execution_count": 13,
   "metadata": {},
   "outputs": [
    {
     "name": "stdout",
     "output_type": "stream",
     "text": [
      "LLM thinking: Examining each wrong example and the agent's output, it appears that the current instruction lacks specificity in guiding the agent to accurately differentiate between product types based on the provided descriptions. The agent seems to be making assumptions based on keywords or general themes without a clear understanding of the context or specific product characteristics that would help in making a precise classification.\n",
      "[\"The agent predicted 'Electronics' for the Prestige PIC 3.1 V3 2000-Watt Induction Cooktop due to the presence of technical terms such as 'induction', 'touch panel', and 'power saver technology'. These terms might have misled the agent into classifying the item as an electronic device rather than a household appliance.\", \"For the DeckUp Meritus-S Wall TV Unit, the agent predicted 'Household' because the description includes terms like 'TV Unit' and 'Product Dimensions', which might be more commonly associated with household items than electronic products. However, the primary function of this item is to support an electronic device, making it more suitable for the 'Electronics' category.\", \"In the case of the book 'Alibaba: The House that Jack Ma Built', the agent predicted 'Household' likely due to the inclusion of phrases like 'from the back cover' and 'product description', which could be misleading as these phrases are often used in book descriptions but may also be found in descriptions of household items.\", \"The agent predicted 'Household' for the baby romper because it mentions 'baby' and 'clothes', which might be more closely associated with general household items rather than specific clothing products.\"]\n",
      "The current instruction is too broad and does not provide clear criteria for distinguishing between product types. It may cause the agent to rely heavily on certain keywords or superficial aspects of the description without considering the overall context or specific characteristics that define each product category. To improve accuracy, the instruction should include more detailed guidelines or examples that help the agent understand the nuances and specific features that define each category.\n"
     ]
    }
   ],
   "source": [
    "from AutoLLM.modules.prompt_critique import PromptCritic\n",
    "\n",
    "wrong_examples_text = \"\"\n",
    "for label_pred, label_true, text in wrong_examples:\n",
    "    wrong_examples_text += f\"\"\"\n",
    "[Text]:               {text}\n",
    "[Correct Label]:      {label_true}\n",
    "[Predicted Label]:    {label_pred}\n",
    "\"\"\"\n",
    "    \n",
    "\n",
    "\n",
    "pc = PromptCritic(critique_client)\n",
    "critique, feedback = pc.critique_prompt(\n",
    "    task_description=\"Label E-commerce products as their product types given their product description.\",\n",
    "    seed_instruction=initial_instruction,\n",
    "    wrong_examples=wrong_examples_text,\n",
    ")\n",
    "\n",
    "\n",
    "print(critique)\n",
    "print(feedback)"
   ]
  },
  {
   "cell_type": "markdown",
   "metadata": {},
   "source": [
    "# Refine"
   ]
  },
  {
   "cell_type": "code",
   "execution_count": null,
   "metadata": {},
   "outputs": [],
   "source": []
  }
 ],
 "metadata": {
  "kernelspec": {
   "display_name": "ai",
   "language": "python",
   "name": "python3"
  },
  "language_info": {
   "codemirror_mode": {
    "name": "ipython",
    "version": 3
   },
   "file_extension": ".py",
   "mimetype": "text/x-python",
   "name": "python",
   "nbconvert_exporter": "python",
   "pygments_lexer": "ipython3",
   "version": "3.11.4"
  }
 },
 "nbformat": 4,
 "nbformat_minor": 2
}
