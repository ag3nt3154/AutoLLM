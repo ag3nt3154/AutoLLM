{
 "cells": [
  {
   "cell_type": "code",
   "execution_count": 1,
   "metadata": {},
   "outputs": [],
   "source": [
    "%load_ext autoreload\n",
    "%autoreload 2"
   ]
  },
  {
   "cell_type": "code",
   "execution_count": 2,
   "metadata": {},
   "outputs": [],
   "source": [
    "\n",
    "from AutoLLM.interfaces.api_client import APIClient\n",
    "from config import API_KEY\n",
    "\n",
    "url = \"https://api.studio.nebius.ai/v1/\"\n",
    "\n",
    "client = APIClient(url=url, api_key=API_KEY)\n",
    "client.load_generation_config({\"temperature\": 1.0})\n",
    "# resp = client.chat_completion(\n",
    "#     [\n",
    "#         {\n",
    "#             \"role\": \"user\",\n",
    "#             \"content\": \"What is the capital of France?\",\n",
    "#         }\n",
    "#     ]\n",
    "# )\n",
    "# print(resp)"
   ]
  },
  {
   "cell_type": "code",
   "execution_count": 3,
   "metadata": {},
   "outputs": [
    {
     "name": "stdout",
     "output_type": "stream",
     "text": [
      "LLM thinking: I applied the thinking styles to the seed task instruction by considering multiple viewpoints, analyzing the problem from different perspectives, questioning assumptions, and evaluating the evidence or information available. I also thought about the potential biases or flaws in thinking and how they could impact the performance of the agent. Additionally, I considered the time sensitivity of the problem, and although classifying a product is generally not time-sensitive, it's essential to make decisions quickly in a real-world scenario. Furthermore, I thought about how to measure progress on this problem, and I realize that progress can be measured by the accuracy of the classifications. Finally, I attempted to apply creative thinking by generating innovative and out-of-the-box ideas to solve the problem, thinking beyond traditional boundaries, and encouraging imagination and originality. By mixing these thinking styles, I was able to create mutated instructions that keep similar semantic meaning as the original seed task instruction and are able to accomplish the task described in the task description.\n",
      "['Parse the provided description of the product and make a binary decision as to whether it is something that can be ingested or is not.', 'Assess the provided description of the product based on its edibility, considering factors such as nutritional content, potential allergens, and any warnings or advisories that may be present.', 'Classify the product as edible or inedible based on its description, using a combination of logical reasoning and domain-specific knowledge to inform the decision.', 'Given the product description, utilize a prioritized decision-making framework to rapidly and accurately categorize the product as either edible or inedible.', 'Utilizing a detailed analytical approach, evaluate the product description to identify its edibility status, considering various attributes and characteristics that may impact this determination.']\n"
     ]
    }
   ],
   "source": [
    "from AutoLLM.modules.prompt_mutator import PromptMutator, PromptMutatorSchema\n",
    "\n",
    "pm = PromptMutator(client)\n",
    "resp = pm.mutate_prompt(\n",
    "    seed_prompt=\"Given the following description of a product, classify it as edible or inedible.\",\n",
    "    task_description=\"Classify the product as edible or inedible based on a description of the product.\",\n",
    "    num_variations=5,\n",
    ")\n",
    "\n",
    "print(resp)"
   ]
  }
 ],
 "metadata": {
  "kernelspec": {
   "display_name": "ai",
   "language": "python",
   "name": "python3"
  },
  "language_info": {
   "codemirror_mode": {
    "name": "ipython",
    "version": 3
   },
   "file_extension": ".py",
   "mimetype": "text/x-python",
   "name": "python",
   "nbconvert_exporter": "python",
   "pygments_lexer": "ipython3",
   "version": "3.11.4"
  }
 },
 "nbformat": 4,
 "nbformat_minor": 2
}
