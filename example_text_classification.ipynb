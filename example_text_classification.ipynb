{
 "cells": [
  {
   "cell_type": "code",
   "execution_count": 1,
   "metadata": {},
   "outputs": [],
   "source": [
    "%load_ext autoreload\n",
    "%autoreload 2"
   ]
  },
  {
   "cell_type": "markdown",
   "metadata": {},
   "source": [
    "# Text Classification Task\n",
    "\n",
    "E-commerce text classification using data from kaggle"
   ]
  },
  {
   "cell_type": "markdown",
   "metadata": {},
   "source": [
    "# Dataset"
   ]
  },
  {
   "cell_type": "code",
   "execution_count": 2,
   "metadata": {},
   "outputs": [
    {
     "data": {
      "text/html": [
       "<div>\n",
       "<style scoped>\n",
       "    .dataframe tbody tr th:only-of-type {\n",
       "        vertical-align: middle;\n",
       "    }\n",
       "\n",
       "    .dataframe tbody tr th {\n",
       "        vertical-align: top;\n",
       "    }\n",
       "\n",
       "    .dataframe thead th {\n",
       "        text-align: right;\n",
       "    }\n",
       "</style>\n",
       "<table border=\"1\" class=\"dataframe\">\n",
       "  <thead>\n",
       "    <tr style=\"text-align: right;\">\n",
       "      <th></th>\n",
       "      <th>label</th>\n",
       "      <th>text</th>\n",
       "    </tr>\n",
       "  </thead>\n",
       "  <tbody>\n",
       "    <tr>\n",
       "      <th>0</th>\n",
       "      <td>Household</td>\n",
       "      <td>Paper Plane Design Framed Wall Hanging Motivat...</td>\n",
       "    </tr>\n",
       "    <tr>\n",
       "      <th>1</th>\n",
       "      <td>Household</td>\n",
       "      <td>SAF 'Floral' Framed Painting (Wood, 30 inch x ...</td>\n",
       "    </tr>\n",
       "    <tr>\n",
       "      <th>2</th>\n",
       "      <td>Household</td>\n",
       "      <td>SAF 'UV Textured Modern Art Print Framed' Pain...</td>\n",
       "    </tr>\n",
       "    <tr>\n",
       "      <th>3</th>\n",
       "      <td>Household</td>\n",
       "      <td>SAF Flower Print Framed Painting (Synthetic, 1...</td>\n",
       "    </tr>\n",
       "    <tr>\n",
       "      <th>4</th>\n",
       "      <td>Household</td>\n",
       "      <td>Incredible Gifts India Wooden Happy Birthday U...</td>\n",
       "    </tr>\n",
       "    <tr>\n",
       "      <th>...</th>\n",
       "      <td>...</td>\n",
       "      <td>...</td>\n",
       "    </tr>\n",
       "    <tr>\n",
       "      <th>50420</th>\n",
       "      <td>Electronics</td>\n",
       "      <td>Strontium MicroSD Class 10 8GB Memory Card (Bl...</td>\n",
       "    </tr>\n",
       "    <tr>\n",
       "      <th>50421</th>\n",
       "      <td>Electronics</td>\n",
       "      <td>CrossBeats Wave Waterproof Bluetooth Wireless ...</td>\n",
       "    </tr>\n",
       "    <tr>\n",
       "      <th>50422</th>\n",
       "      <td>Electronics</td>\n",
       "      <td>Karbonn Titanium Wind W4 (White) Karbonn Titan...</td>\n",
       "    </tr>\n",
       "    <tr>\n",
       "      <th>50423</th>\n",
       "      <td>Electronics</td>\n",
       "      <td>Samsung Guru FM Plus (SM-B110E/D, Black) Colou...</td>\n",
       "    </tr>\n",
       "    <tr>\n",
       "      <th>50424</th>\n",
       "      <td>Electronics</td>\n",
       "      <td>Micromax Canvas Win W121 (White)</td>\n",
       "    </tr>\n",
       "  </tbody>\n",
       "</table>\n",
       "<p>50425 rows × 2 columns</p>\n",
       "</div>"
      ],
      "text/plain": [
       "             label                                               text\n",
       "0        Household  Paper Plane Design Framed Wall Hanging Motivat...\n",
       "1        Household  SAF 'Floral' Framed Painting (Wood, 30 inch x ...\n",
       "2        Household  SAF 'UV Textured Modern Art Print Framed' Pain...\n",
       "3        Household  SAF Flower Print Framed Painting (Synthetic, 1...\n",
       "4        Household  Incredible Gifts India Wooden Happy Birthday U...\n",
       "...            ...                                                ...\n",
       "50420  Electronics  Strontium MicroSD Class 10 8GB Memory Card (Bl...\n",
       "50421  Electronics  CrossBeats Wave Waterproof Bluetooth Wireless ...\n",
       "50422  Electronics  Karbonn Titanium Wind W4 (White) Karbonn Titan...\n",
       "50423  Electronics  Samsung Guru FM Plus (SM-B110E/D, Black) Colou...\n",
       "50424  Electronics                   Micromax Canvas Win W121 (White)\n",
       "\n",
       "[50425 rows x 2 columns]"
      ]
     },
     "execution_count": 2,
     "metadata": {},
     "output_type": "execute_result"
    }
   ],
   "source": [
    "import pandas as pd\n",
    "\n",
    "df_data = pd.read_pickle('./data/Ecommerce/ecommerce_classification_dataset.pkl')\n",
    "possible_labels = list(df_data['label'].unique())\n",
    "df_data"
   ]
  },
  {
   "cell_type": "markdown",
   "metadata": {},
   "source": [
    "## Train-test-split"
   ]
  },
  {
   "cell_type": "code",
   "execution_count": 3,
   "metadata": {},
   "outputs": [
    {
     "data": {
      "text/html": [
       "<div>\n",
       "<style scoped>\n",
       "    .dataframe tbody tr th:only-of-type {\n",
       "        vertical-align: middle;\n",
       "    }\n",
       "\n",
       "    .dataframe tbody tr th {\n",
       "        vertical-align: top;\n",
       "    }\n",
       "\n",
       "    .dataframe thead th {\n",
       "        text-align: right;\n",
       "    }\n",
       "</style>\n",
       "<table border=\"1\" class=\"dataframe\">\n",
       "  <thead>\n",
       "    <tr style=\"text-align: right;\">\n",
       "      <th></th>\n",
       "      <th>label</th>\n",
       "      <th>text</th>\n",
       "    </tr>\n",
       "  </thead>\n",
       "  <tbody>\n",
       "    <tr>\n",
       "      <th>13603</th>\n",
       "      <td>Household</td>\n",
       "      <td>Pigeon Popcorn Maker, 1200watts, Yellow No mov...</td>\n",
       "    </tr>\n",
       "    <tr>\n",
       "      <th>44708</th>\n",
       "      <td>Electronics</td>\n",
       "      <td>boAt BassHeads 225 in-Ear Super Extra Bass Hea...</td>\n",
       "    </tr>\n",
       "    <tr>\n",
       "      <th>13340</th>\n",
       "      <td>Household</td>\n",
       "      <td>Prestige PIC 3.1 V3 2000-Watt Induction Cookto...</td>\n",
       "    </tr>\n",
       "    <tr>\n",
       "      <th>26583</th>\n",
       "      <td>Books</td>\n",
       "      <td>Think &amp; Grow Rich - Lectures by Napoleon Hill ...</td>\n",
       "    </tr>\n",
       "    <tr>\n",
       "      <th>44130</th>\n",
       "      <td>Electronics</td>\n",
       "      <td>DeckUp Meritus-S Wall TV Unit (Dark Wenge, Mat...</td>\n",
       "    </tr>\n",
       "    <tr>\n",
       "      <th>18908</th>\n",
       "      <td>Household</td>\n",
       "      <td>Black+Decker Hand Tool Kit (108-Piece), Orange...</td>\n",
       "    </tr>\n",
       "    <tr>\n",
       "      <th>20173</th>\n",
       "      <td>Books</td>\n",
       "      <td>Alibaba: The House that Jack Ma Built Review “...</td>\n",
       "    </tr>\n",
       "    <tr>\n",
       "      <th>31485</th>\n",
       "      <td>Clothing &amp; Accessories</td>\n",
       "      <td>Baby Boy/Girl Romper Newborn Jumpsuit Blue Hoo...</td>\n",
       "    </tr>\n",
       "    <tr>\n",
       "      <th>34088</th>\n",
       "      <td>Clothing &amp; Accessories</td>\n",
       "      <td>S4S Men's 100% Cotton Premium Collection Handk...</td>\n",
       "    </tr>\n",
       "    <tr>\n",
       "      <th>11222</th>\n",
       "      <td>Household</td>\n",
       "      <td>Kraft Seeds Multipurpose Kitchen Household and...</td>\n",
       "    </tr>\n",
       "  </tbody>\n",
       "</table>\n",
       "</div>"
      ],
      "text/plain": [
       "                        label  \\\n",
       "13603               Household   \n",
       "44708             Electronics   \n",
       "13340               Household   \n",
       "26583                   Books   \n",
       "44130             Electronics   \n",
       "18908               Household   \n",
       "20173                   Books   \n",
       "31485  Clothing & Accessories   \n",
       "34088  Clothing & Accessories   \n",
       "11222               Household   \n",
       "\n",
       "                                                    text  \n",
       "13603  Pigeon Popcorn Maker, 1200watts, Yellow No mov...  \n",
       "44708  boAt BassHeads 225 in-Ear Super Extra Bass Hea...  \n",
       "13340  Prestige PIC 3.1 V3 2000-Watt Induction Cookto...  \n",
       "26583  Think & Grow Rich - Lectures by Napoleon Hill ...  \n",
       "44130  DeckUp Meritus-S Wall TV Unit (Dark Wenge, Mat...  \n",
       "18908  Black+Decker Hand Tool Kit (108-Piece), Orange...  \n",
       "20173  Alibaba: The House that Jack Ma Built Review “...  \n",
       "31485  Baby Boy/Girl Romper Newborn Jumpsuit Blue Hoo...  \n",
       "34088  S4S Men's 100% Cotton Premium Collection Handk...  \n",
       "11222  Kraft Seeds Multipurpose Kitchen Household and...  "
      ]
     },
     "metadata": {},
     "output_type": "display_data"
    },
    {
     "data": {
      "text/html": [
       "<div>\n",
       "<style scoped>\n",
       "    .dataframe tbody tr th:only-of-type {\n",
       "        vertical-align: middle;\n",
       "    }\n",
       "\n",
       "    .dataframe tbody tr th {\n",
       "        vertical-align: top;\n",
       "    }\n",
       "\n",
       "    .dataframe thead th {\n",
       "        text-align: right;\n",
       "    }\n",
       "</style>\n",
       "<table border=\"1\" class=\"dataframe\">\n",
       "  <thead>\n",
       "    <tr style=\"text-align: right;\">\n",
       "      <th></th>\n",
       "      <th>label</th>\n",
       "      <th>text</th>\n",
       "    </tr>\n",
       "  </thead>\n",
       "  <tbody>\n",
       "    <tr>\n",
       "      <th>24728</th>\n",
       "      <td>Books</td>\n",
       "      <td>UGC Net Education About the Author An editoria...</td>\n",
       "    </tr>\n",
       "    <tr>\n",
       "      <th>29641</th>\n",
       "      <td>Books</td>\n",
       "      <td>Oswaal Karnataka SSLC Question Bank Class 10 S...</td>\n",
       "    </tr>\n",
       "    <tr>\n",
       "      <th>9408</th>\n",
       "      <td>Household</td>\n",
       "      <td>Chef Direct Stainless Steel Dome Lid with Knob...</td>\n",
       "    </tr>\n",
       "    <tr>\n",
       "      <th>6530</th>\n",
       "      <td>Household</td>\n",
       "      <td>JDX Reliance Fiber Filler Cushion, 16X16 Inch,...</td>\n",
       "    </tr>\n",
       "    <tr>\n",
       "      <th>5667</th>\n",
       "      <td>Household</td>\n",
       "      <td>Magideal 2x Silky Soft Satin Standard Pillow C...</td>\n",
       "    </tr>\n",
       "    <tr>\n",
       "      <th>...</th>\n",
       "      <td>...</td>\n",
       "      <td>...</td>\n",
       "    </tr>\n",
       "    <tr>\n",
       "      <th>46826</th>\n",
       "      <td>Electronics</td>\n",
       "      <td>Canon EOS 1500D Digital SLR Camera (Black) wit...</td>\n",
       "    </tr>\n",
       "    <tr>\n",
       "      <th>15524</th>\n",
       "      <td>Household</td>\n",
       "      <td>Philips GC504/35 1600-Watt Garment Steamer (Pi...</td>\n",
       "    </tr>\n",
       "    <tr>\n",
       "      <th>48524</th>\n",
       "      <td>Electronics</td>\n",
       "      <td>LONPOO Compact HD DVD Player All Region Free (...</td>\n",
       "    </tr>\n",
       "    <tr>\n",
       "      <th>49605</th>\n",
       "      <td>Electronics</td>\n",
       "      <td>Intex IT-PB12.5K 12500 mAH Power Bank (Black-R...</td>\n",
       "    </tr>\n",
       "    <tr>\n",
       "      <th>25044</th>\n",
       "      <td>Books</td>\n",
       "      <td>The Everything Kids' Learning French Book: Fun...</td>\n",
       "    </tr>\n",
       "  </tbody>\n",
       "</table>\n",
       "<p>50415 rows × 2 columns</p>\n",
       "</div>"
      ],
      "text/plain": [
       "             label                                               text\n",
       "24728        Books  UGC Net Education About the Author An editoria...\n",
       "29641        Books  Oswaal Karnataka SSLC Question Bank Class 10 S...\n",
       "9408     Household  Chef Direct Stainless Steel Dome Lid with Knob...\n",
       "6530     Household  JDX Reliance Fiber Filler Cushion, 16X16 Inch,...\n",
       "5667     Household  Magideal 2x Silky Soft Satin Standard Pillow C...\n",
       "...            ...                                                ...\n",
       "46826  Electronics  Canon EOS 1500D Digital SLR Camera (Black) wit...\n",
       "15524    Household  Philips GC504/35 1600-Watt Garment Steamer (Pi...\n",
       "48524  Electronics  LONPOO Compact HD DVD Player All Region Free (...\n",
       "49605  Electronics  Intex IT-PB12.5K 12500 mAH Power Bank (Black-R...\n",
       "25044        Books  The Everything Kids' Learning French Book: Fun...\n",
       "\n",
       "[50415 rows x 2 columns]"
      ]
     },
     "metadata": {},
     "output_type": "display_data"
    }
   ],
   "source": [
    "from AutoLLM.utils.helpers import split_dataframe\n",
    "\n",
    "df_train, df_test = split_dataframe(df_data, 10 / df_data.shape[0], 42, 'label')\n",
    "display(df_test)\n",
    "display(df_train)"
   ]
  },
  {
   "cell_type": "markdown",
   "metadata": {},
   "source": [
    "# Simple classification"
   ]
  },
  {
   "cell_type": "markdown",
   "metadata": {},
   "source": [
    "## Classification agent"
   ]
  },
  {
   "cell_type": "code",
   "execution_count": 8,
   "metadata": {},
   "outputs": [
    {
     "data": {
      "application/vnd.jupyter.widget-view+json": {
       "model_id": "45dd2e05bf304e828e6bb7e13f8cae60",
       "version_major": 2,
       "version_minor": 0
      },
      "text/plain": [
       "  0%|          | 0/10 [00:00<?, ?it/s]"
      ]
     },
     "metadata": {},
     "output_type": "display_data"
    },
    {
     "name": "stdout",
     "output_type": "stream",
     "text": [
      "['Household', 'Electronics', 'Electronics', 'Books', 'Household', 'Household', 'Household', 'Household', 'Clothing & Accessories', 'Household']\n"
     ]
    },
    {
     "data": {
      "application/vnd.jupyter.widget-view+json": {
       "model_id": "c427c23ba1334b158832d59762ffae8f",
       "version_major": 2,
       "version_minor": 0
      },
      "text/plain": [
       "  0%|          | 0/10 [00:00<?, ?it/s]"
      ]
     },
     "metadata": {},
     "output_type": "display_data"
    },
    {
     "name": "stdout",
     "output_type": "stream",
     "text": [
      "0.6\n"
     ]
    }
   ],
   "source": [
    "from pydantic import BaseModel\n",
    "from typing import Literal\n",
    "from AutoLLM.interfaces.api_client import APIClient\n",
    "from config import API_KEY\n",
    "from AutoLLM.prompts.classifier import classifier_template\n",
    "from AutoLLM.modules.base_agent import BaseAgent\n",
    "import json\n",
    "from tqdm.notebook import tqdm\n",
    "from sklearn.metrics import accuracy_score\n",
    "\n",
    "url = \"https://api.studio.nebius.ai/v1/\"\n",
    "\n",
    "classifier_client = APIClient(url=url, api_key=API_KEY, model=\"meta-llama/Llama-3.2-3B-Instruct\")\n",
    "classifier_gen_config = {\n",
    "    \"temperature\": 1e-10,\n",
    "    \"top_p\": 1e-10,\n",
    "    # \"top_k\": 1,\n",
    "}\n",
    "classifier_client.load_generation_config(classifier_gen_config)\n",
    "\n",
    "class classifier_schema(BaseModel):\n",
    "    label: str\n",
    "\n",
    "class ClassifierAgent(BaseAgent):\n",
    "    def __init__(self, client, json_schema, gen_config):\n",
    "        super().__init__(client, json_schema, gen_config)\n",
    "        self.template = classifier_template\n",
    "        self.guide = '{\"label\": '\n",
    "        self.output_format = f\"\"\"label: (Literal) Return one of the choices from the following list: {possible_labels}.\"\"\"\n",
    "        self.system_message = \"You are a helpful AI assistant.\"\n",
    "        self.instructions = \"\"\n",
    "    \n",
    "    def _generate_prompt(self, **kwargs):\n",
    "        if not self.instructions:\n",
    "            if 'instructions' in kwargs:\n",
    "                self.instructions = kwargs['instructions']\n",
    "            else:\n",
    "                raise ValueError(\"Instructions not set.\")\n",
    "\n",
    "        self.user_prompt = self.template.format(\n",
    "            instructions=self.instructions,\n",
    "            output_format=self.output_format,\n",
    "            input=kwargs['input']\n",
    "        )\n",
    "        messages = [\n",
    "            {\"role\": \"system\", \"content\": self.system_message},\n",
    "            {\"role\": \"user\", \"content\": self.user_prompt},\n",
    "            {\"role\": \"assistant\", \"content\": self.guide},\n",
    "        ]\n",
    "        return messages\n",
    "    \n",
    "    def _parse_response(self, response):\n",
    "        return json.loads(response)['label']\n",
    "\n",
    "    def run_samples(self, X):\n",
    "        y_pred = []\n",
    "        for input in tqdm(X):\n",
    "            label = self.run(input=input)\n",
    "            y_pred.append(label)\n",
    "        return y_pred\n",
    "    \n",
    "    def evaluate_accuracy(self, X, y_true):\n",
    "        y_pred = self.run_samples(X)\n",
    "        return accuracy_score(y_true, y_pred)\n",
    "    \n",
    "\n",
    "\n",
    "\n",
    "\n",
    "ca = ClassifierAgent(classifier_client, classifier_schema, classifier_gen_config)\n",
    "ca.instructions = f\"Based on the given input item description, label the item as one of the following: {possible_labels}.\"\n",
    "print(ca.run_samples(df_test['text'].to_list()))\n",
    "print(ca.evaluate_accuracy(\n",
    "    X=df_test['text'],\n",
    "    y_true=df_test['label']\n",
    "))"
   ]
  },
  {
   "cell_type": "markdown",
   "metadata": {},
   "source": [
    "# Mutation"
   ]
  },
  {
   "cell_type": "code",
   "execution_count": 9,
   "metadata": {},
   "outputs": [
    {
     "data": {
      "application/vnd.jupyter.widget-view+json": {
       "model_id": "7c1a5404a36a4db9b57f7a933d6cfc75",
       "version_major": 2,
       "version_minor": 0
      },
      "text/plain": [
       "  0%|          | 0/10 [00:00<?, ?it/s]"
      ]
     },
     "metadata": {},
     "output_type": "display_data"
    },
    {
     "name": "stdout",
     "output_type": "stream",
     "text": [
      "[[0.6, \"Based on the given input item description, label the item as one of the following: ['Household', 'Books', 'Clothing & Accessories', 'Electronics'].\"]]\n"
     ]
    }
   ],
   "source": [
    "population = []\n",
    "\n",
    "initial_instruction = f\"Based on the given input item description, label the item as one of the following: {possible_labels}.\"\n",
    "ca.instructions = initial_instruction\n",
    "acc = ca.evaluate_accuracy(\n",
    "    X=df_test['text'],\n",
    "    y_true=df_test['label']\n",
    ")\n",
    "\n",
    "population.append([acc, initial_instruction])\n",
    "print(population)"
   ]
  },
  {
   "cell_type": "markdown",
   "metadata": {},
   "source": [
    "## Mutation agent"
   ]
  },
  {
   "cell_type": "code",
   "execution_count": 11,
   "metadata": {},
   "outputs": [
    {
     "name": "stdout",
     "output_type": "stream",
     "text": [
      "Instructions:\n",
      "Given a task description and a seed task instruction used for an agent to complete a task, you are to generate diverse variations of the seed task instruction by applying various thinking styles.\n",
      "\n",
      "[Task Description]: Label E-commerce products as their product types given their product description.\n",
      "[Seed Task Instruction]: Based on the given input item description, label the item as one of the following: ['Household', 'Books', 'Clothing & Accessories', 'Electronics'].\n",
      "\n",
      "Steps:\n",
      "- Analyze the task description and the seed task instruction. Think about how the seed task instruction accomplishes the task described.\n",
      "- Consider the following thinking styles and apply them to the seed task instruction. For each thinking style, thinking about how the seed task instruction may be improved by applying the thinking style.\n",
      "- Generate 5 mutated instructions from the seed task instruction by applying each thinking styles.\n",
      "- You may dynamically mix thinking styles to create more diverse variations.\n",
      "- You must generate mutated instructions that keep similar semantic meaning as the original seed task instruction.\n",
      "- You must generate mutated instructions that can be used to instruct an agent to accomplish the task described in the task description.\n",
      "\n",
      "[Thinking Styles]: \n",
      "- Is the problem a design challenge that requires creative solutions and innovation?\n",
      "- Is the problem related to human behavior, such as a social, cultural, or psychological issue?\n",
      "- Does the problem involve a physical constraint, such as limited resources, infrastructure, or space?\n",
      "- Seek input and collaboration from others to solve the problem. Emphasize teamwork, open communication, and leveraging the diverse perspectives and expertise of a group to come up with effective solutions.\n",
      "- Does the problem require addressing systemic or structural issues rather than just individual instances?\n",
      "\n",
      "-----------------------------------------\n",
      "Output Format:\n",
      "Return your output in a json format with the following fields. Do not return anything except the json object.\n",
      "- thinking: (str) Return logical reasoning for the mutation as well as the steps you took to arrive at the mutation.\n",
      "- mutated_instructions: (list) Return a list of the variations of the seed instruction that you generated.\n",
      "\n",
      "LLM thinking: The seed task instruction provides a clear and direct approach to labeling e-commerce products based on their descriptions. However, by applying different thinking styles, we can generate variations that introduce creativity, emphasize social dynamics, consider resource limitations, promote collaboration, and address systemic issues. Here are the logical reasons and steps taken for each mutation.\n"
     ]
    },
    {
     "data": {
      "application/vnd.jupyter.widget-view+json": {
       "model_id": "08f4296d71c74f97922920331b3bfea6",
       "version_major": 2,
       "version_minor": 0
      },
      "text/plain": [
       "  0%|          | 0/5 [00:00<?, ?it/s]"
      ]
     },
     "metadata": {},
     "output_type": "display_data"
    },
    {
     "data": {
      "application/vnd.jupyter.widget-view+json": {
       "model_id": "b73778e4dcc24a6faa49d76c0d6e5c6c",
       "version_major": 2,
       "version_minor": 0
      },
      "text/plain": [
       "  0%|          | 0/10 [00:00<?, ?it/s]"
      ]
     },
     "metadata": {},
     "output_type": "display_data"
    },
    {
     "data": {
      "application/vnd.jupyter.widget-view+json": {
       "model_id": "f962c0c861a24bf1906982c9fe349287",
       "version_major": 2,
       "version_minor": 0
      },
      "text/plain": [
       "  0%|          | 0/10 [00:00<?, ?it/s]"
      ]
     },
     "metadata": {},
     "output_type": "display_data"
    },
    {
     "data": {
      "application/vnd.jupyter.widget-view+json": {
       "model_id": "a19b61cdda504533b5f38b41cdbbdd15",
       "version_major": 2,
       "version_minor": 0
      },
      "text/plain": [
       "  0%|          | 0/10 [00:00<?, ?it/s]"
      ]
     },
     "metadata": {},
     "output_type": "display_data"
    },
    {
     "data": {
      "application/vnd.jupyter.widget-view+json": {
       "model_id": "a589cea59d3045ffb709530e3fee7d79",
       "version_major": 2,
       "version_minor": 0
      },
      "text/plain": [
       "  0%|          | 0/10 [00:00<?, ?it/s]"
      ]
     },
     "metadata": {},
     "output_type": "display_data"
    },
    {
     "data": {
      "application/vnd.jupyter.widget-view+json": {
       "model_id": "ed889ac80b864718bca9bc7296866f56",
       "version_major": 2,
       "version_minor": 0
      },
      "text/plain": [
       "  0%|          | 0/10 [00:00<?, ?it/s]"
      ]
     },
     "metadata": {},
     "output_type": "display_data"
    },
    {
     "name": "stdout",
     "output_type": "stream",
     "text": [
      "[[0.6, \"Based on the given input item description, label the item as one of the following: ['Household', 'Books', 'Clothing & Accessories', 'Electronics'].\"], [0.7, \"Innovatively categorize the item described into one of these types: ['Household', 'Books', 'Clothing & Accessories', 'Electronics'], considering unique features that might redefine traditional categories.\"], [0.8, \"Based on the cultural significance and social impact implied by the product description, assign the item to one of these categories: ['Household', 'Books', 'Clothing & Accessories', 'Electronics'].\"], [0.7, \"Given the constraints of limited storage space in a warehouse, label the item described as one of the following: ['Household', 'Books', 'Clothing & Accessories', 'Electronics'], prioritizing space-efficient categorization.\"], [0.8, \"Collaborate with team members to determine the most accurate category for the item described among: ['Household', 'Books', 'Clothing & Accessories', 'Electronics']. Discuss and leverage diverse perspectives for labeling.\"], [0.7, \"Consider the systemic impact of e-commerce product classification and label the described item as either 'Household', 'Books', 'Clothing & Accessories', or 'Electronics', ensuring the categorization supports broader system efficiency.\"]]\n"
     ]
    }
   ],
   "source": [
    "from AutoLLM.modules.prompt_mutator import PromptMutator, PromptMutatorSchema\n",
    "from AutoLLM.modules.mutation_agent import MutationAgent\n",
    "\n",
    "mutation_client = APIClient(url=url, api_key=API_KEY, model=\"Qwen/Qwen2.5-32B-Instruct\")\n",
    "mutation_gen_config = {\n",
    "    \"temperature\": 0.7,\n",
    "    \"top_p\": 0.9,\n",
    "    # \"top_k\": 1,\n",
    "}\n",
    "\n",
    "ma = MutationAgent(mutation_client, mutation_gen_config)\n",
    "task_description = \"Label E-commerce products as their product types given their product description.\"\n",
    "num_variations = 5\n",
    "mutations = ma.run(\n",
    "    task_description=task_description,\n",
    "    num_variations=num_variations,\n",
    "    seed_instruction=initial_instruction,\n",
    ")\n",
    "\n",
    "\n",
    "# pm = PromptMutator(mutation_client)\n",
    "# resp = pm.mutate_prompt(\n",
    "#     seed_prompt=initial_instruction,\n",
    "#     task_description=\"Label E-commerce products as their product types given their product description.\",\n",
    "#     num_variations=5,\n",
    "# )\n",
    "\n",
    "for instruction in tqdm(mutations):\n",
    "    ca.instructions = instruction\n",
    "    acc = ca.evaluate_accuracy(X=df_test['text'], y_true=df_test['label'])\n",
    "    population.append([acc, instruction])\n",
    "\n",
    "print(population)"
   ]
  },
  {
   "cell_type": "code",
   "execution_count": 12,
   "metadata": {},
   "outputs": [
    {
     "name": "stdout",
     "output_type": "stream",
     "text": [
      "0.6 Based on the given input item description, label the item as one of the following: ['Household', 'Books', 'Clothing & Accessories', 'Electronics'].\n",
      "0.7 Innovatively categorize the item described into one of these types: ['Household', 'Books', 'Clothing & Accessories', 'Electronics'], considering unique features that might redefine traditional categories.\n",
      "0.8 Based on the cultural significance and social impact implied by the product description, assign the item to one of these categories: ['Household', 'Books', 'Clothing & Accessories', 'Electronics'].\n",
      "0.7 Given the constraints of limited storage space in a warehouse, label the item described as one of the following: ['Household', 'Books', 'Clothing & Accessories', 'Electronics'], prioritizing space-efficient categorization.\n",
      "0.8 Collaborate with team members to determine the most accurate category for the item described among: ['Household', 'Books', 'Clothing & Accessories', 'Electronics']. Discuss and leverage diverse perspectives for labeling.\n",
      "0.7 Consider the systemic impact of e-commerce product classification and label the described item as either 'Household', 'Books', 'Clothing & Accessories', or 'Electronics', ensuring the categorization supports broader system efficiency.\n"
     ]
    }
   ],
   "source": [
    "for s, i in population:\n",
    "    print(s, i)"
   ]
  },
  {
   "cell_type": "markdown",
   "metadata": {},
   "source": [
    "# Critique and refine"
   ]
  },
  {
   "cell_type": "markdown",
   "metadata": {},
   "source": [
    "## Critique"
   ]
  },
  {
   "cell_type": "markdown",
   "metadata": {},
   "source": [
    "### Evaluate initial prompt and save wrong examples"
   ]
  },
  {
   "cell_type": "code",
   "execution_count": 15,
   "metadata": {},
   "outputs": [
    {
     "data": {
      "application/vnd.jupyter.widget-view+json": {
       "model_id": "cf6e0e88d3964934997019ea66c39096",
       "version_major": 2,
       "version_minor": 0
      },
      "text/plain": [
       "  0%|          | 0/10 [00:00<?, ?it/s]"
      ]
     },
     "metadata": {},
     "output_type": "display_data"
    },
    {
     "name": "stdout",
     "output_type": "stream",
     "text": [
      "[('Prestige PIC 3.1 V3 2000-Watt Induction Cooktop with Touch Panel (Black) Style:PIC 3.1 V3 2000-Watt Induction Cooktop with Touch panel   The innovative Prestige Induction Cook-Top offers quick and consistent heating at highest efficiency. Add to this its anti-magnetic wall, soft touch buttons, durability, safety and elegance makes cooking a pleasing and enjoyable experience. The Prestige Induction Cook-Top comes with the unique whistle counter, power saver technology and keep warm function wherein the Induction Cook-Top dynamically monitors the temperature of the vessel and adjusts the power level based on the size (base diameter) of the vessel. The dual heat sensor provided in the Induction Cook-Top automatically senses the temperature of the vessel and prevents over heating thereby saving power. With latest technology and features, this cooktop will be the best addition to your kitchen!', 'Household', 'Electronics'), ('DeckUp Meritus-S Wall TV Unit (Dark Wenge, Matte Finish) Color:Dark Wenge   Assembly Required: The Product Requires Basic Assembly And Comes With Diy (Do-It-Yourself) Assembly Instructions.Product Dimensions: Length (30 Inches), Width (12 Inches), Height (11 Inches).Primary Material: Engineered Wood With Melamine Laminate.Color: Dark Wenge, Finish: Matte Finish, Style: Contemporary.', 'Electronics', 'Household'), ('Alibaba: The House that Jack Ma Built Review “Anybody who thinks the Chinese just copy or steal technology from the West should read this book and think again. Jack Ma is part Bill Gates, part Steve Jobs, part Larry Page, part Sergei Brin, and part Mark Zuckerberg all rolled into one.” (Sir Martin Sorrell, CEO of WPP)“Useful, business-minded reporting on an unconventional corporate magnate, containing both corporate and human-interest perspectives.” (Kirkus Reviews)“This absorbing and well-written portrayal of Ma’s character, and his role in Alibaba’s development will appeal to a wide range of readers.” (Library Journal)“A clean and compelling narrative…[Clark] tells the story with flair.” (Wall Street Journal)“A fascinating new book.” (The Economist)“A must-read for anyone hoping to navigate China’s new economy”. (Financial Times) \\t\\t\\t\\t    \\t \\t\\t\\t\\t\\t From the Back Cover An engrossing, insider’s account of how a teacher built one of the world’s most valuable companies—rivaling Walmart and Amazon—and forever reshaped the global economyIn just a decade and a half, Jack Ma, a man from modest beginnings who started out as an English teacher, founded Alibaba and built it into one of the world’s largest companies, an e-commerce empire on which hundreds of millions of Chinese consumers depend. In 2014, Alibaba’s $25 billion IPO was the largest global IPO in history. A Rockefeller of his time, who is courted by CEOs and presidents around the world, Jack is an icon for China’s booming private sector and the gatekeeper to hundreds of millions of middle-class consumers. Duncan Clark first met Jack in 1999 in the small apartment where Jack founded Alibaba. Granted unprecedented access to a wealth of new material, including exclusive interviews, Clark draws on his own experience as an early adviser to Alibaba as well as his two decades in China chronicling the Internet’s impact on the country to create an authoritative, compelling narrative account of Alibaba’s rise.How did Jack overcome his humble origins and early failures to achieve massive success with Alibaba? How did he outsmart rival entrepreneurs from both China and Silicon Valley? Can Alibaba maintain its 80 percent market share? As it forges ahead into finance and entertainment, are there limits to Alibaba’s ambitions? How does the Chinese government view its rise? Will Alibaba expand farther overseas, including into the United States?Clark tells Alibaba’s tale in the context of China’s momentous economic and social changes, illuminating an unlikely corporate titan as never before.Advance Praise For Alibaba“Anybody who thinks the Chinese just copy or steal technology from the West should read this book and think again. Jack Ma is part Bill Gates, part Steve Jobs, part Larry Page, part Sergey Brin, and part Mark Zuckerberg, all rolled into one.”—Sir Martin Sorrell, CEO of WPP “Duncan Clark gets into the heart and soul of Alibaba and its founder, Jack Ma, who deftly maneuvered through the discontinuities and barriers in China to create one of the greatest companies in the world. China has thrived under the leadership of Jack Ma. This book is a must-read for anyone who wants to understand the present China and the heartbeat of a great entrepreneur.”—Tim Draper, founder of Draper Associates, DFJ, and Draper University“This book provides excellent insight into the world of Jack Ma, perhaps the most famous of the leaders of the new economy in China. Duncan Clark is a real China ‘Old Hand,’ unique in his knowledge of the Jack Ma generation. This book is definitely on the short list for those who wish to understand the Chinese economy today.”—Ken Wilcox, Chairman Emeritus, Silicon Valley Bank              See all Product description', 'Books', 'Household'), ('Baby Boy/Girl Romper Newborn Jumpsuit Blue Hooded Romper Extra Soft Warm Woolen Material Baby Winter Clothes Newborn Baby Boy Girl Hooed Footed Romper Kids Long Sleeves Jumpsuit...Winter Romper to keep your baby warm and comfortable', 'Clothing & Accessories', 'Household')]\n"
     ]
    }
   ],
   "source": [
    "ca.instructions = initial_instruction\n",
    "X = df_test['text'].to_list()\n",
    "y_true = df_test['label'].to_list()\n",
    "y_pred = ca.run_samples(X)\n",
    "\n",
    "wrong_examples = []\n",
    "for i in range(len(y_pred)):\n",
    "    if y_pred[i] != y_true[i]:\n",
    "        wrong_examples.append((X[i], y_true[i], y_pred[i]))\n",
    "\n",
    "print(wrong_examples)"
   ]
  },
  {
   "cell_type": "code",
   "execution_count": 18,
   "metadata": {},
   "outputs": [
    {
     "name": "stdout",
     "output_type": "stream",
     "text": [
      "LLM thinking: The current instruction is somewhat vague and does not provide enough context or specific criteria for distinguishing between product types, especially for items that could fall into multiple categories based on their descriptions. The agent might be classifying products based on keywords that are not sufficiently indicative of the product type or are too broad, leading to incorrect categorization. For example, 'Cooktop' could be associated with 'Electronics' due to its technological features, while 'TV Unit' might be seen as 'Household' because it is furniture. Similarly, a book review might be misclassified as 'Household' due to the mention of 'product description' in the text, and a 'Romper' might be incorrectly labeled as 'Household' due to its use in a domestic setting.\n",
      "[\"The instruction lacks specific criteria for distinguishing between 'Household' and 'Electronics' products. Keywords like 'induction', 'touch panel', and 'technology' might lead the agent to classify the Prestige PIC 3.1 V3 2000-Watt Induction Cooktop as 'Electronics'. The instruction should be more explicit in defining what constitutes a 'Household' item versus an 'Electronics' product, emphasizing the primary function or usage context of the product.\", \"The instruction does not clarify the distinction between furniture or decorative items ('Household') and items that are typically associated with electronic devices ('Electronics'). The mention of 'TV' in the DeckUp Meritus-S Wall TV Unit might lead the agent to categorize it under 'Electronics', whereas it should be categorized as 'Household' based on its function as a piece of furniture. Adding explicit guidelines on the categorization of furniture versus electronic devices would help.\", \"The instruction could be misleading for texts that are reviews or descriptions of books. The mention of 'product description' and 'reviews' in the text about the book 'Alibaba: The House that Jack Ma Built' might confuse the agent into thinking it is a product review for a household item, rather than recognizing it as a book. The instruction should include a clear guideline that mentions reviews and descriptions of books should be labeled as 'Books'.\", \"The instruction might not provide enough context to differentiate between 'Clothing & Accessories' and 'Household' items. For example, the description of the Baby Romper includes terms like 'newborn' and 'baby', which might be associated with household products in the agent's classification logic. The instruction should emphasize the material and primary use of the item, such as 'clothing', 'accessories', 'wearable', etc., to help the agent correctly identify clothing products.\"]\n"
     ]
    }
   ],
   "source": [
    "from AutoLLM.modules.critic_agent import CriticAgent\n",
    "\n",
    "critique_client = APIClient(url=url, api_key=API_KEY, model=\"Qwen/Qwen2.5-32B-Instruct\")\n",
    "critique_gen_config = {\n",
    "    \"temperature\": 0.7,\n",
    "    \"top_p\": 0.9,\n",
    "}\n",
    "\n",
    "wrong_examples_text = []\n",
    "for text, label_true, label_pred in wrong_examples:\n",
    "    wrong_examples_text.append(f\"\"\"\n",
    "[Text]:               {text}\n",
    "[Correct Label]:      {label_true}\n",
    "[Predicted Label]:    {label_pred}\"\"\")\n",
    "\n",
    "critic_agent = CriticAgent(critique_client, critique_gen_config)\n",
    "critique = critic_agent.run(\n",
    "    seed_instruction=initial_instruction,\n",
    "    task_description=task_description,\n",
    "    wrong_examples='\\n'.join(wrong_examples_text),\n",
    ")\n",
    "\n",
    "print(critique)\n"
   ]
  },
  {
   "cell_type": "markdown",
   "metadata": {},
   "source": [
    "# Refine"
   ]
  },
  {
   "cell_type": "code",
   "execution_count": 26,
   "metadata": {},
   "outputs": [
    {
     "name": "stdout",
     "output_type": "stream",
     "text": [
      "[{'role': 'system', 'content': 'You are a helpful assistant.'}, {'role': 'user', 'content': 'Instruction:\\nI\\'m trying to write a zero-shot instruction that will help the most capable and suitable agent to solve the following task. You are to refine the current instruction based on the critique provided.\\n\\n[Task Description]: Label E-commerce products as their product types given their product description.\\n\\nMy current instruction is: Based on the given input item description, label the item as one of the following: [\\'Household\\', \\'Books\\', \\'Clothing & Accessories\\', \\'Electronics\\'].\\n\\n-------------------\\nExamples:\\nThe following are examples where the current instruction has gone wrong and corresponding critiques of the current instruction for each example.\\n\\n[\"\\\\n[Text]:               Prestige PIC 3.1 V3 2000-Watt Induction Cooktop with Touch Panel (Black) Style:PIC 3.1 V3 2000-Watt Induction Cooktop with Touch panel   The innovative Prestige Induction Cook-Top offers quick and consistent heating at highest efficiency. Add to this its anti-magnetic wall, soft touch buttons, durability, safety and elegance makes cooking a pleasing and enjoyable experience. The Prestige Induction Cook-Top comes with the unique whistle counter, power saver technology and keep warm function wherein the Induction Cook-Top dynamically monitors the temperature of the vessel and adjusts the power level based on the size (base diameter) of the vessel. The dual heat sensor provided in the Induction Cook-Top automatically senses the temperature of the vessel and prevents over heating thereby saving power. With latest technology and features, this cooktop will be the best addition to your kitchen!\\\\n[Correct Label]:      Household\\\\n[Predicted Label]:    Electronics\\\\n[Critique]: The instruction lacks specific criteria for distinguishing between \\'Household\\' and \\'Electronics\\' products. Keywords like \\'induction\\', \\'touch panel\\', and \\'technology\\' might lead the agent to classify the Prestige PIC 3.1 V3 2000-Watt Induction Cooktop as \\'Electronics\\'. The instruction should be more explicit in defining what constitutes a \\'Household\\' item versus an \\'Electronics\\' product, emphasizing the primary function or usage context of the product.\", \"\\\\n[Text]:               DeckUp Meritus-S Wall TV Unit (Dark Wenge, Matte Finish) Color:Dark Wenge   Assembly Required: The Product Requires Basic Assembly And Comes With Diy (Do-It-Yourself) Assembly Instructions.Product Dimensions: Length (30 Inches), Width (12 Inches), Height (11 Inches).Primary Material: Engineered Wood With Melamine Laminate.Color: Dark Wenge, Finish: Matte Finish, Style: Contemporary.\\\\n[Correct Label]:      Electronics\\\\n[Predicted Label]:    Household\\\\n[Critique]: The instruction does not clarify the distinction between furniture or decorative items (\\'Household\\') and items that are typically associated with electronic devices (\\'Electronics\\'). The mention of \\'TV\\' in the DeckUp Meritus-S Wall TV Unit might lead the agent to categorize it under \\'Electronics\\', whereas it should be categorized as \\'Household\\' based on its function as a piece of furniture. Adding explicit guidelines on the categorization of furniture versus electronic devices would help.\", \"\\\\n[Text]:               Alibaba: The House that Jack Ma Built Review “Anybody who thinks the Chinese just copy or steal technology from the West should read this book and think again. Jack Ma is part Bill Gates, part Steve Jobs, part Larry Page, part Sergei Brin, and part Mark Zuckerberg all rolled into one.” (Sir Martin Sorrell, CEO of WPP)“Useful, business-minded reporting on an unconventional corporate magnate, containing both corporate and human-interest perspectives.” (Kirkus Reviews)“This absorbing and well-written portrayal of Ma’s character, and his role in Alibaba’s development will appeal to a wide range of readers.” (Library Journal)“A clean and compelling narrative…[Clark] tells the story with flair.” (Wall Street Journal)“A fascinating new book.” (The Economist)“A must-read for anyone hoping to navigate China’s new economy”. (Financial Times) \\\\t\\\\t\\\\t\\\\t    \\\\t \\\\t\\\\t\\\\t\\\\t\\\\t From the Back Cover An engrossing, insider’s account of how a teacher built one of the world’s most valuable companies—rivaling Walmart and Amazon—and forever reshaped the global economyIn just a decade and a half, Jack Ma, a man from modest beginnings who started out as an English teacher, founded Alibaba and built it into one of the world’s largest companies, an e-commerce empire on which hundreds of millions of Chinese consumers depend. In 2014, Alibaba’s $25 billion IPO was the largest global IPO in history. A Rockefeller of his time, who is courted by CEOs and presidents around the world, Jack is an icon for China’s booming private sector and the gatekeeper to hundreds of millions of middle-class consumers. Duncan Clark first met Jack in 1999 in the small apartment where Jack founded Alibaba. Granted unprecedented access to a wealth of new material, including exclusive interviews, Clark draws on his own experience as an early adviser to Alibaba as well as his two decades in China chronicling the Internet’s impact on the country to create an authoritative, compelling narrative account of Alibaba’s rise.How did Jack overcome his humble origins and early failures to achieve massive success with Alibaba? How did he outsmart rival entrepreneurs from both China and Silicon Valley? Can Alibaba maintain its 80 percent market share? As it forges ahead into finance and entertainment, are there limits to Alibaba’s ambitions? How does the Chinese government view its rise? Will Alibaba expand farther overseas, including into the United States?Clark tells Alibaba’s tale in the context of China’s momentous economic and social changes, illuminating an unlikely corporate titan as never before.Advance Praise For Alibaba“Anybody who thinks the Chinese just copy or steal technology from the West should read this book and think again. Jack Ma is part Bill Gates, part Steve Jobs, part Larry Page, part Sergey Brin, and part Mark Zuckerberg, all rolled into one.”—Sir Martin Sorrell, CEO of WPP “Duncan Clark gets into the heart and soul of Alibaba and its founder, Jack Ma, who deftly maneuvered through the discontinuities and barriers in China to create one of the greatest companies in the world. China has thrived under the leadership of Jack Ma. This book is a must-read for anyone who wants to understand the present China and the heartbeat of a great entrepreneur.”—Tim Draper, founder of Draper Associates, DFJ, and Draper University“This book provides excellent insight into the world of Jack Ma, perhaps the most famous of the leaders of the new economy in China. Duncan Clark is a real China ‘Old Hand,’ unique in his knowledge of the Jack Ma generation. This book is definitely on the short list for those who wish to understand the Chinese economy today.”—Ken Wilcox, Chairman Emeritus, Silicon Valley Bank              See all Product description\\\\n[Correct Label]:      Books\\\\n[Predicted Label]:    Household\\\\n[Critique]: The instruction could be misleading for texts that are reviews or descriptions of books. The mention of \\'product description\\' and \\'reviews\\' in the text about the book \\'Alibaba: The House that Jack Ma Built\\' might confuse the agent into thinking it is a product review for a household item, rather than recognizing it as a book. The instruction should include a clear guideline that mentions reviews and descriptions of books should be labeled as \\'Books\\'.\", \"\\\\n[Text]:               Baby Boy/Girl Romper Newborn Jumpsuit Blue Hooded Romper Extra Soft Warm Woolen Material Baby Winter Clothes Newborn Baby Boy Girl Hooed Footed Romper Kids Long Sleeves Jumpsuit...Winter Romper to keep your baby warm and comfortable\\\\n[Correct Label]:      Clothing & Accessories\\\\n[Predicted Label]:    Household\\\\n[Critique]: The instruction might not provide enough context to differentiate between \\'Clothing & Accessories\\' and \\'Household\\' items. For example, the description of the Baby Romper includes terms like \\'newborn\\' and \\'baby\\', which might be associated with household products in the agent\\'s classification logic. The instruction should emphasize the material and primary use of the item, such as \\'clothing\\', \\'accessories\\', \\'wearable\\', etc., to help the agent correctly identify clothing products.\"]\\n\\nSteps:\\n1. Examine each wrong example, agent\\'s output using the current instruction, and the critique of the current instruction for each example.\\n2. Use the critique provided to generate 5 refined instructions by improving the current instruction based on the critique.\\n3. You may generalise the critique to generate more refined instructions.\\n4. You must generate refined instructions that keep similar semantic meaning as the original instruction and can be used to instruct an agent to accomplish the task described in the task description.\\n\\n--------------------\\nOutput Format:\\nReturn your output in a json format with the following fields. Do not return anything except the json object.\\n- thinking: (str) Return logical reasoning for the mutation as well as the steps you took to arrive at the mutation.\\n- refined_instructions: (list) Return a list of the refined instructions that you generated.\\n'}, {'role': 'assistant', 'content': '{\"thinking\": '}]\n",
      "LLM thinking: The critique highlights the need for clearer distinctions between product categories, especially when dealing with items that have overlapping features or descriptions. To address these issues, the refined instructions will need to emphasize the primary function or context of use for each product type, as well as include specific guidelines for categorizing book reviews or descriptions. The new instructions will also provide more context around the material and intended use for clothing items.\n",
      "Based on the primary function or usage context of the given input item description, label the item as one of the following: ['Household', 'Books', 'Clothing & Accessories', 'Electronics']. Remember, 'Household' items are typically used for daily living and house maintenance, 'Books' are written or printed works, 'Clothing & Accessories' are wearable items or items used to complement clothing, and 'Electronics' are devices that use electricity to operate.\n",
      "Label the item according to its primary function or usage context from the given input item description. Use the following categories: ['Household', 'Books', 'Clothing & Accessories', 'Electronics']. Note that 'Household' includes furniture and home decor, 'Books' includes book reviews and descriptions, 'Clothing & Accessories' includes items made of fabric or used as accessories, and 'Electronics' includes devices that require electricity to function.\n",
      "Given the product description, categorize the item into one of the following types based on its primary function or intended use: ['Household', 'Books', 'Clothing & Accessories', 'Electronics']. 'Household' includes items for daily home use, 'Books' includes written or printed works and their reviews, 'Clothing & Accessories' includes wearable items, and 'Electronics' includes electrical devices.\n",
      "Using the input item description, classify the item into one of the following categories: ['Household', 'Books', 'Clothing & Accessories', 'Electronics']. Focus on the primary function or context of use. 'Household' items are used for home activities, 'Books' include texts and reviews, 'Clothing & Accessories' are items meant to be worn or used as fashion accessories, and 'Electronics' are devices that require electricity.\n",
      "For the given input item description, assign the item to one of the following categories: ['Household', 'Books', 'Clothing & Accessories', 'Electronics']. Emphasize the primary function or usage context of the item. 'Household' includes furniture and household items, 'Books' includes written works and reviews, 'Clothing & Accessories' includes wearable items made from fabric, and 'Electronics' includes devices that require electrical power to function.\n"
     ]
    }
   ],
   "source": [
    "from AutoLLM.modules.refine_agent import RefineAgent\n",
    "wrong_examples_with_critique = []\n",
    "for i in range(len(wrong_examples_text)):\n",
    "    wrong_examples_with_critique.append(wrong_examples_text[i] + f\"\\n[Critique]: {critique[i]}\")\n",
    "\n",
    "# print('\\n'.join(wrong_examples_with_critique))\n",
    "\n",
    "refine_client = APIClient(url=url, api_key=API_KEY, model=\"Qwen/Qwen2.5-32B-Instruct\")\n",
    "refine_gen_config = {\n",
    "    \"temperature\": 0.7,\n",
    "    \"top_p\": 0.9,\n",
    "}\n",
    "refine_agent = RefineAgent(refine_client, refine_gen_config)\n",
    "refined_prompts = refine_agent.run(\n",
    "    task_description=task_description,\n",
    "    instruction=initial_instruction,\n",
    "    examples=wrong_examples_with_critique,\n",
    "    num_variations=5,\n",
    ")\n",
    "\n",
    "for rp in refined_prompts:\n",
    "    print(rp)"
   ]
  },
  {
   "cell_type": "markdown",
   "metadata": {},
   "source": [
    "## Test refined prompts"
   ]
  },
  {
   "cell_type": "code",
   "execution_count": 27,
   "metadata": {},
   "outputs": [
    {
     "data": {
      "application/vnd.jupyter.widget-view+json": {
       "model_id": "a4de92fcf4184466a9fa71f7887f49b3",
       "version_major": 2,
       "version_minor": 0
      },
      "text/plain": [
       "  0%|          | 0/10 [00:00<?, ?it/s]"
      ]
     },
     "metadata": {},
     "output_type": "display_data"
    },
    {
     "name": "stdout",
     "output_type": "stream",
     "text": [
      "0.6\n"
     ]
    },
    {
     "data": {
      "application/vnd.jupyter.widget-view+json": {
       "model_id": "f5e4261b1be34208a499714676571f1c",
       "version_major": 2,
       "version_minor": 0
      },
      "text/plain": [
       "  0%|          | 0/10 [00:00<?, ?it/s]"
      ]
     },
     "metadata": {},
     "output_type": "display_data"
    },
    {
     "name": "stdout",
     "output_type": "stream",
     "text": [
      "0.8\n"
     ]
    },
    {
     "data": {
      "application/vnd.jupyter.widget-view+json": {
       "model_id": "6477837dc39242158ac0fd98ac1a75a1",
       "version_major": 2,
       "version_minor": 0
      },
      "text/plain": [
       "  0%|          | 0/10 [00:00<?, ?it/s]"
      ]
     },
     "metadata": {},
     "output_type": "display_data"
    },
    {
     "name": "stdout",
     "output_type": "stream",
     "text": [
      "0.8\n"
     ]
    },
    {
     "data": {
      "application/vnd.jupyter.widget-view+json": {
       "model_id": "67d0aacf1ed54f9ea7052adc626d3ebd",
       "version_major": 2,
       "version_minor": 0
      },
      "text/plain": [
       "  0%|          | 0/10 [00:00<?, ?it/s]"
      ]
     },
     "metadata": {},
     "output_type": "display_data"
    },
    {
     "name": "stdout",
     "output_type": "stream",
     "text": [
      "0.8\n"
     ]
    },
    {
     "data": {
      "application/vnd.jupyter.widget-view+json": {
       "model_id": "66d3fb63a8f841cb985b1685309f7971",
       "version_major": 2,
       "version_minor": 0
      },
      "text/plain": [
       "  0%|          | 0/10 [00:00<?, ?it/s]"
      ]
     },
     "metadata": {},
     "output_type": "display_data"
    },
    {
     "name": "stdout",
     "output_type": "stream",
     "text": [
      "0.8\n"
     ]
    }
   ],
   "source": [
    "for rp in refined_prompts:\n",
    "    ca.instructions=rp\n",
    "    acc = ca.evaluate_accuracy(\n",
    "        X=df_test['text'],\n",
    "        y_true=df_test['label']\n",
    "    )\n",
    "    print(acc)"
   ]
  },
  {
   "cell_type": "markdown",
   "metadata": {},
   "source": [
    "# Expert Generation"
   ]
  },
  {
   "cell_type": "code",
   "execution_count": 29,
   "metadata": {},
   "outputs": [
    {
     "name": "stdout",
     "output_type": "stream",
     "text": [
      "LLM thinking: The task requires categorizing an item based on its description into predefined categories. This suggests that the most suitable agent would have expertise in product classification and organization, likely someone who works in retail or inventory management and is familiar with common product categories.\n",
      "You are a retail product manager with extensive experience in organizing and categorizing items for efficient inventory management and customer navigation. Your role requires a keen understanding of various product types and their classification into specific categories such as Household, Books, Clothing & Accessories, and Electronics. You have a thorough knowledge of product attributes and how they align with different categories, making you highly capable of accurately labeling items based on their descriptions. Your experience in retail and inventory systems ensures that you can quickly identify key characteristics of an item and assign it to the correct category, thereby streamlining the shopping and organizational process.\n"
     ]
    }
   ],
   "source": [
    "from AutoLLM.modules.expert_agent import ExpertAgent\n",
    "expert_client = APIClient(url=url, api_key=API_KEY, model=\"Qwen/Qwen2.5-32B-Instruct\")\n",
    "expert_gen_config = {\n",
    "    \"temperature\": 0.7,\n",
    "    \"top_p\": 0.9,\n",
    "}\n",
    "\n",
    "expert_agent = ExpertAgent(client=expert_client, gen_config=expert_gen_config)\n",
    "agent_description = expert_agent.run(instruction=initial_instruction)\n",
    "print(agent_description)"
   ]
  },
  {
   "cell_type": "markdown",
   "metadata": {},
   "source": [
    "### Test new expert"
   ]
  },
  {
   "cell_type": "code",
   "execution_count": 31,
   "metadata": {},
   "outputs": [
    {
     "data": {
      "application/vnd.jupyter.widget-view+json": {
       "model_id": "da83869642e64e33a0f974d4d6a9bbe9",
       "version_major": 2,
       "version_minor": 0
      },
      "text/plain": [
       "  0%|          | 0/10 [00:00<?, ?it/s]"
      ]
     },
     "metadata": {},
     "output_type": "display_data"
    },
    {
     "data": {
      "text/plain": [
       "0.8"
      ]
     },
     "execution_count": 31,
     "metadata": {},
     "output_type": "execute_result"
    }
   ],
   "source": [
    "ca.system_message = agent_description\n",
    "ca.instructions = initial_instruction\n",
    "\n",
    "ca.evaluate_accuracy(X=df_test['text'], y_true=df_test['label'])"
   ]
  },
  {
   "cell_type": "code",
   "execution_count": 32,
   "metadata": {},
   "outputs": [
    {
     "data": {
      "application/vnd.jupyter.widget-view+json": {
       "model_id": "03bf9a28ffda43a085c9add27072ecfa",
       "version_major": 2,
       "version_minor": 0
      },
      "text/plain": [
       "  0%|          | 0/10 [00:00<?, ?it/s]"
      ]
     },
     "metadata": {},
     "output_type": "display_data"
    },
    {
     "data": {
      "text/plain": [
       "0.7"
      ]
     },
     "execution_count": 32,
     "metadata": {},
     "output_type": "execute_result"
    }
   ],
   "source": [
    "ca.system_message = \"You are a helpful AI assistant.\"\n",
    "ca.evaluate_accuracy(X=df_test['text'], y_true=df_test['label'])"
   ]
  }
 ],
 "metadata": {
  "kernelspec": {
   "display_name": "ai",
   "language": "python",
   "name": "python3"
  },
  "language_info": {
   "codemirror_mode": {
    "name": "ipython",
    "version": 3
   },
   "file_extension": ".py",
   "mimetype": "text/x-python",
   "name": "python",
   "nbconvert_exporter": "python",
   "pygments_lexer": "ipython3",
   "version": "3.11.4"
  }
 },
 "nbformat": 4,
 "nbformat_minor": 2
}
