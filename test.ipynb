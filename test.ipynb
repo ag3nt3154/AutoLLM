{
 "cells": [
  {
   "cell_type": "code",
   "execution_count": 1,
   "metadata": {},
   "outputs": [],
   "source": [
    "import json\n",
    "\n",
    "default_prompt_library = {\n",
    "    \"system_message\": [\n",
    "        \"\",\n",
    "        \"You are a helpful AI assistant.\",\n",
    "        \"You are as smart as GPT-4o.\",\n",
    "        \"You are a professional working in this specific field.\",\n",
    "        \"Command, we need you to plot a course through this turbulence and locate the source of the anomaly. Use all available data and your expertise to guide us through this challenging situation.\",\n",
    "    ],\n",
    "    \"echo\": [\n",
    "        \"\",\n",
    "        \"Repeat the question before you start to answer the question.\",\n",
    "        \"Rephrase the task instructions in your own words before you start to complete the task.\",\n",
    "        \"Rephrase the following query using short and simple sentences, without loss of details.\",\n",
    "    ],\n",
    "    \"chain_of_thought\": [\n",
    "        \"\",\n",
    "        \"Think step by step.\",\n",
    "        \"Think step by step and explain your reasoning.\",\n",
    "        \"Think step by step and explain your reasoning. Then, answer the question.\",\n",
    "        \"Show your reasoning step by step.\",\n",
    "        \"Let's work through this step by step.\",\n",
    "    ],\n",
    "}\n",
    "\n",
    "with open('default_prompt_library.json', 'w') as f:\n",
    "    json.dump(default_prompt_library, f)"
   ]
  },
  {
   "cell_type": "code",
   "execution_count": 2,
   "metadata": {},
   "outputs": [
    {
     "name": "stdout",
     "output_type": "stream",
     "text": [
      "{'system_message': ['', 'You are a helpful AI assistant.', 'You are as smart as GPT-4o.', 'You are a professional working in this specific field.', 'Command, we need you to plot a course through this turbulence and locate the source of the anomaly. Use all available data and your expertise to guide us through this challenging situation.'], 'echo': ['', 'Repeat the question before you start to answer the question.', 'Rephrase the task instructions in your own words before you start to complete the task.', 'Rephrase the following query using short and simple sentences, without loss of details.'], 'chain_of_thought': ['', 'Think step by step.', 'Think step by step and explain your reasoning.', 'Think step by step and explain your reasoning. Then, answer the question.', 'Show your reasoning step by step.', \"Let's work through this step by step.\"]}\n"
     ]
    }
   ],
   "source": [
    "with open('./AutoLLM/Prompt_Generator/default_prompt_library.json', 'r') as f:\n",
    "    data = json.load(f)\n",
    "\n",
    "print(data)"
   ]
  },
  {
   "cell_type": "code",
   "execution_count": 3,
   "metadata": {},
   "outputs": [],
   "source": [
    "%load_ext autoreload\n",
    "%autoreload 2"
   ]
  },
  {
   "cell_type": "code",
   "execution_count": 15,
   "metadata": {},
   "outputs": [
    {
     "name": "stdout",
     "output_type": "stream",
     "text": [
      "You are a helpful assistant.\n",
      "\n",
      "=======\n",
      "\n",
      "Label the sentiment of the text as positive or negative. Show your reasoning. Repeat the prompt.\n",
      "\n",
      "=======\n",
      "\n",
      "Follow the following format:\n",
      "\n",
      "Question: Label the sentiment of the text as positive or negative.\n",
      "\n",
      "Text: The text to be labeled.\n",
      "\n",
      "Reasoning: Let's think step by step in order to produce the answer.\n",
      "\n",
      "Answer: Label the sentiment of the text as positive or negative.\n",
      "\n",
      "=======\n",
      "\n",
      "Question: Is the following text positive or negative?\n",
      "\n",
      "Text: I love this product!\n",
      "\n",
      "Reasoning: The text is positive because it expresses love for the product.\n",
      "\n",
      "Answer: Positive\n",
      "\n",
      "\n",
      "Question: Is the following text positive or negative?\n",
      "\n",
      "Text: I hate this product!\n",
      "\n",
      "Reasoning: The text is negative because it expresses hate for the product.\n",
      "\n",
      "Answer: Negative\n",
      "\n",
      "\n",
      "=======\n",
      "\n",
      "Question: Is the following text positive or negative?\n",
      "\n",
      "Text: I love this product!\n",
      "\n",
      "Reasoning: \n"
     ]
    }
   ],
   "source": [
    "from AutoLLM.Prompt_Generator.Prompt_Generator import PromptGenerator\n",
    "\n",
    "config = [\n",
    "    {\n",
    "        \"name\": \"Question\",\n",
    "        \"description\": \"Label the sentiment of the text as positive or negative.\",\n",
    "        \"placeholder\": \"<<question>>\",\n",
    "    },\n",
    "    {\n",
    "        \"name\": \"Text\",\n",
    "        \"description\": \"The text to be labeled.\",\n",
    "        \"placeholder\": \"<<text>>\",\n",
    "    },\n",
    "    {\n",
    "        \"name\": \"Reasoning\",\n",
    "        \"description\": \"Let's think step by step in order to produce the answer.\",\n",
    "        \"placeholder\": \"<<reasoning>>\",\n",
    "    },\n",
    "    {\n",
    "        \"name\": \"Answer\",\n",
    "        \"description\": \"Label the sentiment of the text as positive or negative.\",\n",
    "        \"placeholder\": \"<<answer>>\",\n",
    "    },\n",
    "]\n",
    "\n",
    "examples = [\n",
    "    {\n",
    "        \"Question\": \"Is the following text positive or negative?\",\n",
    "        \"Text\": \"I love this product!\",\n",
    "        \"Reasoning\": \"The text is positive because it expresses love for the product.\",\n",
    "        \"Answer\": \"Positive\",\n",
    "    },\n",
    "    {\n",
    "        \"Question\": \"Is the following text positive or negative?\",\n",
    "        \"Text\": \"I hate this product!\",\n",
    "        \"Reasoning\": \"The text is negative because it expresses hate for the product.\",\n",
    "        \"Answer\": \"Negative\",\n",
    "    },\n",
    "]\n",
    "input = {\n",
    "    \"Question\": \"Is the following text positive or negative?\",\n",
    "    \"Text\": \"I love this product!\",\n",
    "}\n",
    "\n",
    "pg = PromptGenerator()\n",
    "prompt = pg.build_prompt(\n",
    "    prompt_config=config,\n",
    "    instruction=\"Label the sentiment of the text as positive or negative.\",\n",
    "    input_data=input,\n",
    "    system_message=\"You are a helpful assistant.\",\n",
    "    chain_of_thought=\"Show your reasoning.\",\n",
    "    echo=\"Repeat the prompt.\",\n",
    "    examples=examples,\n",
    "    chat=False,\n",
    ")\n",
    "\n",
    "print(prompt)"
   ]
  }
 ],
 "metadata": {
  "kernelspec": {
   "display_name": "Python 3",
   "language": "python",
   "name": "python3"
  },
  "language_info": {
   "codemirror_mode": {
    "name": "ipython",
    "version": 3
   },
   "file_extension": ".py",
   "mimetype": "text/x-python",
   "name": "python",
   "nbconvert_exporter": "python",
   "pygments_lexer": "ipython3",
   "version": "3.8.6"
  }
 },
 "nbformat": 4,
 "nbformat_minor": 2
}
