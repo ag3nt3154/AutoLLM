{
 "cells": [
  {
   "cell_type": "code",
   "execution_count": 1,
   "metadata": {},
   "outputs": [],
   "source": [
    "%load_ext autoreload\n",
    "%autoreload 2"
   ]
  },
  {
   "cell_type": "code",
   "execution_count": 3,
   "metadata": {},
   "outputs": [
    {
     "data": {
      "text/html": [
       "<div>\n",
       "<style scoped>\n",
       "    .dataframe tbody tr th:only-of-type {\n",
       "        vertical-align: middle;\n",
       "    }\n",
       "\n",
       "    .dataframe tbody tr th {\n",
       "        vertical-align: top;\n",
       "    }\n",
       "\n",
       "    .dataframe thead th {\n",
       "        text-align: right;\n",
       "    }\n",
       "</style>\n",
       "<table border=\"1\" class=\"dataframe\">\n",
       "  <thead>\n",
       "    <tr style=\"text-align: right;\">\n",
       "      <th></th>\n",
       "      <th>label</th>\n",
       "      <th>text</th>\n",
       "    </tr>\n",
       "  </thead>\n",
       "  <tbody>\n",
       "    <tr>\n",
       "      <th>0</th>\n",
       "      <td>Household</td>\n",
       "      <td>Paper Plane Design Framed Wall Hanging Motivat...</td>\n",
       "    </tr>\n",
       "    <tr>\n",
       "      <th>1</th>\n",
       "      <td>Household</td>\n",
       "      <td>SAF 'Floral' Framed Painting (Wood, 30 inch x ...</td>\n",
       "    </tr>\n",
       "    <tr>\n",
       "      <th>2</th>\n",
       "      <td>Household</td>\n",
       "      <td>SAF 'UV Textured Modern Art Print Framed' Pain...</td>\n",
       "    </tr>\n",
       "    <tr>\n",
       "      <th>3</th>\n",
       "      <td>Household</td>\n",
       "      <td>SAF Flower Print Framed Painting (Synthetic, 1...</td>\n",
       "    </tr>\n",
       "    <tr>\n",
       "      <th>4</th>\n",
       "      <td>Household</td>\n",
       "      <td>Incredible Gifts India Wooden Happy Birthday U...</td>\n",
       "    </tr>\n",
       "    <tr>\n",
       "      <th>...</th>\n",
       "      <td>...</td>\n",
       "      <td>...</td>\n",
       "    </tr>\n",
       "    <tr>\n",
       "      <th>50420</th>\n",
       "      <td>Electronics</td>\n",
       "      <td>Strontium MicroSD Class 10 8GB Memory Card (Bl...</td>\n",
       "    </tr>\n",
       "    <tr>\n",
       "      <th>50421</th>\n",
       "      <td>Electronics</td>\n",
       "      <td>CrossBeats Wave Waterproof Bluetooth Wireless ...</td>\n",
       "    </tr>\n",
       "    <tr>\n",
       "      <th>50422</th>\n",
       "      <td>Electronics</td>\n",
       "      <td>Karbonn Titanium Wind W4 (White) Karbonn Titan...</td>\n",
       "    </tr>\n",
       "    <tr>\n",
       "      <th>50423</th>\n",
       "      <td>Electronics</td>\n",
       "      <td>Samsung Guru FM Plus (SM-B110E/D, Black) Colou...</td>\n",
       "    </tr>\n",
       "    <tr>\n",
       "      <th>50424</th>\n",
       "      <td>Electronics</td>\n",
       "      <td>Micromax Canvas Win W121 (White)</td>\n",
       "    </tr>\n",
       "  </tbody>\n",
       "</table>\n",
       "<p>50425 rows × 2 columns</p>\n",
       "</div>"
      ],
      "text/plain": [
       "             label                                               text\n",
       "0        Household  Paper Plane Design Framed Wall Hanging Motivat...\n",
       "1        Household  SAF 'Floral' Framed Painting (Wood, 30 inch x ...\n",
       "2        Household  SAF 'UV Textured Modern Art Print Framed' Pain...\n",
       "3        Household  SAF Flower Print Framed Painting (Synthetic, 1...\n",
       "4        Household  Incredible Gifts India Wooden Happy Birthday U...\n",
       "...            ...                                                ...\n",
       "50420  Electronics  Strontium MicroSD Class 10 8GB Memory Card (Bl...\n",
       "50421  Electronics  CrossBeats Wave Waterproof Bluetooth Wireless ...\n",
       "50422  Electronics  Karbonn Titanium Wind W4 (White) Karbonn Titan...\n",
       "50423  Electronics  Samsung Guru FM Plus (SM-B110E/D, Black) Colou...\n",
       "50424  Electronics                   Micromax Canvas Win W121 (White)\n",
       "\n",
       "[50425 rows x 2 columns]"
      ]
     },
     "execution_count": 3,
     "metadata": {},
     "output_type": "execute_result"
    }
   ],
   "source": [
    "import pandas as pd\n",
    "\n",
    "df = pd.read_excel('data/Ecommerce/ecommerce_classification_dataset.xlsx')\n",
    "df"
   ]
  },
  {
   "cell_type": "code",
   "execution_count": 5,
   "metadata": {},
   "outputs": [],
   "source": [
    "from AutoLLM.modules.synthetic_data_agent import SyntheticDataAgent\n",
    "from AutoLLM.interfaces.api_client import APIClient\n",
    "from config import API_KEY, NEBIUS_URL\n",
    "\n",
    "client = APIClient(NEBIUS_URL, API_KEY, model='Qwen/Qwen2.5-32B-Instruct')\n",
    "config = {\"temperature\": 0.7, \"top_p\": 0.9}\n",
    "sda = SyntheticDataAgent(client, config)\n",
    "\n"
   ]
  },
  {
   "cell_type": "code",
   "execution_count": 9,
   "metadata": {},
   "outputs": [
    {
     "name": "stdout",
     "output_type": "stream",
     "text": [
      "[{'input': \"This men's blazer is made of velvet and comes in a stylish blue shade. It has a simple design, long sleeves, and a button closure, and is suitable for men. It's advised to avoid direct heat and flammable substances to prevent damage.\", 'output': 'Clothing & Accessories'}, {'input': 'HealthSense KS 50 Digital Kitchen Scale, Grey. This scale is perfect for precise measurements in the kitchen.', 'output': 'Household'}, {'input': 'Concept of Physics, 2018-2019 edition, a set of two volumes. This book set covers essential physics concepts for students.', 'output': 'Books'}, {'input': \"Lista's Multi-Functional Hammer Axe Tool Kit includes a hammer, axe, pliers, knife, screwdriver, can opener, and wood saw. Ideal for home and outdoor activities.\", 'output': 'Household'}, {'input': \"ADTALA's Solar Security Light with a motion sensor is perfect for outdoor use. It includes a mounting kit and is wireless, providing security for your garden, wall, or path.\", 'output': 'Household'}, {'input': 'KRISHNA FASHION offers a pack of 3 traditional patiala salwars in cotton. These are ideal for women and may experience slight shrinkage and color bleeding after the first wash.', 'output': 'Clothing & Accessories'}, {'input': \"Lux Inferno's Cotton Thermal Bottom in Charcoal Melange is designed for men. It has a front opening and is made for comfort and warmth.\", 'output': 'Clothing & Accessories'}, {'input': \"Stanley's 8-inch Combination Plier is anti-rust protected and suitable for both live wire working and household tasks. It has a black phosphate finish and induction hardened jaws.\", 'output': 'Household'}, {'input': \"Biba's Anarkali Salwar Suit Set for girls, a favorite ethnic wear brand in the country, now available for purchase.\", 'output': 'Clothing & Accessories'}]\n"
     ]
    }
   ],
   "source": [
    "example_text = \"\"\n",
    "sample_df = df.sample(10, random_state=42)\n",
    "for i, r in sample_df.iterrows():\n",
    "    example_text += f\"\"\"[input]: {r['text']}\\n[output]: {r['label']}\\n\\n\"\"\"\n",
    "# print(example_text)\n",
    "\n",
    "resp = sda.run(examples=example_text, num_variations=5)\n",
    "print(resp)"
   ]
  },
  {
   "cell_type": "code",
   "execution_count": null,
   "metadata": {},
   "outputs": [],
   "source": [
    "\n",
    "\n",
    "\n",
    "# Load the ecommerce dataset\n",
    "\n",
    "\n",
    "# Extract text samples\n",
    "text_samples = df['Text'].dropna().tolist()\n",
    "\n",
    "# Initialize the synthetic data agent\n",
    "agent = SyntheticDataAgent()\n",
    "\n",
    "# Generate synthetic data\n",
    "synthetic_data = agent.generate_synthetic_data(text_samples[:100], num_samples=10)\n",
    "\n",
    "# Save results\n",
    "output_df = pd.DataFrame({\n",
    "    'Original_Text': text_samples[:10],\n",
    "    'Synthetic_Text': synthetic_data\n",
    "})\n",
    "output_df.to_csv('synthetic_ecommerce_data.csv', index=False)\n",
    "\n",
    "print(\"Generated 10 synthetic examples:\")\n",
    "print(output_df)"
   ]
  }
 ],
 "metadata": {
  "kernelspec": {
   "display_name": "ai",
   "language": "python",
   "name": "python3"
  },
  "language_info": {
   "codemirror_mode": {
    "name": "ipython",
    "version": 3
   },
   "file_extension": ".py",
   "mimetype": "text/x-python",
   "name": "python",
   "nbconvert_exporter": "python",
   "pygments_lexer": "ipython3",
   "version": "3.12.7"
  }
 },
 "nbformat": 4,
 "nbformat_minor": 2
}
