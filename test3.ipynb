{
 "cells": [
  {
   "cell_type": "code",
   "execution_count": 1,
   "metadata": {},
   "outputs": [],
   "source": [
    "%load_ext autoreload\n",
    "%autoreload 2"
   ]
  },
  {
   "cell_type": "markdown",
   "metadata": {},
   "source": [
    "# Load samples"
   ]
  },
  {
   "cell_type": "code",
   "execution_count": 2,
   "metadata": {},
   "outputs": [
    {
     "ename": "TypeError",
     "evalue": "'type' object is not subscriptable",
     "output_type": "error",
     "traceback": [
      "\u001b[1;31m---------------------------------------------------------------------------\u001b[0m",
      "\u001b[1;31mTypeError\u001b[0m                                 Traceback (most recent call last)",
      "\u001b[1;32m<ipython-input-2-ca9301cfdc73>\u001b[0m in \u001b[0;36m<module>\u001b[1;34m\u001b[0m\n\u001b[0;32m      6\u001b[0m \u001b[1;32mfrom\u001b[0m \u001b[0mAutoLLM\u001b[0m\u001b[1;33m.\u001b[0m\u001b[0m_utils\u001b[0m\u001b[1;33m.\u001b[0m\u001b[0mgeneral\u001b[0m \u001b[1;32mimport\u001b[0m \u001b[0mload_df\u001b[0m\u001b[1;33m\u001b[0m\u001b[1;33m\u001b[0m\u001b[0m\n\u001b[0;32m      7\u001b[0m \u001b[1;32mfrom\u001b[0m \u001b[0mAutoLLM\u001b[0m\u001b[1;33m.\u001b[0m\u001b[0mprompts\u001b[0m\u001b[1;33m.\u001b[0m\u001b[0mclassifier\u001b[0m \u001b[1;32mimport\u001b[0m \u001b[0mClassifierPrompt\u001b[0m\u001b[1;33m\u001b[0m\u001b[1;33m\u001b[0m\u001b[0m\n\u001b[1;32m----> 8\u001b[1;33m \u001b[1;32mfrom\u001b[0m \u001b[0mAutoLLM\u001b[0m\u001b[1;33m.\u001b[0m\u001b[0mprompts\u001b[0m\u001b[1;33m.\u001b[0m\u001b[0msample\u001b[0m \u001b[1;32mimport\u001b[0m \u001b[0mSampleConfig\u001b[0m\u001b[1;33m,\u001b[0m \u001b[0mSampleItem\u001b[0m\u001b[1;33m,\u001b[0m \u001b[0mConfigItem\u001b[0m\u001b[1;33m\u001b[0m\u001b[1;33m\u001b[0m\u001b[0m\n\u001b[0m\u001b[0;32m      9\u001b[0m \u001b[1;32mfrom\u001b[0m \u001b[0mAutoLLM\u001b[0m\u001b[1;33m.\u001b[0m\u001b[0mprompts\u001b[0m\u001b[1;33m.\u001b[0m\u001b[0mfew_shot_samples\u001b[0m \u001b[1;32mimport\u001b[0m \u001b[0mFewShotSamples\u001b[0m\u001b[1;33m\u001b[0m\u001b[1;33m\u001b[0m\u001b[0m\n\u001b[0;32m     10\u001b[0m \u001b[1;32mfrom\u001b[0m \u001b[0mAutoLLM\u001b[0m\u001b[1;33m.\u001b[0m\u001b[0mprompts\u001b[0m\u001b[1;33m.\u001b[0m\u001b[0minput\u001b[0m \u001b[1;32mimport\u001b[0m \u001b[0mInputSample\u001b[0m\u001b[1;33m\u001b[0m\u001b[1;33m\u001b[0m\u001b[0m\n",
      "\u001b[1;32mc:\\Users\\alexr\\AutoLLM\\AutoLLM\\prompts\\sample.py\u001b[0m in \u001b[0;36m<module>\u001b[1;34m\u001b[0m\n\u001b[0;32m      9\u001b[0m     \u001b[0mdescription\u001b[0m\u001b[1;33m:\u001b[0m \u001b[0mstr\u001b[0m \u001b[1;33m=\u001b[0m \u001b[0mField\u001b[0m\u001b[1;33m(\u001b[0m\u001b[1;33m...\u001b[0m\u001b[1;33m,\u001b[0m \u001b[0mdescription\u001b[0m\u001b[1;33m=\u001b[0m\u001b[1;34m\"The value of the configuration item.\"\u001b[0m\u001b[1;33m)\u001b[0m\u001b[1;33m\u001b[0m\u001b[1;33m\u001b[0m\u001b[0m\n\u001b[0;32m     10\u001b[0m \u001b[1;33m\u001b[0m\u001b[0m\n\u001b[1;32m---> 11\u001b[1;33m \u001b[1;32mclass\u001b[0m \u001b[0mSampleConfig\u001b[0m\u001b[1;33m(\u001b[0m\u001b[0mBaseModel\u001b[0m\u001b[1;33m)\u001b[0m\u001b[1;33m:\u001b[0m\u001b[1;33m\u001b[0m\u001b[1;33m\u001b[0m\u001b[0m\n\u001b[0m\u001b[0;32m     12\u001b[0m     \"\"\"\n\u001b[0;32m     13\u001b[0m     \u001b[0mRepresents\u001b[0m \u001b[0ma\u001b[0m \u001b[0mcollection\u001b[0m \u001b[0mof\u001b[0m \u001b[0mconfiguration\u001b[0m \u001b[0mitems\u001b[0m\u001b[1;33m.\u001b[0m\u001b[1;33m\u001b[0m\u001b[1;33m\u001b[0m\u001b[0m\n",
      "\u001b[1;32mc:\\Users\\alexr\\AutoLLM\\AutoLLM\\prompts\\sample.py\u001b[0m in \u001b[0;36mSampleConfig\u001b[1;34m()\u001b[0m\n\u001b[0;32m     13\u001b[0m     \u001b[0mRepresents\u001b[0m \u001b[0ma\u001b[0m \u001b[0mcollection\u001b[0m \u001b[0mof\u001b[0m \u001b[0mconfiguration\u001b[0m \u001b[0mitems\u001b[0m\u001b[1;33m.\u001b[0m\u001b[1;33m\u001b[0m\u001b[1;33m\u001b[0m\u001b[0m\n\u001b[0;32m     14\u001b[0m     \"\"\"\n\u001b[1;32m---> 15\u001b[1;33m     configs: list[ConfigItem] = Field(\n\u001b[0m\u001b[0;32m     16\u001b[0m         \u001b[1;33m...\u001b[0m\u001b[1;33m,\u001b[0m\u001b[1;33m\u001b[0m\u001b[1;33m\u001b[0m\u001b[0m\n\u001b[0;32m     17\u001b[0m         \u001b[0mdescription\u001b[0m\u001b[1;33m=\u001b[0m\u001b[1;34m\"A list of configuration items, each with 'name' and 'description'.\"\u001b[0m\u001b[1;33m\u001b[0m\u001b[1;33m\u001b[0m\u001b[0m\n",
      "\u001b[1;31mTypeError\u001b[0m: 'type' object is not subscriptable"
     ]
    }
   ],
   "source": [
    "from pydantic import BaseModel, Field\n",
    "import os\n",
    "import pandas as pd\n",
    "import numpy as np\n",
    "from tqdm.notebook import tqdm\n",
    "from AutoLLM._utils.general import load_df\n",
    "from AutoLLM.prompts.classifier import ClassifierPrompt\n",
    "from AutoLLM.prompts.sample import SampleConfig, SampleItem, ConfigItem\n",
    "from AutoLLM.prompts.few_shot_samples import FewShotSamples\n",
    "from AutoLLM.prompts.input import InputSample"
   ]
  },
  {
   "cell_type": "code",
   "execution_count": null,
   "metadata": {},
   "outputs": [
    {
     "data": {
      "text/html": [
       "<div>\n",
       "<style scoped>\n",
       "    .dataframe tbody tr th:only-of-type {\n",
       "        vertical-align: middle;\n",
       "    }\n",
       "\n",
       "    .dataframe tbody tr th {\n",
       "        vertical-align: top;\n",
       "    }\n",
       "\n",
       "    .dataframe thead th {\n",
       "        text-align: right;\n",
       "    }\n",
       "</style>\n",
       "<table border=\"1\" class=\"dataframe\">\n",
       "  <thead>\n",
       "    <tr style=\"text-align: right;\">\n",
       "      <th></th>\n",
       "      <th>label</th>\n",
       "      <th>text</th>\n",
       "    </tr>\n",
       "  </thead>\n",
       "  <tbody>\n",
       "    <tr>\n",
       "      <th>0</th>\n",
       "      <td>Household</td>\n",
       "      <td>Paper Plane Design Framed Wall Hanging Motivat...</td>\n",
       "    </tr>\n",
       "    <tr>\n",
       "      <th>1</th>\n",
       "      <td>Household</td>\n",
       "      <td>SAF 'Floral' Framed Painting (Wood, 30 inch x ...</td>\n",
       "    </tr>\n",
       "    <tr>\n",
       "      <th>2</th>\n",
       "      <td>Household</td>\n",
       "      <td>SAF 'UV Textured Modern Art Print Framed' Pain...</td>\n",
       "    </tr>\n",
       "    <tr>\n",
       "      <th>3</th>\n",
       "      <td>Household</td>\n",
       "      <td>SAF Flower Print Framed Painting (Synthetic, 1...</td>\n",
       "    </tr>\n",
       "    <tr>\n",
       "      <th>4</th>\n",
       "      <td>Household</td>\n",
       "      <td>Incredible Gifts India Wooden Happy Birthday U...</td>\n",
       "    </tr>\n",
       "    <tr>\n",
       "      <th>...</th>\n",
       "      <td>...</td>\n",
       "      <td>...</td>\n",
       "    </tr>\n",
       "    <tr>\n",
       "      <th>50424</th>\n",
       "      <td>Electronics</td>\n",
       "      <td>Strontium MicroSD Class 10 8GB Memory Card (Bl...</td>\n",
       "    </tr>\n",
       "    <tr>\n",
       "      <th>50425</th>\n",
       "      <td>Electronics</td>\n",
       "      <td>CrossBeats Wave Waterproof Bluetooth Wireless ...</td>\n",
       "    </tr>\n",
       "    <tr>\n",
       "      <th>50426</th>\n",
       "      <td>Electronics</td>\n",
       "      <td>Karbonn Titanium Wind W4 (White) Karbonn Titan...</td>\n",
       "    </tr>\n",
       "    <tr>\n",
       "      <th>50427</th>\n",
       "      <td>Electronics</td>\n",
       "      <td>Samsung Guru FM Plus (SM-B110E/D, Black) Colou...</td>\n",
       "    </tr>\n",
       "    <tr>\n",
       "      <th>50428</th>\n",
       "      <td>Electronics</td>\n",
       "      <td>Micromax Canvas Win W121 (White)</td>\n",
       "    </tr>\n",
       "  </tbody>\n",
       "</table>\n",
       "<p>50429 rows × 2 columns</p>\n",
       "</div>"
      ],
      "text/plain": [
       "             label                                               text\n",
       "0        Household  Paper Plane Design Framed Wall Hanging Motivat...\n",
       "1        Household  SAF 'Floral' Framed Painting (Wood, 30 inch x ...\n",
       "2        Household  SAF 'UV Textured Modern Art Print Framed' Pain...\n",
       "3        Household  SAF Flower Print Framed Painting (Synthetic, 1...\n",
       "4        Household  Incredible Gifts India Wooden Happy Birthday U...\n",
       "...            ...                                                ...\n",
       "50424  Electronics  Strontium MicroSD Class 10 8GB Memory Card (Bl...\n",
       "50425  Electronics  CrossBeats Wave Waterproof Bluetooth Wireless ...\n",
       "50426  Electronics  Karbonn Titanium Wind W4 (White) Karbonn Titan...\n",
       "50427  Electronics  Samsung Guru FM Plus (SM-B110E/D, Black) Colou...\n",
       "50428  Electronics                   Micromax Canvas Win W121 (White)\n",
       "\n",
       "[50429 rows x 2 columns]"
      ]
     },
     "execution_count": 6,
     "metadata": {},
     "output_type": "execute_result"
    }
   ],
   "source": [
    "df = load_df(\"./_data/Ecommerce/ecommerceDataset.csv\")\n",
    "df"
   ]
  },
  {
   "cell_type": "code",
   "execution_count": 7,
   "metadata": {},
   "outputs": [
    {
     "data": {
      "application/vnd.jupyter.widget-view+json": {
       "model_id": "4f83b7955391474ea17605b29e3a00da",
       "version_major": 2,
       "version_minor": 0
      },
      "text/plain": [
       "  0%|          | 0/50429 [00:00<?, ?it/s]"
      ]
     },
     "metadata": {},
     "output_type": "display_data"
    },
    {
     "data": {
      "text/html": [
       "<div>\n",
       "<style scoped>\n",
       "    .dataframe tbody tr th:only-of-type {\n",
       "        vertical-align: middle;\n",
       "    }\n",
       "\n",
       "    .dataframe tbody tr th {\n",
       "        vertical-align: top;\n",
       "    }\n",
       "\n",
       "    .dataframe thead th {\n",
       "        text-align: right;\n",
       "    }\n",
       "</style>\n",
       "<table border=\"1\" class=\"dataframe\">\n",
       "  <thead>\n",
       "    <tr style=\"text-align: right;\">\n",
       "      <th></th>\n",
       "      <th>label</th>\n",
       "      <th>text</th>\n",
       "      <th>sample_item</th>\n",
       "      <th>input_text</th>\n",
       "    </tr>\n",
       "  </thead>\n",
       "  <tbody>\n",
       "    <tr>\n",
       "      <th>0</th>\n",
       "      <td>Household</td>\n",
       "      <td>Paper Plane Design Framed Wall Hanging Motivat...</td>\n",
       "      <td>SampleItem(data={'Item Description': 'Paper Pl...</td>\n",
       "      <td>input_sample=SampleItem(data={'Item Descriptio...</td>\n",
       "    </tr>\n",
       "    <tr>\n",
       "      <th>1</th>\n",
       "      <td>Household</td>\n",
       "      <td>SAF 'Floral' Framed Painting (Wood, 30 inch x ...</td>\n",
       "      <td>SampleItem(data={'Item Description': \"SAF 'Flo...</td>\n",
       "      <td>input_sample=SampleItem(data={'Item Descriptio...</td>\n",
       "    </tr>\n",
       "    <tr>\n",
       "      <th>2</th>\n",
       "      <td>Household</td>\n",
       "      <td>SAF 'UV Textured Modern Art Print Framed' Pain...</td>\n",
       "      <td>SampleItem(data={'Item Description': \"SAF 'UV ...</td>\n",
       "      <td>input_sample=SampleItem(data={'Item Descriptio...</td>\n",
       "    </tr>\n",
       "    <tr>\n",
       "      <th>3</th>\n",
       "      <td>Household</td>\n",
       "      <td>SAF Flower Print Framed Painting (Synthetic, 1...</td>\n",
       "      <td>SampleItem(data={'Item Description': 'SAF Flow...</td>\n",
       "      <td>input_sample=SampleItem(data={'Item Descriptio...</td>\n",
       "    </tr>\n",
       "    <tr>\n",
       "      <th>4</th>\n",
       "      <td>Household</td>\n",
       "      <td>Incredible Gifts India Wooden Happy Birthday U...</td>\n",
       "      <td>SampleItem(data={'Item Description': 'Incredib...</td>\n",
       "      <td>input_sample=SampleItem(data={'Item Descriptio...</td>\n",
       "    </tr>\n",
       "    <tr>\n",
       "      <th>...</th>\n",
       "      <td>...</td>\n",
       "      <td>...</td>\n",
       "      <td>...</td>\n",
       "      <td>...</td>\n",
       "    </tr>\n",
       "    <tr>\n",
       "      <th>50424</th>\n",
       "      <td>Electronics</td>\n",
       "      <td>Strontium MicroSD Class 10 8GB Memory Card (Bl...</td>\n",
       "      <td>SampleItem(data={'Item Description': 'Strontiu...</td>\n",
       "      <td>input_sample=SampleItem(data={'Item Descriptio...</td>\n",
       "    </tr>\n",
       "    <tr>\n",
       "      <th>50425</th>\n",
       "      <td>Electronics</td>\n",
       "      <td>CrossBeats Wave Waterproof Bluetooth Wireless ...</td>\n",
       "      <td>SampleItem(data={'Item Description': 'CrossBea...</td>\n",
       "      <td>input_sample=SampleItem(data={'Item Descriptio...</td>\n",
       "    </tr>\n",
       "    <tr>\n",
       "      <th>50426</th>\n",
       "      <td>Electronics</td>\n",
       "      <td>Karbonn Titanium Wind W4 (White) Karbonn Titan...</td>\n",
       "      <td>SampleItem(data={'Item Description': 'Karbonn ...</td>\n",
       "      <td>input_sample=SampleItem(data={'Item Descriptio...</td>\n",
       "    </tr>\n",
       "    <tr>\n",
       "      <th>50427</th>\n",
       "      <td>Electronics</td>\n",
       "      <td>Samsung Guru FM Plus (SM-B110E/D, Black) Colou...</td>\n",
       "      <td>SampleItem(data={'Item Description': 'Samsung ...</td>\n",
       "      <td>input_sample=SampleItem(data={'Item Descriptio...</td>\n",
       "    </tr>\n",
       "    <tr>\n",
       "      <th>50428</th>\n",
       "      <td>Electronics</td>\n",
       "      <td>Micromax Canvas Win W121 (White)</td>\n",
       "      <td>SampleItem(data={'Item Description': 'Micromax...</td>\n",
       "      <td>input_sample=SampleItem(data={'Item Descriptio...</td>\n",
       "    </tr>\n",
       "  </tbody>\n",
       "</table>\n",
       "<p>50429 rows × 4 columns</p>\n",
       "</div>"
      ],
      "text/plain": [
       "             label  ...                                         input_text\n",
       "0        Household  ...  input_sample=SampleItem(data={'Item Descriptio...\n",
       "1        Household  ...  input_sample=SampleItem(data={'Item Descriptio...\n",
       "2        Household  ...  input_sample=SampleItem(data={'Item Descriptio...\n",
       "3        Household  ...  input_sample=SampleItem(data={'Item Descriptio...\n",
       "4        Household  ...  input_sample=SampleItem(data={'Item Descriptio...\n",
       "...            ...  ...                                                ...\n",
       "50424  Electronics  ...  input_sample=SampleItem(data={'Item Descriptio...\n",
       "50425  Electronics  ...  input_sample=SampleItem(data={'Item Descriptio...\n",
       "50426  Electronics  ...  input_sample=SampleItem(data={'Item Descriptio...\n",
       "50427  Electronics  ...  input_sample=SampleItem(data={'Item Descriptio...\n",
       "50428  Electronics  ...  input_sample=SampleItem(data={'Item Descriptio...\n",
       "\n",
       "[50429 rows x 4 columns]"
      ]
     },
     "execution_count": 7,
     "metadata": {},
     "output_type": "execute_result"
    }
   ],
   "source": [
    "sc = SampleConfig(\n",
    "    configs=[\n",
    "        ConfigItem(name=\"Item Description\", description=\"Description of the item\"),\n",
    "        ConfigItem(name=\"Type of item\", description=\"Answer as one of the following prompts only: {Clothing & Accessories, Electronics, Books, Household}\"),\n",
    "    ]\n",
    ")\n",
    "\n",
    "sample_item_list = []\n",
    "for i, r in tqdm(df.iterrows(), total=len(df)):\n",
    "    # print(r[\"text\"])\n",
    "    sample = SampleItem(\n",
    "        sample_config=sc, \n",
    "        **{\n",
    "            \"Item Description\": r['text'],\n",
    "            \"Type of item\": r['label'],\n",
    "        }\n",
    "    )\n",
    "\n",
    "    sample_item_list.append(sample)\n",
    "df['sample_item'] = sample_item_list\n",
    "df['input_text'] = df['sample_item'].apply(lambda x: InputSample(input_sample=x))\n",
    "df"
   ]
  },
  {
   "cell_type": "code",
   "execution_count": null,
   "metadata": {},
   "outputs": [
    {
     "name": "stdout",
     "output_type": "stream",
     "text": [
      "Item Description: Paper Plane Design Framed Wall Hanging Motivational Office Decor Art Prints (8.7 X 8.7 inch) - Set of 4 Painting made up in synthetic frame with uv textured print which gives multi effects and attracts towards it. This is an special series of paintings which makes your wall very beautiful and gives a royal touch. This painting is ready to hang, you would be proud to possess this unique painting that is a niche apart. We use only the most modern and efficient printing technology on our prints, with only the and inks and precision epson, roland and hp printers. This innovative hd printing technique results in durable and spectacular looking prints of the highest that last a lifetime. We print solely with top-notch 100% inks, to achieve brilliant and true colours. Due to their high level of uv resistance, our prints retain their beautiful colours for many years. Add colour and style to your living space with this digitally printed painting. Some are for pleasure and some for eternal bliss.so bring home this elegant print that is lushed with rich colors that makes it nothing but sheer elegance to be to your friends and family.it would be treasured forever by whoever your lucky recipient is. Liven up your place with these intriguing paintings that are high definition hd graphic digital prints for home, office or any room.\n",
      "\n",
      "Type of item: Household\n",
      "\n",
      "\n"
     ]
    }
   ],
   "source": []
  },
  {
   "cell_type": "code",
   "execution_count": 11,
   "metadata": {},
   "outputs": [
    {
     "data": {
      "text/plain": [
       "{'id': 'cmpl-unique-id',\n",
       " 'object': 'text_completion',\n",
       " 'created': 123456789,\n",
       " 'content': \" are you thinking about the upcoming election? are you thinking about the latest news? are you thinking about the latest trends? are you thinking about the latest memes? are you thinking about the latest memes about the latest memes? \\n\\nI'm thinking about the fact that I'm thinking about the fact that I'm thinking about the fact that I think I'm thinking about the fact that I'm thinking about the fact that I'm thinking about the fact that I'm thinking about the fact that I'm thinking about\",\n",
       " 'throughput': 4.42968627946432}"
      ]
     },
     "execution_count": 11,
     "metadata": {},
     "output_type": "execute_result"
    }
   ],
   "source": [
    "import requests\n",
    "\n",
    "url = \"http://127.0.0.1:8000/v1/completions\"\n",
    "json_data = {\n",
    "    \"prompt\": \"what are you thinking?\",\n",
    "    \"temperature\": 1e-10,\n",
    "    \"top_p\": 0.9,\n",
    "    \"top_k\": 40,\n",
    "    \"max_new_tokens\": 100,\n",
    "    \"do_sample\": True,\n",
    "    \"verbose\": True,\n",
    "}\n",
    "\n",
    "response = requests.post(url, json=json_data)\n",
    "response.json()"
   ]
  }
 ],
 "metadata": {
  "kernelspec": {
   "display_name": "llm2",
   "language": "python",
   "name": "python3"
  },
  "language_info": {
   "codemirror_mode": {
    "name": "ipython",
    "version": 3
   },
   "file_extension": ".py",
   "mimetype": "text/x-python",
   "name": "python",
   "nbconvert_exporter": "python",
   "pygments_lexer": "ipython3",
   "version": "3.11.10"
  }
 },
 "nbformat": 4,
 "nbformat_minor": 2
}
