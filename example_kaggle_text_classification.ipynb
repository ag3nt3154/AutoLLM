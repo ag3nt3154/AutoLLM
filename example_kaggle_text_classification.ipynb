{
 "cells": [
  {
   "cell_type": "code",
   "execution_count": 53,
   "metadata": {},
   "outputs": [
    {
     "name": "stdout",
     "output_type": "stream",
     "text": [
      "The autoreload extension is already loaded. To reload it, use:\n",
      "  %reload_ext autoreload\n"
     ]
    }
   ],
   "source": [
    "%load_ext autoreload\n",
    "%autoreload 2"
   ]
  },
  {
   "cell_type": "markdown",
   "metadata": {},
   "source": [
    "# Text Classification"
   ]
  },
  {
   "cell_type": "markdown",
   "metadata": {},
   "source": [
    "# Kaggle E-commerce Dataset"
   ]
  },
  {
   "cell_type": "code",
   "execution_count": 54,
   "metadata": {},
   "outputs": [
    {
     "data": {
      "text/html": [
       "<div>\n",
       "<style scoped>\n",
       "    .dataframe tbody tr th:only-of-type {\n",
       "        vertical-align: middle;\n",
       "    }\n",
       "\n",
       "    .dataframe tbody tr th {\n",
       "        vertical-align: top;\n",
       "    }\n",
       "\n",
       "    .dataframe thead th {\n",
       "        text-align: right;\n",
       "    }\n",
       "</style>\n",
       "<table border=\"1\" class=\"dataframe\">\n",
       "  <thead>\n",
       "    <tr style=\"text-align: right;\">\n",
       "      <th></th>\n",
       "      <th>label</th>\n",
       "      <th>text</th>\n",
       "    </tr>\n",
       "  </thead>\n",
       "  <tbody>\n",
       "    <tr>\n",
       "      <th>0</th>\n",
       "      <td>Household</td>\n",
       "      <td>Paper Plane Design Framed Wall Hanging Motivat...</td>\n",
       "    </tr>\n",
       "    <tr>\n",
       "      <th>1</th>\n",
       "      <td>Household</td>\n",
       "      <td>SAF 'Floral' Framed Painting (Wood, 30 inch x ...</td>\n",
       "    </tr>\n",
       "    <tr>\n",
       "      <th>2</th>\n",
       "      <td>Household</td>\n",
       "      <td>SAF 'UV Textured Modern Art Print Framed' Pain...</td>\n",
       "    </tr>\n",
       "    <tr>\n",
       "      <th>3</th>\n",
       "      <td>Household</td>\n",
       "      <td>SAF Flower Print Framed Painting (Synthetic, 1...</td>\n",
       "    </tr>\n",
       "    <tr>\n",
       "      <th>4</th>\n",
       "      <td>Household</td>\n",
       "      <td>Incredible Gifts India Wooden Happy Birthday U...</td>\n",
       "    </tr>\n",
       "    <tr>\n",
       "      <th>...</th>\n",
       "      <td>...</td>\n",
       "      <td>...</td>\n",
       "    </tr>\n",
       "    <tr>\n",
       "      <th>50420</th>\n",
       "      <td>Electronics</td>\n",
       "      <td>Strontium MicroSD Class 10 8GB Memory Card (Bl...</td>\n",
       "    </tr>\n",
       "    <tr>\n",
       "      <th>50421</th>\n",
       "      <td>Electronics</td>\n",
       "      <td>CrossBeats Wave Waterproof Bluetooth Wireless ...</td>\n",
       "    </tr>\n",
       "    <tr>\n",
       "      <th>50422</th>\n",
       "      <td>Electronics</td>\n",
       "      <td>Karbonn Titanium Wind W4 (White) Karbonn Titan...</td>\n",
       "    </tr>\n",
       "    <tr>\n",
       "      <th>50423</th>\n",
       "      <td>Electronics</td>\n",
       "      <td>Samsung Guru FM Plus (SM-B110E/D, Black) Colou...</td>\n",
       "    </tr>\n",
       "    <tr>\n",
       "      <th>50424</th>\n",
       "      <td>Electronics</td>\n",
       "      <td>Micromax Canvas Win W121 (White)</td>\n",
       "    </tr>\n",
       "  </tbody>\n",
       "</table>\n",
       "<p>50425 rows × 2 columns</p>\n",
       "</div>"
      ],
      "text/plain": [
       "             label                                               text\n",
       "0        Household  Paper Plane Design Framed Wall Hanging Motivat...\n",
       "1        Household  SAF 'Floral' Framed Painting (Wood, 30 inch x ...\n",
       "2        Household  SAF 'UV Textured Modern Art Print Framed' Pain...\n",
       "3        Household  SAF Flower Print Framed Painting (Synthetic, 1...\n",
       "4        Household  Incredible Gifts India Wooden Happy Birthday U...\n",
       "...            ...                                                ...\n",
       "50420  Electronics  Strontium MicroSD Class 10 8GB Memory Card (Bl...\n",
       "50421  Electronics  CrossBeats Wave Waterproof Bluetooth Wireless ...\n",
       "50422  Electronics  Karbonn Titanium Wind W4 (White) Karbonn Titan...\n",
       "50423  Electronics  Samsung Guru FM Plus (SM-B110E/D, Black) Colou...\n",
       "50424  Electronics                   Micromax Canvas Win W121 (White)\n",
       "\n",
       "[50425 rows x 2 columns]"
      ]
     },
     "execution_count": 54,
     "metadata": {},
     "output_type": "execute_result"
    }
   ],
   "source": [
    "import pandas as pd\n",
    "\n",
    "df_data = pd.read_pickle('./data/Ecommerce/ecommerce_classification_dataset.pkl')\n",
    "possible_labels = list(df_data['label'].unique())\n",
    "df_data"
   ]
  },
  {
   "cell_type": "markdown",
   "metadata": {},
   "source": [
    "## Train - test split"
   ]
  },
  {
   "cell_type": "code",
   "execution_count": 55,
   "metadata": {},
   "outputs": [
    {
     "data": {
      "text/html": [
       "<div>\n",
       "<style scoped>\n",
       "    .dataframe tbody tr th:only-of-type {\n",
       "        vertical-align: middle;\n",
       "    }\n",
       "\n",
       "    .dataframe tbody tr th {\n",
       "        vertical-align: top;\n",
       "    }\n",
       "\n",
       "    .dataframe thead th {\n",
       "        text-align: right;\n",
       "    }\n",
       "</style>\n",
       "<table border=\"1\" class=\"dataframe\">\n",
       "  <thead>\n",
       "    <tr style=\"text-align: right;\">\n",
       "      <th></th>\n",
       "      <th>label</th>\n",
       "      <th>text</th>\n",
       "    </tr>\n",
       "  </thead>\n",
       "  <tbody>\n",
       "    <tr>\n",
       "      <th>730</th>\n",
       "      <td>Household</td>\n",
       "      <td>Nisha Furniture Sheesham Wood Bedside Table fo...</td>\n",
       "    </tr>\n",
       "    <tr>\n",
       "      <th>9433</th>\n",
       "      <td>Household</td>\n",
       "      <td>Copper Chef 9.5 Inch Square Frying Pan With Li...</td>\n",
       "    </tr>\n",
       "    <tr>\n",
       "      <th>21160</th>\n",
       "      <td>Books</td>\n",
       "      <td>History of the Conflict Between Religion and S...</td>\n",
       "    </tr>\n",
       "    <tr>\n",
       "      <th>22895</th>\n",
       "      <td>Books</td>\n",
       "      <td>One Day at Horrorland (Goosebumps - 16)</td>\n",
       "    </tr>\n",
       "    <tr>\n",
       "      <th>43246</th>\n",
       "      <td>Electronics</td>\n",
       "      <td>Lenovo Tab M10 Tablet (10.1 inch, 32GB, Wi-Fi ...</td>\n",
       "    </tr>\n",
       "    <tr>\n",
       "      <th>...</th>\n",
       "      <td>...</td>\n",
       "      <td>...</td>\n",
       "    </tr>\n",
       "    <tr>\n",
       "      <th>17464</th>\n",
       "      <td>Household</td>\n",
       "      <td>Bathla Advance 5-Step Foldable Aluminium Ladde...</td>\n",
       "    </tr>\n",
       "    <tr>\n",
       "      <th>36268</th>\n",
       "      <td>Clothing &amp; Accessories</td>\n",
       "      <td>Janasya Women's Crepe A-Line Kurta Shop from a...</td>\n",
       "    </tr>\n",
       "    <tr>\n",
       "      <th>43653</th>\n",
       "      <td>Electronics</td>\n",
       "      <td>HP HP 20-c103in 19.45-inch All-in-One Desktop ...</td>\n",
       "    </tr>\n",
       "    <tr>\n",
       "      <th>31256</th>\n",
       "      <td>Clothing &amp; Accessories</td>\n",
       "      <td>All 4 All Ultimate Spiderman Gloves with Disc ...</td>\n",
       "    </tr>\n",
       "    <tr>\n",
       "      <th>113</th>\n",
       "      <td>Household</td>\n",
       "      <td>Segolike Pack of 100 3RL Disposable Profession...</td>\n",
       "    </tr>\n",
       "  </tbody>\n",
       "</table>\n",
       "<p>100 rows × 2 columns</p>\n",
       "</div>"
      ],
      "text/plain": [
       "                        label  \\\n",
       "730                 Household   \n",
       "9433                Household   \n",
       "21160                   Books   \n",
       "22895                   Books   \n",
       "43246             Electronics   \n",
       "...                       ...   \n",
       "17464               Household   \n",
       "36268  Clothing & Accessories   \n",
       "43653             Electronics   \n",
       "31256  Clothing & Accessories   \n",
       "113                 Household   \n",
       "\n",
       "                                                    text  \n",
       "730    Nisha Furniture Sheesham Wood Bedside Table fo...  \n",
       "9433   Copper Chef 9.5 Inch Square Frying Pan With Li...  \n",
       "21160  History of the Conflict Between Religion and S...  \n",
       "22895           One Day at Horrorland (Goosebumps - 16)   \n",
       "43246  Lenovo Tab M10 Tablet (10.1 inch, 32GB, Wi-Fi ...  \n",
       "...                                                  ...  \n",
       "17464  Bathla Advance 5-Step Foldable Aluminium Ladde...  \n",
       "36268  Janasya Women's Crepe A-Line Kurta Shop from a...  \n",
       "43653  HP HP 20-c103in 19.45-inch All-in-One Desktop ...  \n",
       "31256  All 4 All Ultimate Spiderman Gloves with Disc ...  \n",
       "113    Segolike Pack of 100 3RL Disposable Profession...  \n",
       "\n",
       "[100 rows x 2 columns]"
      ]
     },
     "metadata": {},
     "output_type": "display_data"
    },
    {
     "data": {
      "text/html": [
       "<div>\n",
       "<style scoped>\n",
       "    .dataframe tbody tr th:only-of-type {\n",
       "        vertical-align: middle;\n",
       "    }\n",
       "\n",
       "    .dataframe tbody tr th {\n",
       "        vertical-align: top;\n",
       "    }\n",
       "\n",
       "    .dataframe thead th {\n",
       "        text-align: right;\n",
       "    }\n",
       "</style>\n",
       "<table border=\"1\" class=\"dataframe\">\n",
       "  <thead>\n",
       "    <tr style=\"text-align: right;\">\n",
       "      <th></th>\n",
       "      <th>label</th>\n",
       "      <th>text</th>\n",
       "    </tr>\n",
       "  </thead>\n",
       "  <tbody>\n",
       "    <tr>\n",
       "      <th>44729</th>\n",
       "      <td>Electronics</td>\n",
       "      <td>Sonilex SL-413 Rechargeable FM Radio with USB/...</td>\n",
       "    </tr>\n",
       "    <tr>\n",
       "      <th>24605</th>\n",
       "      <td>Books</td>\n",
       "      <td>Guru Nanak - The First Sikh Guru, Set of Five ...</td>\n",
       "    </tr>\n",
       "    <tr>\n",
       "      <th>38604</th>\n",
       "      <td>Clothing &amp; Accessories</td>\n",
       "      <td>Royal Son Rimless Rectangular Spectacle Frame ...</td>\n",
       "    </tr>\n",
       "    <tr>\n",
       "      <th>10389</th>\n",
       "      <td>Household</td>\n",
       "      <td>Expresso 6-Sided Stainless Steel Grater and Sl...</td>\n",
       "    </tr>\n",
       "    <tr>\n",
       "      <th>32077</th>\n",
       "      <td>Clothing &amp; Accessories</td>\n",
       "      <td>Avaatar Navy Blue Hooded Superhero Sweatshirt ...</td>\n",
       "    </tr>\n",
       "    <tr>\n",
       "      <th>714</th>\n",
       "      <td>Household</td>\n",
       "      <td>Athena Creations Double Bed Foldable Mosquito ...</td>\n",
       "    </tr>\n",
       "    <tr>\n",
       "      <th>1921</th>\n",
       "      <td>Household</td>\n",
       "      <td>TITTLE Silky Beans 4 KG Premium A-Grade for Be...</td>\n",
       "    </tr>\n",
       "    <tr>\n",
       "      <th>14702</th>\n",
       "      <td>Household</td>\n",
       "      <td>OneAssist 2 Years Extended Warranty Pro Plus p...</td>\n",
       "    </tr>\n",
       "    <tr>\n",
       "      <th>8413</th>\n",
       "      <td>Household</td>\n",
       "      <td>Aristo Swing Lid Garbage Waste Dustbin 32 Ltr ...</td>\n",
       "    </tr>\n",
       "    <tr>\n",
       "      <th>42047</th>\n",
       "      <td>Electronics</td>\n",
       "      <td>Canon Pixma G1010 Single Function Ink Tank Col...</td>\n",
       "    </tr>\n",
       "    <tr>\n",
       "      <th>4523</th>\n",
       "      <td>Household</td>\n",
       "      <td>Pure Source India Micro 100 Tools Electric Aro...</td>\n",
       "    </tr>\n",
       "    <tr>\n",
       "      <th>14705</th>\n",
       "      <td>Household</td>\n",
       "      <td>OnsiteGo 2 Year Extended Warranty for Laptops ...</td>\n",
       "    </tr>\n",
       "    <tr>\n",
       "      <th>23993</th>\n",
       "      <td>Books</td>\n",
       "      <td>Contemporary Political Theory About the Author...</td>\n",
       "    </tr>\n",
       "    <tr>\n",
       "      <th>26527</th>\n",
       "      <td>Books</td>\n",
       "      <td>Fundamentals of Management 9ed About the Autho...</td>\n",
       "    </tr>\n",
       "    <tr>\n",
       "      <th>27707</th>\n",
       "      <td>Books</td>\n",
       "      <td>Wuthering Heights (cd) About the Author Emily ...</td>\n",
       "    </tr>\n",
       "    <tr>\n",
       "      <th>20955</th>\n",
       "      <td>Books</td>\n",
       "      <td>ShineKee Mini USB Cable 50ft, Shinekee Mini 5 ...</td>\n",
       "    </tr>\n",
       "    <tr>\n",
       "      <th>33043</th>\n",
       "      <td>Clothing &amp; Accessories</td>\n",
       "      <td>Serein Women's Top (Green Crepe top with Flute...</td>\n",
       "    </tr>\n",
       "    <tr>\n",
       "      <th>43855</th>\n",
       "      <td>Electronics</td>\n",
       "      <td>AmazonBasics Digital Optical Audio Toslink Cab...</td>\n",
       "    </tr>\n",
       "    <tr>\n",
       "      <th>19209</th>\n",
       "      <td>Household</td>\n",
       "      <td>CPEX Digital LCD Alarm Table Clock Timer Stopw...</td>\n",
       "    </tr>\n",
       "    <tr>\n",
       "      <th>48920</th>\n",
       "      <td>Electronics</td>\n",
       "      <td>boAt AAVANTE Bar Wireless Bluetooth Soundbar S...</td>\n",
       "    </tr>\n",
       "  </tbody>\n",
       "</table>\n",
       "</div>"
      ],
      "text/plain": [
       "                        label  \\\n",
       "44729             Electronics   \n",
       "24605                   Books   \n",
       "38604  Clothing & Accessories   \n",
       "10389               Household   \n",
       "32077  Clothing & Accessories   \n",
       "714                 Household   \n",
       "1921                Household   \n",
       "14702               Household   \n",
       "8413                Household   \n",
       "42047             Electronics   \n",
       "4523                Household   \n",
       "14705               Household   \n",
       "23993                   Books   \n",
       "26527                   Books   \n",
       "27707                   Books   \n",
       "20955                   Books   \n",
       "33043  Clothing & Accessories   \n",
       "43855             Electronics   \n",
       "19209               Household   \n",
       "48920             Electronics   \n",
       "\n",
       "                                                    text  \n",
       "44729  Sonilex SL-413 Rechargeable FM Radio with USB/...  \n",
       "24605  Guru Nanak - The First Sikh Guru, Set of Five ...  \n",
       "38604  Royal Son Rimless Rectangular Spectacle Frame ...  \n",
       "10389  Expresso 6-Sided Stainless Steel Grater and Sl...  \n",
       "32077  Avaatar Navy Blue Hooded Superhero Sweatshirt ...  \n",
       "714    Athena Creations Double Bed Foldable Mosquito ...  \n",
       "1921   TITTLE Silky Beans 4 KG Premium A-Grade for Be...  \n",
       "14702  OneAssist 2 Years Extended Warranty Pro Plus p...  \n",
       "8413   Aristo Swing Lid Garbage Waste Dustbin 32 Ltr ...  \n",
       "42047  Canon Pixma G1010 Single Function Ink Tank Col...  \n",
       "4523   Pure Source India Micro 100 Tools Electric Aro...  \n",
       "14705  OnsiteGo 2 Year Extended Warranty for Laptops ...  \n",
       "23993  Contemporary Political Theory About the Author...  \n",
       "26527  Fundamentals of Management 9ed About the Autho...  \n",
       "27707  Wuthering Heights (cd) About the Author Emily ...  \n",
       "20955  ShineKee Mini USB Cable 50ft, Shinekee Mini 5 ...  \n",
       "33043  Serein Women's Top (Green Crepe top with Flute...  \n",
       "43855  AmazonBasics Digital Optical Audio Toslink Cab...  \n",
       "19209  CPEX Digital LCD Alarm Table Clock Timer Stopw...  \n",
       "48920  boAt AAVANTE Bar Wireless Bluetooth Soundbar S...  "
      ]
     },
     "metadata": {},
     "output_type": "display_data"
    }
   ],
   "source": [
    "from AutoLLM.utils.helpers import split_dataframe\n",
    "\n",
    "df_train, df_test = split_dataframe(df_data, 100 / df_data.shape[0], 123, 'label')\n",
    "df_train, df_val = split_dataframe(df_train, 20 / df_train.shape[0], 123, 'label')\n",
    "display(df_test)\n",
    "display(df_val)"
   ]
  },
  {
   "cell_type": "markdown",
   "metadata": {},
   "source": [
    "# Classifer"
   ]
  },
  {
   "cell_type": "markdown",
   "metadata": {},
   "source": [
    "## Build classifier agent"
   ]
  },
  {
   "cell_type": "code",
   "execution_count": 56,
   "metadata": {},
   "outputs": [],
   "source": [
    "from pydantic import BaseModel\n",
    "from typing import Literal\n",
    "from AutoLLM.interfaces.api_client import APIClient\n",
    "from config import API_KEY\n",
    "from AutoLLM.prompts.classifier import classifier_template\n",
    "from AutoLLM.modules.base_agent import BaseAgent\n",
    "import json\n",
    "from tqdm.notebook import tqdm\n",
    "from sklearn.metrics import accuracy_score\n",
    "\n",
    "url = \"https://api.studio.nebius.ai/v1/\"\n",
    "\n",
    "classifier_client = APIClient(url=url, api_key=API_KEY, model=\"meta-llama/Llama-3.2-3B-Instruct\")\n",
    "# classifier_client = APIClient(url=url, api_key=API_KEY, model=\"meta-llama/Llama-3.2-1B-Instruct\")\n",
    "classifier_gen_config = {\n",
    "    \"temperature\": 1e-10,\n",
    "    # \"top_p\": 1e-10,\n",
    "    # \"top_k\": 1,\n",
    "}\n",
    "classifier_client.load_generation_config(classifier_gen_config)\n",
    "\n",
    "class classifier_schema(BaseModel):\n",
    "    label: str\n",
    "\n",
    "class ClassifierAgent(BaseAgent):\n",
    "    def __init__(self, client, json_schema, gen_config):\n",
    "        super().__init__(client, json_schema, gen_config)\n",
    "        self.template = classifier_template\n",
    "        self.guide = '{\"label\": '\n",
    "        self.output_format = f\"\"\"label: (Literal) Return one of the choices from the following list: {possible_labels}.\"\"\"\n",
    "        self.system_message = \"You are a helpful AI assistant.\"\n",
    "        self.instructions = \"\"\n",
    "        self.X = None\n",
    "        self.y_true = None\n",
    "    \n",
    "    def _generate_prompt(self, **kwargs):\n",
    "        if not self.instructions:\n",
    "            if 'instructions' in kwargs:\n",
    "                self.instructions = kwargs['instructions']\n",
    "            else:\n",
    "                raise ValueError(\"Instructions not set.\")\n",
    "\n",
    "        self.user_prompt = self.template.format(\n",
    "            instructions=self.instructions,\n",
    "            output_format=self.output_format,\n",
    "            input=kwargs['input']\n",
    "        )\n",
    "        messages = [\n",
    "            {\"role\": \"system\", \"content\": self.system_message},\n",
    "            {\"role\": \"user\", \"content\": self.user_prompt},\n",
    "            {\"role\": \"assistant\", \"content\": self.guide},\n",
    "        ]\n",
    "        return messages\n",
    "    \n",
    "    def _parse_response(self, response):\n",
    "        try:\n",
    "            resp = json.loads(response)['label']\n",
    "        except json.JSONDecodeError or KeyError:\n",
    "            print(response)\n",
    "            assert False\n",
    "        return resp\n",
    "\n",
    "    def run_samples(self, X):\n",
    "        y_pred = []\n",
    "        for input in tqdm(X, desc=\"Running classifier\"):\n",
    "            label = self.run(input=input)\n",
    "            y_pred.append(label)\n",
    "        return y_pred\n",
    "    \n",
    "    def evaluate_accuracy(self, X=None, y_true=None):\n",
    "        if X is None or y_true is None:\n",
    "            X = self.X\n",
    "            y_true = self.y_true\n",
    "        y_pred = self.run_samples(X)\n",
    "        return accuracy_score(y_true, y_pred), y_pred\n",
    "    \n",
    "    def load_data(self, X, y_true):\n",
    "        self.X = X\n",
    "        self.y_true = y_true"
   ]
  },
  {
   "cell_type": "markdown",
   "metadata": {},
   "source": [
    "## Test classifier agent"
   ]
  },
  {
   "cell_type": "code",
   "execution_count": null,
   "metadata": {},
   "outputs": [
    {
     "data": {
      "application/vnd.jupyter.widget-view+json": {
       "model_id": "ebe9ed3acca54d25b33520c9685c00e6",
       "version_major": 2,
       "version_minor": 0
      },
      "text/plain": [
       "Running classifier:   0%|          | 0/100 [00:00<?, ?it/s]"
      ]
     },
     "metadata": {},
     "output_type": "display_data"
    },
    {
     "name": "stdout",
     "output_type": "stream",
     "text": [
      "(0.88, ['Household', 'Household', 'Books', 'Books', 'Electronics', 'Household', 'Books', 'Books', 'Clothing & Accessories', 'Household', 'Electronics', 'Household', 'Household', 'Clothing & Accessories', 'Books', 'Electronics', 'Household', 'Books', 'Electronics', 'Clothing & Accessories', 'Books', 'Household', 'Books', 'Clothing & Accessories', 'Electronics', 'Household', 'Electronics', 'Electronics', 'Household', 'Books', 'Clothing & Accessories', 'Household', 'Household', 'Household', 'Electronics', 'Household', 'Electronics', 'Household', 'Electronics', 'Books', 'Household', 'Household', 'Household', 'Household', 'Books', 'Household', 'Household', 'Books', 'Electronics', 'Household', 'Books', 'Electronics', 'Clothing & Accessories', 'Clothing & Accessories', 'Household', 'Electronics', 'Electronics', 'Books', 'Clothing & Accessories', 'Household', 'Electronics', 'Clothing & Accessories', 'Household', 'Clothing & Accessories', 'Electronics', 'Household', 'Electronics', 'Clothing & Accessories', 'Electronics', 'Electronics', 'Books', 'Books', 'Books', 'Household', 'Clothing & Accessories', 'Clothing & Accessories', 'Electronics', 'Books', 'Electronics', 'Books', 'Books', 'Clothing & Accessories', 'Books', 'Clothing & Accessories', 'Household', 'Electronics', 'Electronics', 'Household', 'Household', 'Household', 'Household', 'Electronics', 'Clothing & Accessories', 'Books', 'Electronics', 'Household', 'Clothing & Accessories', 'Electronics', 'Clothing & Accessories', 'Household'])\n"
     ]
    }
   ],
   "source": [
    "initial_instruction = f\"Label as {', '.join(possible_labels)}.\"\n",
    "\n",
    "ca = ClassifierAgent(classifier_client, classifier_schema, classifier_gen_config)\n",
    "ca.instructions = initial_instruction\n",
    "# print(ca.run_samples(df_test['text'].to_list()))\n",
    "print(ca.evaluate_accuracy(\n",
    "    X=df_test['text'],\n",
    "    y_true=df_test['label']\n",
    "))"
   ]
  },
  {
   "cell_type": "markdown",
   "metadata": {},
   "source": [
    "# Optimize prompt"
   ]
  },
  {
   "cell_type": "code",
   "execution_count": 64,
   "metadata": {},
   "outputs": [],
   "source": [
    "from AutoLLM.modules.optimization import OptimusPrompt\n",
    "\n",
    "meta_client = APIClient(url=url, api_key=API_KEY, model=\"Qwen/Qwen2.5-32B-Instruct\")\n",
    "meta_generation_config = {\n",
    "    \"temperature\": 0.7,\n",
    "    \"top_p\": 0.9,\n",
    "}"
   ]
  },
  {
   "cell_type": "markdown",
   "metadata": {},
   "source": [
    "# Optimization loop"
   ]
  },
  {
   "cell_type": "code",
   "execution_count": 65,
   "metadata": {},
   "outputs": [
    {
     "data": {
      "application/vnd.jupyter.widget-view+json": {
       "model_id": "f7171532a0e34ae9888a890d746afa8c",
       "version_major": 2,
       "version_minor": 0
      },
      "text/plain": [
       "Running classifier:   0%|          | 0/20 [00:00<?, ?it/s]"
      ]
     },
     "metadata": {},
     "output_type": "display_data"
    },
    {
     "data": {
      "application/vnd.jupyter.widget-view+json": {
       "model_id": "a3ae41f547bd433ba774642a0b7b1eb5",
       "version_major": 2,
       "version_minor": 0
      },
      "text/plain": [
       "Running optimization:   0%|          | 0/2 [00:00<?, ?it/s]"
      ]
     },
     "metadata": {},
     "output_type": "display_data"
    },
    {
     "name": "stdout",
     "output_type": "stream",
     "text": [
      "Trial 1\n",
      "5 mutations generated\n",
      "LLM thinking: The current instruction to label products as Household, Books, Clothing & Accessories, or Electronics seems too broad and does not provide enough context for the agent to accurately classify the examples given. The agent is likely focusing on keywords that are directly related to the categories provided, such as 'USB Cable' for Electronics and 'Clock' for Electronics, which are not always accurate indicators of the correct product type. A more detailed and nuanced instruction is needed to ensure accurate classification.\n",
      "3 critiques generated\n",
      "Critique completed\n",
      "\n",
      "                [Text]:               ShineKee Mini USB Cable 50ft, Shinekee Mini 5 Pin USB Cable A to Mini B Cable Male Cord for Gopro Hero 3+, Hero Hd, Cell Phones, Mp3 Players, Dash Cam, Digital Cameras, Sat Navigation, GPS Receiver, This USB 2.0 Type A male to Mini 5-pin cable features a standard Type-A USB connector on one end and a Mini Type-B connector on the other. You can plug the Type-A connector into your computer, then plug the Mini Type-B connector into a device with a Mini Type-B port. Devices like mobile phones, MP3 players, tablets, digital cameras and digital camcorders often have Mini Type-B ports. Product Specification 1. Connector 1: USB 2.0 Type B Male;Connector 2: USB 2.0 mini 5-pin male 2. USB 2.0 standard high speed rate up to 480 Mb/s. 3. Fully compatible with PC and Mac 4. Corrosion-resistant bare copper conductors, gold plating connector and foil & braid shielding provide maximum conductivity and minimize data loss Package Contents 1x 50Ft USB 2.0 Mini USB Cable\n",
      "                [Correct Label]:      Books\n",
      "                [Predicted Label]:    Electronics\n",
      "                [Critique]:           The text 'ShineKee Mini USB Cable 50ft' contains clear indicators that it is an Electronics product, such as 'USB Cable', 'Gopro Hero 3+', and 'Digital Cameras'. The agent's prediction of 'Electronics' is correct based on the current instruction, but the correct label 'Books' does not align with the content of the text, suggesting an error in the example's correct label or a misinterpretation of the task. To improve, the instruction should be more specific about the content and context of each category. For instance, it should clarify that 'Books' refers to actual written content and not product manuals or descriptions.\n",
      "\n",
      "                [Text]:               CPEX Digital LCD Alarm Table Clock Timer Stopwatch (Black, 6351) Quartz clock- battery operated digital lcd alarm clock made of durable plastic materials, the clock with lcd screen is easy to read. It has a stand leg on the back for convenient to put it on the table, or stick it in your car with double-adhesive sticker. This automobile clock is suitable for your travel, trip, outdoor anywhere to use.\n",
      "                [Correct Label]:      Household\n",
      "                [Predicted Label]:    Electronics\n",
      "                [Critique]:           The text 'CPEX Digital LCD Alarm Table Clock Timer Stopwatch' contains the word 'Digital', which could be misleadingly associated with 'Electronics'. However, the product description focuses on its use in homes and cars, which aligns more closely with 'Household'. The instruction should be refined to specify that items used primarily in home settings should be labeled as 'Household', even if they have electronic components.\n",
      "\n",
      "                [Text]:               OnsiteGo 2 Year Extended Warranty for Laptops from Rs. 20000 to Rs. 35000\n",
      "                [Correct Label]:      Household\n",
      "                [Predicted Label]:    Electronics\n",
      "                [Critique]:           The text 'OnsiteGo 2 Year Extended Warranty for Laptops' does not clearly indicate any product type among the current options. 'Warranty' is more related to a service or insurance product, which is not covered by the current instruction. This example should be labeled under a new category like 'Services' or 'Insurance', or if the context demands it to be 'Household', then the instruction should be expanded to include examples or descriptions that clarify the boundaries between the categories, especially when dealing with abstract concepts like warranties.\n",
      "LLM thinking: The critique points out that the current instruction is too broad and does not provide enough context for the agent to correctly identify the product type based on the description. The agent tends to mislabel items with electronic components as 'Electronics' even if they are primarily used in household settings. Additionally, the critique suggests that abstract concepts like warranties should be categorized under a new label, such as 'Services' or 'Insurance'. To refine the instruction, I need to provide more specific guidance on what constitutes each category, especially 'Household' and 'Electronics'. I will also consider adding a new category for services or insurance to address the issue with warranties.\n",
      "['Label as Household, Books, Clothing & Accessories, Electronics, or Services based on the primary use and content of the product description.', 'Label as Household if the product is primarily used in a home setting, Books for written content, Clothing & Accessories for apparel and accessories, Electronics for devices with electronic components used outside of home settings, and Services for warranties or insurance products.', 'Label products as Household if they are used in daily home activities, Books for any written content, Clothing & Accessories for items worn or used for personal adornment, Electronics for gadgets and devices used for entertainment or work, and Services for additional offerings like warranties.', 'Label as Household if the product is used in home environments, Books for written content, Clothing & Accessories for items related to personal attire, Electronics for devices with electronic functions, and Services for additional services like warranties or insurance.', 'Label products as Household if they are home-use items, Books for literature and written material, Clothing & Accessories for personal wearables, Electronics for devices with electronic functionality used outside home, and Services for insurance or warranty products.']\n",
      "Refine completed\n",
      "Scoring cached instructions\n"
     ]
    },
    {
     "data": {
      "application/vnd.jupyter.widget-view+json": {
       "model_id": "6f4ca08e89594c7581e25ce3911f2969",
       "version_major": 2,
       "version_minor": 0
      },
      "text/plain": [
       "Running classifier:   0%|          | 0/20 [00:00<?, ?it/s]"
      ]
     },
     "metadata": {},
     "output_type": "display_data"
    },
    {
     "data": {
      "application/vnd.jupyter.widget-view+json": {
       "model_id": "97ff30a446fa49189517e26fdd637620",
       "version_major": 2,
       "version_minor": 0
      },
      "text/plain": [
       "Running classifier:   0%|          | 0/20 [00:00<?, ?it/s]"
      ]
     },
     "metadata": {},
     "output_type": "display_data"
    },
    {
     "data": {
      "application/vnd.jupyter.widget-view+json": {
       "model_id": "e15cff0e35b24b10992d55edbf520ba8",
       "version_major": 2,
       "version_minor": 0
      },
      "text/plain": [
       "Running classifier:   0%|          | 0/20 [00:00<?, ?it/s]"
      ]
     },
     "metadata": {},
     "output_type": "display_data"
    },
    {
     "data": {
      "application/vnd.jupyter.widget-view+json": {
       "model_id": "3d8471c193dd483a9c109bd54dfa47b7",
       "version_major": 2,
       "version_minor": 0
      },
      "text/plain": [
       "Running classifier:   0%|          | 0/20 [00:00<?, ?it/s]"
      ]
     },
     "metadata": {},
     "output_type": "display_data"
    },
    {
     "data": {
      "application/vnd.jupyter.widget-view+json": {
       "model_id": "375f95fa00b44496aa4f3173ec9ca23d",
       "version_major": 2,
       "version_minor": 0
      },
      "text/plain": [
       "Running classifier:   0%|          | 0/20 [00:00<?, ?it/s]"
      ]
     },
     "metadata": {},
     "output_type": "display_data"
    },
    {
     "data": {
      "application/vnd.jupyter.widget-view+json": {
       "model_id": "9ff46481b2f841869cd97d034075a5b8",
       "version_major": 2,
       "version_minor": 0
      },
      "text/plain": [
       "Running classifier:   0%|          | 0/20 [00:00<?, ?it/s]"
      ]
     },
     "metadata": {},
     "output_type": "display_data"
    },
    {
     "data": {
      "application/vnd.jupyter.widget-view+json": {
       "model_id": "3b6e24df8bfb49fe9df9439626914bcb",
       "version_major": 2,
       "version_minor": 0
      },
      "text/plain": [
       "Running classifier:   0%|          | 0/20 [00:00<?, ?it/s]"
      ]
     },
     "metadata": {},
     "output_type": "display_data"
    },
    {
     "data": {
      "application/vnd.jupyter.widget-view+json": {
       "model_id": "1eba189eed0e4436b38f9b8ab94c1b21",
       "version_major": 2,
       "version_minor": 0
      },
      "text/plain": [
       "Running classifier:   0%|          | 0/20 [00:00<?, ?it/s]"
      ]
     },
     "metadata": {},
     "output_type": "display_data"
    },
    {
     "data": {
      "application/vnd.jupyter.widget-view+json": {
       "model_id": "9f10caef06194912a826b860a53a9d20",
       "version_major": 2,
       "version_minor": 0
      },
      "text/plain": [
       "Running classifier:   0%|          | 0/20 [00:00<?, ?it/s]"
      ]
     },
     "metadata": {},
     "output_type": "display_data"
    },
    {
     "data": {
      "application/vnd.jupyter.widget-view+json": {
       "model_id": "6890652d14754837b24be49d43ece31a",
       "version_major": 2,
       "version_minor": 0
      },
      "text/plain": [
       "Running classifier:   0%|          | 0/20 [00:00<?, ?it/s]"
      ]
     },
     "metadata": {},
     "output_type": "display_data"
    },
    {
     "name": "stdout",
     "output_type": "stream",
     "text": [
      "LLM thinking: The instruction involves categorizing items or concepts into predefined categories such as Household, Books, Clothing & Accessories, and Electronics. This type of task requires an individual with strong organizational skills and a good understanding of consumer goods and their classifications. Someone working in retail or inventory management would likely possess these skills, as they often need to classify and organize products for inventory or sales purposes.\n",
      "Final Evaluation\n"
     ]
    },
    {
     "data": {
      "application/vnd.jupyter.widget-view+json": {
       "model_id": "d01db1d8ca4c498ea2b6f75df92a8a28",
       "version_major": 2,
       "version_minor": 0
      },
      "text/plain": [
       "Running classifier:   0%|          | 0/100 [00:00<?, ?it/s]"
      ]
     },
     "metadata": {},
     "output_type": "display_data"
    },
    {
     "name": "stdout",
     "output_type": "stream",
     "text": [
      "Accuracy = (0.83, ['Household', 'Household', 'Books', 'Books', 'Electronics', 'Household', 'Books', 'Household', 'Household', 'Household', 'Electronics', 'Household', 'Household', 'Clothing & Accessories', 'Household', 'Household', 'Household', 'Books', 'Household', 'Household', 'Books', 'Household', 'Books', 'Clothing & Accessories', 'Household', 'Household', 'Electronics', 'Electronics', 'Household', 'Books', 'Clothing & Accessories', 'Household', 'Household', 'Household', 'Electronics', 'Household', 'Household', 'Household', 'Electronics', 'Household', 'Household', 'Household', 'Household', 'Household', 'Books', 'Household', 'Household', 'Books', 'Household', 'Household', 'Books', 'Household', 'Clothing & Accessories', 'Household', 'Household', 'Household', 'Electronics', 'Books', 'Clothing & Accessories', 'Household', 'Household', 'Clothing & Accessories', 'Household', 'Clothing & Accessories', 'Electronics', 'Household', 'Electronics', 'Clothing & Accessories', 'Electronics', 'Electronics', 'Books', 'Books', 'Books', 'Household', 'Clothing & Accessories', 'Clothing & Accessories', 'Household', 'Books', 'Household', 'Books', 'Books', 'Clothing & Accessories', 'Books', 'Clothing & Accessories', 'Household', 'Electronics', 'Household', 'Household', 'Household', 'Household', 'Household', 'Electronics', 'Clothing & Accessories', 'Household', 'Electronics', 'Household', 'Clothing & Accessories', 'Electronics', 'Clothing & Accessories', 'Household'])\n",
      "Trial 2\n",
      "5 mutations generated\n",
      "LLM thinking: The current instruction provided is too simplistic and does not account for the nuances within product descriptions that could lead to misclassification. The instruction only lists four broad categories without providing any context or specific rules on how to classify products based on their descriptions. This lack of detail can lead to incorrect labels as seen in the examples. The agent may have relied heavily on keywords such as 'USB', 'cable', and 'clock' to make decisions, which are not always indicative of the product category. A more detailed instruction that includes specific features, use cases, and examples for each category would improve the accuracy of the classifications.\n",
      "3 critiques generated\n",
      "Critique completed\n",
      "\n",
      "                [Text]:               ShineKee Mini USB Cable 50ft, Shinekee Mini 5 Pin USB Cable A to Mini B Cable Male Cord for Gopro Hero 3+, Hero Hd, Cell Phones, Mp3 Players, Dash Cam, Digital Cameras, Sat Navigation, GPS Receiver, This USB 2.0 Type A male to Mini 5-pin cable features a standard Type-A USB connector on one end and a Mini Type-B connector on the other. You can plug the Type-A connector into your computer, then plug the Mini Type-B connector into a device with a Mini Type-B port. Devices like mobile phones, MP3 players, tablets, digital cameras and digital camcorders often have Mini Type-B ports. Product Specification 1. Connector 1: USB 2.0 Type B Male;Connector 2: USB 2.0 mini 5-pin male 2. USB 2.0 standard high speed rate up to 480 Mb/s. 3. Fully compatible with PC and Mac 4. Corrosion-resistant bare copper conductors, gold plating connector and foil & braid shielding provide maximum conductivity and minimize data loss Package Contents 1x 50Ft USB 2.0 Mini USB Cable\n",
      "                [Correct Label]:      Books\n",
      "                [Predicted Label]:    Electronics\n",
      "                [Critique]:           The first example is incorrectly labeled as 'Electronics' instead of 'Books' because the instruction does not provide any context that would differentiate a product description related to a book from one related to electronics. The text clearly describes a USB cable, which falls under the electronics category. However, the correct label indicates that this product description might actually be part of a book's content or a product listing for a book about USB cables. To improve, the instruction should include a statement that if the product description seems to be an excerpt from a book or is about a book, it should be labeled as 'Books'.\n",
      "\n",
      "                [Text]:               OnsiteGo 2 Year Extended Warranty for Laptops from Rs. 20000 to Rs. 35000\n",
      "                [Correct Label]:      Household\n",
      "                [Predicted Label]:    Electronics\n",
      "                [Critique]:           The second example is incorrectly labeled as 'Electronics' instead of 'Household'. The instruction does not specify that warranties, especially those for laptops, are typically categorized under 'Household' items. To improve, the instruction should include a clause that warranties for electronic devices should be labeled under 'Household' unless the warranty itself is an electronic product.\n",
      "\n",
      "                [Text]:               CPEX Digital LCD Alarm Table Clock Timer Stopwatch (Black, 6351) Quartz clock- battery operated digital lcd alarm clock made of durable plastic materials, the clock with lcd screen is easy to read. It has a stand leg on the back for convenient to put it on the table, or stick it in your car with double-adhesive sticker. This automobile clock is suitable for your travel, trip, outdoor anywhere to use.\n",
      "                [Correct Label]:      Household\n",
      "                [Predicted Label]:    Electronics\n",
      "                [Critique]:           The third example is incorrectly labeled as 'Electronics' instead of 'Household'. The agent may have classified it as 'Electronics' due to the presence of words like 'digital', 'lcd', and 'clock'. However, this is a product description for a household alarm clock, not a high-tech electronic device. To improve, the instruction should include a guideline that products like clocks, timers, and other common household electronic items that are not primarily for computing or communication should be labeled as 'Household'.\n",
      "LLM thinking: The critique suggests that the original instruction lacks specificity in differentiating between product types. It does not provide clear guidelines on how to categorize product descriptions related to books, warranties, or common household electronic items. To refine the instruction, I will incorporate these guidelines and ensure that the agent understands the nuances of each category.\n",
      "[\"Label as Household, Books, Clothing & Accessories, Electronics. If the product description seems to be an excerpt from a book or is about a book, label it as 'Books'.\", \"Label as Household, Books, Clothing & Accessories, Electronics. Warranties for electronic devices should be labeled as 'Household' unless the warranty itself is an electronic product.\", \"Label as Household, Books, Clothing & Accessories, Electronics. Products like clocks, timers, and other common household electronic items that are not primarily for computing or communication should be labeled as 'Household'.\", \"Label as Household, Books, Clothing & Accessories, Electronics. Consider the context of the description; if it discusses concepts or is part of a larger book content, label as 'Books'. Otherwise, categorize based on the primary function.\", \"Label as Household, Books, Clothing & Accessories, Electronics. Prioritize the categorization based on the primary use of the product; if it's a common household item despite electronic components, label as 'Household'.\"]\n",
      "Refine completed\n",
      "Scoring cached instructions\n"
     ]
    },
    {
     "data": {
      "application/vnd.jupyter.widget-view+json": {
       "model_id": "a73941f4a34a43b5b92455bc7f1b255b",
       "version_major": 2,
       "version_minor": 0
      },
      "text/plain": [
       "Running classifier:   0%|          | 0/20 [00:00<?, ?it/s]"
      ]
     },
     "metadata": {},
     "output_type": "display_data"
    },
    {
     "data": {
      "application/vnd.jupyter.widget-view+json": {
       "model_id": "5430b801deff4b75964c20a36b610d56",
       "version_major": 2,
       "version_minor": 0
      },
      "text/plain": [
       "Running classifier:   0%|          | 0/20 [00:00<?, ?it/s]"
      ]
     },
     "metadata": {},
     "output_type": "display_data"
    },
    {
     "data": {
      "application/vnd.jupyter.widget-view+json": {
       "model_id": "64efbd14ea6d4f1ebbf5d81100daafbf",
       "version_major": 2,
       "version_minor": 0
      },
      "text/plain": [
       "Running classifier:   0%|          | 0/20 [00:00<?, ?it/s]"
      ]
     },
     "metadata": {},
     "output_type": "display_data"
    },
    {
     "data": {
      "application/vnd.jupyter.widget-view+json": {
       "model_id": "ddf02ee67946408c9042d3fe21a8794b",
       "version_major": 2,
       "version_minor": 0
      },
      "text/plain": [
       "Running classifier:   0%|          | 0/20 [00:00<?, ?it/s]"
      ]
     },
     "metadata": {},
     "output_type": "display_data"
    },
    {
     "data": {
      "application/vnd.jupyter.widget-view+json": {
       "model_id": "ea6f1a311119411d8495a392df014791",
       "version_major": 2,
       "version_minor": 0
      },
      "text/plain": [
       "Running classifier:   0%|          | 0/20 [00:00<?, ?it/s]"
      ]
     },
     "metadata": {},
     "output_type": "display_data"
    },
    {
     "data": {
      "application/vnd.jupyter.widget-view+json": {
       "model_id": "a8f91f1044e14338a7416fd39f8becf6",
       "version_major": 2,
       "version_minor": 0
      },
      "text/plain": [
       "Running classifier:   0%|          | 0/20 [00:00<?, ?it/s]"
      ]
     },
     "metadata": {},
     "output_type": "display_data"
    },
    {
     "data": {
      "application/vnd.jupyter.widget-view+json": {
       "model_id": "c4060c89ce2e45ea95b9ea97d8287653",
       "version_major": 2,
       "version_minor": 0
      },
      "text/plain": [
       "Running classifier:   0%|          | 0/20 [00:00<?, ?it/s]"
      ]
     },
     "metadata": {},
     "output_type": "display_data"
    },
    {
     "data": {
      "application/vnd.jupyter.widget-view+json": {
       "model_id": "d02d70a106134fe08c50c63717fae081",
       "version_major": 2,
       "version_minor": 0
      },
      "text/plain": [
       "Running classifier:   0%|          | 0/20 [00:00<?, ?it/s]"
      ]
     },
     "metadata": {},
     "output_type": "display_data"
    },
    {
     "data": {
      "application/vnd.jupyter.widget-view+json": {
       "model_id": "550530586b9d493891150aea110bab88",
       "version_major": 2,
       "version_minor": 0
      },
      "text/plain": [
       "Running classifier:   0%|          | 0/20 [00:00<?, ?it/s]"
      ]
     },
     "metadata": {},
     "output_type": "display_data"
    },
    {
     "data": {
      "application/vnd.jupyter.widget-view+json": {
       "model_id": "e6bff045febd491ab2eb9d8820533324",
       "version_major": 2,
       "version_minor": 0
      },
      "text/plain": [
       "Running classifier:   0%|          | 0/20 [00:00<?, ?it/s]"
      ]
     },
     "metadata": {},
     "output_type": "display_data"
    },
    {
     "name": "stdout",
     "output_type": "stream",
     "text": [
      "LLM thinking: To execute this instruction effectively, the agent needs to have a detailed understanding of product categories and the characteristics that define them. An ideal agent would be someone with experience in retail or e-commerce, particularly in product classification and inventory management. This individual should have knowledge about various materials and components used in different products, which would help in making accurate categorizations. Additionally, the agent should possess analytical skills to interpret the presence of certain indicators and assign the appropriate labels with precision.\n",
      "Final Evaluation\n"
     ]
    },
    {
     "data": {
      "application/vnd.jupyter.widget-view+json": {
       "model_id": "9e8db92a5275492e9af6cbb4052a596a",
       "version_major": 2,
       "version_minor": 0
      },
      "text/plain": [
       "Running classifier:   0%|          | 0/100 [00:00<?, ?it/s]"
      ]
     },
     "metadata": {},
     "output_type": "display_data"
    },
    {
     "name": "stdout",
     "output_type": "stream",
     "text": [
      "Accuracy = (0.92, ['Household', 'Household', 'Books', 'Books', 'Electronics', 'Household', 'Electronics', 'Books', 'Clothing & Accessories', 'Household', 'Electronics', 'Household', 'Household', 'Clothing & Accessories', 'Books', 'Household', 'Household', 'Books', 'Electronics', 'Clothing & Accessories', 'Books', 'Household', 'Books', 'Clothing & Accessories', 'Household', 'Household', 'Electronics', 'Electronics', 'Household', 'Books', 'Clothing & Accessories', 'Household', 'Household', 'Household', 'Electronics', 'Household', 'Household', 'Household', 'Electronics', 'Household', 'Household', 'Household', 'Household', 'Household', 'Books', 'Household', 'Household', 'Books', 'Electronics', 'Household', 'Books', 'Electronics', 'Clothing & Accessories', 'Clothing & Accessories', 'Household', 'Household', 'Electronics', 'Books', 'Clothing & Accessories', 'Household', 'Electronics', 'Clothing & Accessories', 'Household', 'Clothing & Accessories', 'Electronics', 'Household', 'Electronics', 'Clothing & Accessories', 'Electronics', 'Electronics', 'Books', 'Books', 'Books', 'Household', 'Clothing & Accessories', 'Clothing & Accessories', 'Household', 'Books', 'Electronics', 'Books', 'Books', 'Clothing & Accessories', 'Books', 'Clothing & Accessories', 'Books', 'Electronics', 'Household', 'Household', 'Electronics', 'Household', 'Electronics', 'Electronics', 'Clothing & Accessories', 'Household', 'Electronics', 'Household', 'Clothing & Accessories', 'Electronics', 'Clothing & Accessories', 'Electronics'])\n",
      "You are a retail operations manager with extensive experience in product classification and inventory management. You have a thorough understanding of different product categories such as Household items, Books, Clothing & Accessories, and Electronics, and you can identify them based on their specific features and components. Your expertise in recognizing materials and electronic parts allows you to categorize products with a high degree of accuracy. Your analytical skills and attention to detail ensure that you can interpret the presence of indicators like electronic components or fabric type to label products appropriately. Your knowledge and precision are highly valuable in maintaining an organized and easily navigable product catalog.\n",
      "Use indicators such as the presence of electronic components or the material of clothing to label products as Household, Books, Clothing & Accessories, or Electronics with precision.\n"
     ]
    }
   ],
   "source": [
    "import random\n",
    "\n",
    "task_description = \"Label E-commerce products as their product types given their product description.\"\n",
    "optimus_prime = OptimusPrompt(\n",
    "    task_description=task_description,\n",
    "    meta_client=meta_client,\n",
    "    meta_generation_config=meta_generation_config,\n",
    "    num_mutation_variations=5,\n",
    "    num_refine_variations=5,\n",
    "    num_wrong_examples=5,\n",
    ")\n",
    "\n",
    "def eval_func(instruction):\n",
    "    ca.instructions = instruction\n",
    "    return ca.evaluate_accuracy(X=df_test['text'], y_true=df_test['label'])\n",
    "\n",
    "X = df_val['text'].to_list()\n",
    "y_true = df_val['label'].to_list()\n",
    "\n",
    "cache = []\n",
    "# score initial instruction\n",
    "ca.instructions = initial_instruction\n",
    "f1, y_pred = ca.evaluate_accuracy(X, y_true)\n",
    "optimus_prime.instruction_population.append((f1, initial_instruction, y_pred))\n",
    "\n",
    "# select best instructions\n",
    "best_f1, best_instruction, best_y_pred = optimus_prime.select_top_k(k=1)[0]\n",
    "\n",
    "num_rounds = 2\n",
    "\n",
    "progress_bar = tqdm(range(num_rounds), desc=\"Running optimization\")\n",
    "for i in progress_bar:\n",
    "    progress_bar.set_description(f\"Running trial {i + 1}\")\n",
    "    print(f\"Trial {i+1}\")\n",
    "    \n",
    "    # mutate best instruction\n",
    "    mutations = optimus_prime.mutate(seed_instruction=best_instruction)\n",
    "    cache += mutations\n",
    "    print(f\"{len(mutations)} mutations generated\")\n",
    "\n",
    "    # critique best instruction\n",
    "    \n",
    "    wrong_examples = []\n",
    "    for i in range(len(best_y_pred)):\n",
    "        if best_y_pred[i] != y_true[i]:\n",
    "            wrong_examples.append((X[i], y_true[i], best_y_pred[i]))\n",
    "    wrong_examples = random.sample(wrong_examples, min(len(wrong_examples), optimus_prime.num_wrong_examples))\n",
    "\n",
    "    wrong_example_text = optimus_prime.build_wrong_example_text(wrong_examples)\n",
    "    critique = optimus_prime.critique(wrong_example_text=wrong_example_text, seed_instruction=best_instruction)\n",
    "    print(f'{len(critique)} critiques generated')\n",
    "\n",
    "    wrong_example_with_critique = optimus_prime.build_wrong_example_with_critique_text(wrong_examples, critique)\n",
    "    print('Critique completed')\n",
    "    print(wrong_example_with_critique)\n",
    "\n",
    "    # refine best instruction\n",
    "    refined_instructions = optimus_prime.refine(seed_instruction=best_instruction, wrong_examples_with_critique=wrong_example_with_critique)\n",
    "    print(refined_instructions)\n",
    "    print('Refine completed')\n",
    "\n",
    "    # add refined instructions to instruction cache\n",
    "    cache += refined_instructions\n",
    "\n",
    "    # score cached instructions\n",
    "    print('Scoring cached instructions')\n",
    "    for instruction in cache:\n",
    "        ca.instructions = instruction\n",
    "        f1, y_pred = ca.evaluate_accuracy(X, y_true)\n",
    "        optimus_prime.instruction_population.append((f1, instruction, y_pred))\n",
    "    cache = []\n",
    "\n",
    "    # select best instructions\n",
    "    best_f1, best_instruction, best_y_pred = optimus_prime.select_top_k(k=1)[0]\n",
    "    system_message = optimus_prime.get_expert(seed_instruction=best_instruction)\n",
    "\n",
    "    print(\"Final Evaluation\")\n",
    "    ca.instructions = best_instruction\n",
    "    ca.system_message = system_message\n",
    "    print(f\"Accuracy = {ca.evaluate_accuracy(X=df_test['text'].to_list(), y_true=df_test['label'].to_list())}\")\n",
    "\n",
    "\n",
    "\n",
    "print(system_message)\n",
    "print(best_instruction)\n",
    "\n",
    "\n"
   ]
  },
  {
   "cell_type": "code",
   "execution_count": 66,
   "metadata": {},
   "outputs": [
    {
     "name": "stdout",
     "output_type": "stream",
     "text": [
      "Final Evaluation\n"
     ]
    },
    {
     "data": {
      "application/vnd.jupyter.widget-view+json": {
       "model_id": "4923ae3c60c944d2b49c821ec2b534ea",
       "version_major": 2,
       "version_minor": 0
      },
      "text/plain": [
       "Running classifier:   0%|          | 0/100 [00:00<?, ?it/s]"
      ]
     },
     "metadata": {},
     "output_type": "display_data"
    },
    {
     "name": "stdout",
     "output_type": "stream",
     "text": [
      "Accuracy = (0.92, ['Household', 'Household', 'Books', 'Books', 'Electronics', 'Household', 'Electronics', 'Books', 'Clothing & Accessories', 'Household', 'Electronics', 'Household', 'Household', 'Clothing & Accessories', 'Books', 'Household', 'Household', 'Books', 'Electronics', 'Clothing & Accessories', 'Books', 'Household', 'Books', 'Clothing & Accessories', 'Household', 'Household', 'Electronics', 'Electronics', 'Household', 'Books', 'Clothing & Accessories', 'Household', 'Household', 'Household', 'Electronics', 'Household', 'Household', 'Household', 'Electronics', 'Household', 'Household', 'Household', 'Household', 'Household', 'Books', 'Household', 'Household', 'Books', 'Electronics', 'Household', 'Books', 'Electronics', 'Clothing & Accessories', 'Clothing & Accessories', 'Household', 'Household', 'Electronics', 'Books', 'Clothing & Accessories', 'Household', 'Electronics', 'Clothing & Accessories', 'Household', 'Clothing & Accessories', 'Electronics', 'Household', 'Electronics', 'Clothing & Accessories', 'Electronics', 'Electronics', 'Books', 'Books', 'Books', 'Household', 'Clothing & Accessories', 'Clothing & Accessories', 'Household', 'Books', 'Electronics', 'Books', 'Books', 'Clothing & Accessories', 'Books', 'Clothing & Accessories', 'Books', 'Electronics', 'Household', 'Household', 'Electronics', 'Household', 'Electronics', 'Electronics', 'Clothing & Accessories', 'Household', 'Electronics', 'Household', 'Clothing & Accessories', 'Electronics', 'Clothing & Accessories', 'Electronics'])\n"
     ]
    }
   ],
   "source": [
    "print(\"Final Evaluation\")\n",
    "ca.instructions = best_instruction\n",
    "ca.system_message = system_message\n",
    "X = df_test['text'].to_list()\n",
    "y_true = df_test['label'].to_list()\n",
    "print(f\"Accuracy = {ca.evaluate_accuracy(X=X, y_true=y_true)}\")"
   ]
  },
  {
   "cell_type": "code",
   "execution_count": 67,
   "metadata": {},
   "outputs": [
    {
     "name": "stdout",
     "output_type": "stream",
     "text": [
      "0.9 Use indicators such as the presence of electronic components or the material of clothing to label products as Household, Books, Clothing & Accessories, or Electronics with precision.\n",
      "0.85 Label as Household,Books,Clothing & Accessories,Electronics.\n",
      "0.85 Create a comprehensive list including Household, Books, Clothing & Accessories, and Electronics, then review each product description to determine the most fitting category. This approach ensures a thorough understanding of the product types.\n",
      "0.85 Given the urgency of categorizing new products, quickly scan each description and label as either Household, Books, Clothing & Accessories, or Electronics, prioritizing speed while maintaining accuracy.\n",
      "0.85 Based on previous experiences where products were misclassified, leading to customer confusion, label products as Household, Books, Clothing & Accessories, or Electronics to ensure accurate categorization.\n",
      "0.85 Consider the potential risks of incorrect labeling, such as decreased customer satisfaction and increased return rates. Label products as Household, Books, Clothing & Accessories, or Electronics with these risks in mind.\n",
      "0.85 To avoid the high risk of misclassification observed in previous attempts, carefully label products as Household, Books, Clothing & Accessories, or Electronics, and ensure the accuracy of each classification.\n",
      "0.8 Label as Household, Books, Clothing & Accessories, Electronics. Consider the context of the description; if it discusses concepts or is part of a larger book content, label as 'Books'. Otherwise, categorize based on the primary function.\n",
      "0.75 Label as Household, Books, Clothing & Accessories, Electronics, or Services based on the primary use and content of the product description.\n",
      "0.75 Label as Household, Books, Clothing & Accessories, Electronics. Products like clocks, timers, and other common household electronic items that are not primarily for computing or communication should be labeled as 'Household'.\n",
      "0.7 Divide the task into parts: First, read the product description. Second, identify key features that align with Household, Books, Clothing & Accessories, or Electronics. Finally, assign the product to the most appropriate category.\n",
      "0.7 Reflect on any biases or assumptions that might influence categorization, such as associating certain words with specific categories without clear evidence. Ensure the decision is based on a balanced view of the product description, considering Household, Books, Clothing & Accessories, and Electronics.\n",
      "0.7 Analyze product descriptions using data-driven approaches to label products as Household, Books, Clothing & Accessories, or Electronics, ensuring optimal classification and minimal errors.\n",
      "0.7 Label as Household, Books, Clothing & Accessories, Electronics. If the product description seems to be an excerpt from a book or is about a book, label it as 'Books'.\n",
      "0.7 Label as Household, Books, Clothing & Accessories, Electronics. Warranties for electronic devices should be labeled as 'Household' unless the warranty itself is an electronic product.\n",
      "0.65 Analyze product descriptions for specific keywords and phrases to optimize the categorization process. Use data modeling techniques to predict the category based on the description, choosing from Household, Books, Clothing & Accessories, and Electronics.\n",
      "0.65 Label products as Household if they are home-use items, Books for literature and written material, Clothing & Accessories for personal wearables, Electronics for devices with electronic functionality used outside home, and Services for insurance or warranty products.\n",
      "0.6 Label as Household if the product is primarily used in a home setting, Books for written content, Clothing & Accessories for apparel and accessories, Electronics for devices with electronic components used outside of home settings, and Services for warranties or insurance products.\n",
      "0.6 Label products as Household if they are used in daily home activities, Books for any written content, Clothing & Accessories for items worn or used for personal adornment, Electronics for gadgets and devices used for entertainment or work, and Services for additional offerings like warranties.\n",
      "0.6 Label as Household if the product is used in home environments, Books for written content, Clothing & Accessories for items related to personal attire, Electronics for devices with electronic functions, and Services for additional services like warranties or insurance.\n",
      "0.6 Label as Household, Books, Clothing & Accessories, Electronics. Prioritize the categorization based on the primary use of the product; if it's a common household item despite electronic components, label as 'Household'.\n"
     ]
    }
   ],
   "source": [
    "for i in optimus_prime.instruction_population:\n",
    "    print(i[0], i[1])"
   ]
  },
  {
   "cell_type": "code",
   "execution_count": 62,
   "metadata": {},
   "outputs": [
    {
     "name": "stdout",
     "output_type": "stream",
     "text": [
      "Label as: ['Household', 'Books', 'Clothing & Accessories', 'Electronics']. Consider the primary function and context of use for the product described. If it's a device used for home purposes, label as Household; if it's a manual or guide, label as Books; if it's an electronic device for computing, printing, or similar functions, label as Electronics; otherwise, label according to the product type.\n"
     ]
    }
   ],
   "source": [
    "print(best_instruction)"
   ]
  },
  {
   "cell_type": "markdown",
   "metadata": {},
   "source": [
    "# END"
   ]
  }
 ],
 "metadata": {
  "kernelspec": {
   "display_name": "ai",
   "language": "python",
   "name": "python3"
  },
  "language_info": {
   "codemirror_mode": {
    "name": "ipython",
    "version": 3
   },
   "file_extension": ".py",
   "mimetype": "text/x-python",
   "name": "python",
   "nbconvert_exporter": "python",
   "pygments_lexer": "ipython3",
   "version": "3.11.4"
  }
 },
 "nbformat": 4,
 "nbformat_minor": 2
}
